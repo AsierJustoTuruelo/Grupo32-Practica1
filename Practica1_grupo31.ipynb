{
  "nbformat": 4,
  "nbformat_minor": 0,
  "metadata": {
    "colab": {
      "provenance": [],
      "toc_visible": true
    },
    "kernelspec": {
      "name": "python3",
      "display_name": "Python 3"
    },
    "language_info": {
      "name": "python"
    }
  },
  "cells": [
    {
      "cell_type": "markdown",
      "source": [
        "Indice: \n",
        "  - Introduccion\n",
        "  - Codigo\n",
        "  - Conclusion"
      ],
      "metadata": {
        "id": "wsKduA-7x0Gt"
      }
    },
    {
      "cell_type": "markdown",
      "source": [
        "# INTRODUCCION"
      ],
      "metadata": {
        "id": "MmRYRKq9yJVH"
      }
    },
    {
      "cell_type": "markdown",
      "source": [
        "# CODIGO"
      ],
      "metadata": {
        "id": "k_lcg8bnyRNh"
      }
    },
    {
      "cell_type": "markdown",
      "source": [
        "# CONCLUSION"
      ],
      "metadata": {
        "id": "mOJ_1Vw1yUSJ"
      }
    }
  ]
}