{
  "nbformat": 4,
  "nbformat_minor": 0,
  "metadata": {
    "colab": {
      "provenance": []
    },
    "kernelspec": {
      "name": "python3",
      "display_name": "Python 3"
    },
    "language_info": {
      "name": "python"
    }
  },
  "cells": [
    {
      "cell_type": "code",
      "source": [
        "import pandas as pd\n",
        "import joblib\n",
        "import numpy as np\n",
        "from sklearn.preprocessing import StandardScaler\n"
      ],
      "metadata": {
        "id": "jTT1LqdvY9yz"
      },
      "execution_count": null,
      "outputs": []
    },
    {
      "cell_type": "code",
      "execution_count": null,
      "metadata": {
        "colab": {
          "base_uri": "https://localhost:8080/"
        },
        "id": "VEgqjQQaYveL",
        "outputId": "4aa5c4ae-30a9-4735-89ab-a2b88afd265c"
      },
      "outputs": [
        {
          "output_type": "stream",
          "name": "stdout",
          "text": [
            "Mounted at /content/gdrive\n"
          ]
        }
      ],
      "source": [
        "from google.colab import drive\n",
        "drive.mount('/content/gdrive', force_remount=True)\n",
        "import os\n",
        "# Cambia el directorio donde tengas los tutoriales con el fichero \"tennis.txt\"\n",
        "os.chdir(\"/content/gdrive/MyDrive\")"
      ]
    },
    {
      "cell_type": "code",
      "source": [
        "# Cargar datos de la competición (comp)\n",
        "comp = pd.read_csv('comp_st32ns1.txt')\n",
        "# Eliminar la columna \"Unnamed: 0\" si es necesario\n",
        "\n",
        "if 'Unnamed: 0' in comp.columns:\n",
        "    comp = comp.drop(columns=['Unnamed: 0'])\n",
        "\n",
        "print(comp.head())\n",
        "# Cargar el modelo final\n",
        "modelo_final = joblib.load(\"modelo_final.pkl\")\n",
        "\n",
        "comp = comp.values\n",
        "\n",
        "# Hacer las predicciones utilizando el modelo final\n",
        "predicciones = modelo_final.predict(comp)\n",
        "\n",
        "# Crear un DataFrame con las predicciones y guardarlas en un archivo csv llamado \"predicciones.csv\"\n",
        "predicciones_df = pd.DataFrame({\"salida\": predicciones})\n",
        "predicciones_df.to_csv(\"predicciones.csv\", index=False)\n",
        "\n",
        "\n"
      ],
      "metadata": {
        "colab": {
          "base_uri": "https://localhost:8080/"
        },
        "id": "avyD79dQY4s6",
        "outputId": "d7758a99-4993-4e0a-e564-602cf7c79198"
      },
      "execution_count": null,
      "outputs": [
        {
          "output_type": "stream",
          "name": "stdout",
          "text": [
            "   apcp_sf1_1  apcp_sf2_1  apcp_sf3_1  apcp_sf4_1  apcp_sf5_1  dlwrf_s1_1  \\\n",
            "0         0.0         0.0         0.0         0.0         0.0  264.404993   \n",
            "1         0.0         0.0         0.0         0.0         0.0  269.839558   \n",
            "2         0.0         0.0         0.0         0.0         0.0  265.093084   \n",
            "3         0.0         0.0         0.0         0.0         0.0  291.567519   \n",
            "4         0.0         0.0         0.0         0.0         0.0  284.410475   \n",
            "\n",
            "   dlwrf_s2_1  dlwrf_s3_1  dlwrf_s4_1  dlwrf_s5_1  ...  ulwrf_t1_1  \\\n",
            "0  265.176447  274.072549  298.442300  295.562503  ...  251.914279   \n",
            "1  273.718425  272.429246  270.640994  270.124564  ...  264.443099   \n",
            "2  259.488156  263.916984  290.541923  297.158564  ...  203.245346   \n",
            "3  299.329082  311.864347  315.423531  306.858570  ...  222.001243   \n",
            "4  272.156741  276.074693  289.969050  287.617587  ...  247.749420   \n",
            "\n",
            "   ulwrf_t2_1  ulwrf_t3_1  ulwrf_t4_1  ulwrf_t5_1  uswrf_s1_1  uswrf_s2_1  \\\n",
            "0  246.054718  253.885438  275.669941  269.541093         0.0   10.000000   \n",
            "1  214.907146  233.809210  271.757444  261.100930         0.0    5.272727   \n",
            "2  223.864476  241.115553  244.413043  220.823646         0.0    9.000000   \n",
            "3  216.448202  212.023654  268.623654  278.188399         0.0    5.181818   \n",
            "4  256.513931  257.649066  274.864757  273.339575         0.0    8.909091   \n",
            "\n",
            "   uswrf_s3_1  uswrf_s4_1  uswrf_s5_1  \n",
            "0   46.000000   96.000000   63.727273  \n",
            "1   43.272727  100.545455   66.636364  \n",
            "2   46.909091   90.909091   56.363636  \n",
            "3   32.363636   94.000000   64.454545  \n",
            "4   44.636364   97.090909   65.363636  \n",
            "\n",
            "[5 rows x 75 columns]\n"
          ]
        }
      ]
    }
  ]
}