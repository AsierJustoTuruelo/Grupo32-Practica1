{
  "cells": [
    {
      "cell_type": "markdown",
      "metadata": {
        "id": "wsKduA-7x0Gt"
      },
      "source": [
        "Indice: \n",
        "  - Introduccion\n",
        "  - Codigo\n",
        "  - Conclusion"
      ]
    },
    {
      "cell_type": "markdown",
      "metadata": {
        "id": "MmRYRKq9yJVH"
      },
      "source": [
        "# INTRODUCCION"
      ]
    },
    {
      "cell_type": "markdown",
      "metadata": {
        "id": "lo4FBu8h8871"
      },
      "source": [
        "Utilizaremos dataset \"disp_st31ns1.txt\" para entrenar\n",
        "\n",
        "1.   List item\n",
        "2.   List item\n",
        "\n"
      ]
    },
    {
      "cell_type": "markdown",
      "source": [
        "# Exploracion de datos"
      ],
      "metadata": {
        "id": "wo1mjPpEVe_9"
      }
    },
    {
      "cell_type": "markdown",
      "source": [
        "(0.25 puntos) Hacer un Análisis Exploratorio de Datos (EDA)."
      ],
      "metadata": {
        "id": "rqaP4UJlV_pj"
      }
    },
    {
      "cell_type": "markdown",
      "source": [
        "Pablo:"
      ],
      "metadata": {
        "id": "P9m71NcDWBj8"
      }
    },
    {
      "cell_type": "markdown",
      "metadata": {
        "id": "k_lcg8bnyRNh"
      },
      "source": [
        "# Metodos basicos"
      ]
    },
    {
      "cell_type": "markdown",
      "metadata": {
        "id": "Az5AqTrH-Kdy"
      },
      "source": [
        "Creo que el codigo final va en otro notebook, pero lo hacemos aqui de mientras"
      ]
    },
    {
      "cell_type": "code",
      "execution_count": null,
      "metadata": {
        "colab": {
          "base_uri": "https://localhost:8080/"
        },
        "id": "OzAZHhVeAyjI",
        "outputId": "d61eb2bc-8adb-408a-db9d-2d7323f25f59"
      },
      "outputs": [
        {
          "output_type": "stream",
          "name": "stdout",
          "text": [
            "Looking in indexes: https://pypi.org/simple, https://us-python.pkg.dev/colab-wheels/public/simple/\n",
            "Collecting linear-tree\n",
            "  Downloading linear_tree-0.3.5-py3-none-any.whl (21 kB)\n",
            "Requirement already satisfied: scikit-learn>=0.24.2 in /usr/local/lib/python3.9/dist-packages (from linear-tree) (1.2.1)\n",
            "Requirement already satisfied: scipy in /usr/local/lib/python3.9/dist-packages (from linear-tree) (1.10.1)\n",
            "Requirement already satisfied: numpy in /usr/local/lib/python3.9/dist-packages (from linear-tree) (1.22.4)\n",
            "Requirement already satisfied: threadpoolctl>=2.0.0 in /usr/local/lib/python3.9/dist-packages (from scikit-learn>=0.24.2->linear-tree) (3.1.0)\n",
            "Requirement already satisfied: joblib>=1.1.1 in /usr/local/lib/python3.9/dist-packages (from scikit-learn>=0.24.2->linear-tree) (1.2.0)\n",
            "Installing collected packages: linear-tree\n",
            "Successfully installed linear-tree-0.3.5\n",
            "Looking in indexes: https://pypi.org/simple, https://us-python.pkg.dev/colab-wheels/public/simple/\n",
            "Requirement already satisfied: statsmodels in /usr/local/lib/python3.9/dist-packages (0.13.5)\n",
            "Requirement already satisfied: packaging>=21.3 in /usr/local/lib/python3.9/dist-packages (from statsmodels) (23.0)\n",
            "Requirement already satisfied: patsy>=0.5.2 in /usr/local/lib/python3.9/dist-packages (from statsmodels) (0.5.3)\n",
            "Requirement already satisfied: scipy>=1.3 in /usr/local/lib/python3.9/dist-packages (from statsmodels) (1.10.1)\n",
            "Requirement already satisfied: pandas>=0.25 in /usr/local/lib/python3.9/dist-packages (from statsmodels) (1.3.5)\n",
            "Requirement already satisfied: numpy>=1.17 in /usr/local/lib/python3.9/dist-packages (from statsmodels) (1.22.4)\n",
            "Requirement already satisfied: python-dateutil>=2.7.3 in /usr/local/lib/python3.9/dist-packages (from pandas>=0.25->statsmodels) (2.8.2)\n",
            "Requirement already satisfied: pytz>=2017.3 in /usr/local/lib/python3.9/dist-packages (from pandas>=0.25->statsmodels) (2022.7.1)\n",
            "Requirement already satisfied: six in /usr/local/lib/python3.9/dist-packages (from patsy>=0.5.2->statsmodels) (1.15.0)\n"
          ]
        }
      ],
      "source": [
        "# Instalamos las lib que no esten en jupyter\n",
        "# Para visualizar arboles\n",
        "!pip install --upgrade linear-tree\n",
        "\n",
        "!pip install statsmodels"
      ]
    },
    {
      "cell_type": "markdown",
      "metadata": {
        "id": "3eGk7zpTXN4o"
      },
      "source": [
        "Se hacen los imports"
      ]
    },
    {
      "cell_type": "code",
      "execution_count": null,
      "metadata": {
        "id": "6mYg5jMIVS_r"
      },
      "outputs": [],
      "source": [
        "from sklearn.model_selection import train_test_split\n",
        "from sklearn.neighbors import KNeighborsRegressor\n",
        "from sklearn.tree import DecisionTreeRegressor\n",
        "from sklearn.linear_model import LinearRegression\n",
        "from sklearn.metrics import mean_squared_error, mean_absolute_error\n",
        "from sklearn.model_selection import cross_val_score\n",
        "from sklearn.model_selection import GridSearchCV\n",
        "from sklearn.preprocessing import StandardScaler\n",
        "from sklearn.pipeline import Pipeline\n",
        "from sklearn.pipeline import make_pipeline\n",
        "import pandas as pd\n",
        "from sklearn.decomposition import PCA\n",
        "import numpy as np\n",
        "import warnings\n",
        "import matplotlib.pyplot as plt\n",
        "import time # ya que se pide que se mida el tiempo de ejecucion\n",
        "from sklearn.metrics import r2_score\n",
        "from sklearn.svm import SVR\n",
        "from sklearn.ensemble import RandomForestRegressor\n",
        "from sklearn import svm\n",
        "from sklearn.model_selection import RandomizedSearchCV\n",
        "from sklearn.feature_selection import SelectKBest, f_regression"
      ]
    },
    {
      "cell_type": "markdown",
      "metadata": {
        "id": "oyHZxphfXQfO"
      },
      "source": [
        "Se lodean los datos y se divide en entrenamiento y en test"
      ]
    },
    {
      "cell_type": "code",
      "execution_count": null,
      "metadata": {
        "colab": {
          "base_uri": "https://localhost:8080/"
        },
        "id": "ToSrNB8MmFie",
        "outputId": "eefe906a-2306-4a7e-a026-97d8c5d14cb3"
      },
      "outputs": [
        {
          "output_type": "stream",
          "name": "stdout",
          "text": [
            "Mounted at /content/gdrive\n"
          ]
        }
      ],
      "source": [
        "from google.colab import drive\n",
        "drive.mount('/content/gdrive', force_remount=True)\n",
        "import os\n",
        "# Cambia el directorio donde tengas los tutoriales con el fichero \"tennis.txt\"\n",
        "os.chdir(\"/content/gdrive/MyDrive\")"
      ]
    },
    {
      "cell_type": "code",
      "execution_count": null,
      "metadata": {
        "id": "n6YXrs70XZzH",
        "colab": {
          "base_uri": "https://localhost:8080/"
        },
        "outputId": "b8edad29-5868-4725-9b6e-cf1b540fce64"
      },
      "outputs": [
        {
          "output_type": "stream",
          "name": "stdout",
          "text": [
            "   apcp_sf1_1  apcp_sf2_1  apcp_sf3_1  apcp_sf4_1  apcp_sf5_1  dlwrf_s1_1  \\\n",
            "0    0.000000         0.0         0.0    0.000000    0.000000  278.401764   \n",
            "1    0.000000         0.0         0.0    0.016364    0.132727  249.362233   \n",
            "2    0.016364         0.0         0.0    0.000000    0.000000  233.007274   \n",
            "3    0.000000         0.0         0.0    0.000000    0.000000  240.408503   \n",
            "4    0.000000         0.0         0.0    0.000000    0.000000  232.071838   \n",
            "\n",
            "   dlwrf_s2_1  dlwrf_s3_1  dlwrf_s4_1  dlwrf_s5_1  ...  ulwrf_t2_1  \\\n",
            "0  246.423459  251.719940  268.195853  266.377441  ...  251.322657   \n",
            "1  255.096853  273.618458  320.441742  310.292719  ...  232.640081   \n",
            "2  215.177840  217.951275  237.074578  238.476496  ...  235.374191   \n",
            "3  237.441999  247.948128  255.274556  245.349503  ...  239.098594   \n",
            "4  237.108869  245.123549  267.031791  267.845553  ...  232.888478   \n",
            "\n",
            "   ulwrf_t3_1  ulwrf_t4_1  ulwrf_t5_1  uswrf_s1_1  uswrf_s2_1  uswrf_s3_1  \\\n",
            "0  254.851178  263.160586  259.249662         0.0   10.000000   47.000000   \n",
            "1  230.209094  209.561145  213.962007         0.0    7.818182   32.454545   \n",
            "2  236.571659  231.450058  227.529466         0.0   15.818182   84.909091   \n",
            "3  241.216754  247.927582  245.231042         0.0    9.000000   38.363636   \n",
            "4  238.498259  254.946371  252.837046         0.0    9.000000   45.909091   \n",
            "\n",
            "   uswrf_s4_1  uswrf_s5_1    salida  \n",
            "0   98.818182   66.000000  11334600  \n",
            "1   50.545455   33.727273   5243700  \n",
            "2  170.181818  109.909091   4653900  \n",
            "3   88.909091   61.727273   4513200  \n",
            "4   97.909091   65.818182  11169600  \n",
            "\n",
            "[5 rows x 76 columns]\n"
          ]
        }
      ],
      "source": [
        "# Cargar los datos\n",
        "data = pd.read_csv('disp_st32ns1.txt')\n",
        "\n",
        "# Eliminar la columna \"Unnamed: 0\" si es necesario\n",
        "if 'Unnamed: 0' in data.columns:\n",
        "    data = data.drop(columns=['Unnamed: 0'])\n",
        "\n",
        "print(data.head())\n",
        "\n",
        "# Separar la variable de salida del resto de variables de entrada\n",
        "X = data.iloc[:, :-1].values\n",
        "y = data.iloc[:, -1].values\n",
        "\n",
        "# Separa los datos en conjuntos de entrenamiento y prueba\n",
        "X_train, X_test, y_train, y_test = train_test_split(X, y, test_size=0.2, random_state=12)\n",
        "# Separa los datos de entrenamiento en conjuntos de entrenamiento y validación\n",
        "#X_train, X_val, y_train, y_val = train_test_split(X_train, y_train, test_size=0.2, random_state=12)\n",
        "\n"
      ]
    },
    {
      "cell_type": "markdown",
      "metadata": {
        "id": "6jZRXMCqckBU"
      },
      "source": [
        "## Valores por defecto"
      ]
    },
    {
      "cell_type": "markdown",
      "metadata": {
        "id": "dD6dS8syXp12"
      },
      "source": [
        "Evaluar en KNN"
      ]
    },
    {
      "cell_type": "code",
      "source": [
        "# Crear modelo de KNN sin especificar hiperparámetros\n",
        "knn = KNeighborsRegressor()\n",
        "\n",
        "# Medir tiempo de entrenamiento con los datos de entrenamiento\n",
        "start_time = time.time()\n",
        "knn.fit(X_train, y_train)\n",
        "train_time_knn = time.time() - start_time\n",
        "\n",
        "# Evaluar modelo utilizando validación cruzada\n",
        "rmse_knn = np.sqrt(-cross_val_score(knn, X_train, y_train, cv=5, scoring='neg_mean_squared_error')).mean()\n",
        "mae_knn = -cross_val_score(knn, X_train, y_train, cv=5, scoring='neg_mean_absolute_error').mean()\n",
        "r2_knn = cross_val_score(knn, X_train, y_train, cv=5, scoring='r2').mean()\n",
        "\n",
        "# Mostrar resultados\n",
        "print(\"KNN (por omisión):\\n\", \"RMSE:\", rmse_knn, \"\\n\", \"MAE:\", mae_knn, \"\\n\", \"r2:\", r2_knn, \"\\n\", \"Tiempo de entrenamiento knn:\", train_time_knn)\n"
      ],
      "metadata": {
        "colab": {
          "base_uri": "https://localhost:8080/"
        },
        "id": "4cBBoJ2uDX94",
        "outputId": "e702f325-a283-4019-8fe0-7375032cc911"
      },
      "execution_count": null,
      "outputs": [
        {
          "output_type": "stream",
          "name": "stdout",
          "text": [
            "KNN (por omisión):\n",
            " RMSE: 4102958.9895420386 \n",
            " MAE: 3010597.278359242 \n",
            " r2: 0.73826108975653 \n",
            " Tiempo de entrenamiento knn: 0.005337238311767578\n"
          ]
        }
      ]
    },
    {
      "cell_type": "markdown",
      "metadata": {
        "id": "Cdo9fqQ6XxPe"
      },
      "source": [
        "Con arboles de regresion"
      ]
    },
    {
      "cell_type": "code",
      "source": [
        "# arbol de regresion con validacion cruzada\n",
        "decision_tree = DecisionTreeRegressor()\n",
        "\n",
        "# Evaluar modelo con 3 mediciones\n",
        "# se mide el tiempo\n",
        "start_time = time.time()\n",
        "decision_tree.fit(X_train, y_train)\n",
        "train_time_tree = time.time() - start_time\n",
        "\n",
        "rmse_tree = np.sqrt(-cross_val_score(decision_tree, X_train, y_train, cv=5, scoring='neg_mean_squared_error')).mean()\n",
        "mae_tree= -cross_val_score(decision_tree, X_train, y_train, cv=5, scoring='neg_mean_absolute_error').mean()\n",
        "r2_tree = cross_val_score(decision_tree, X_train, y_train, cv=5, scoring='r2').mean()\n",
        "\n",
        "print(\"Árbol de regresión:\\n\", \"RMSE:\", rmse_tree, \"\\n\", \"MAE:\", mae_tree, \"\\n\", \"r2:\", r2_tree, \"\\n\", \"Tiempo de entrenamiento tree:\", train_time_tree)\n"
      ],
      "metadata": {
        "colab": {
          "base_uri": "https://localhost:8080/"
        },
        "id": "uMa_6xYWDqA3",
        "outputId": "b8c6b036-3c60-4642-84e2-b7f9b365ff50"
      },
      "execution_count": null,
      "outputs": [
        {
          "output_type": "stream",
          "name": "stdout",
          "text": [
            "Árbol de regresión:\n",
            " RMSE: 4779680.626062239 \n",
            " MAE: 3269617.4788000816 \n",
            " r2: 0.6485627201604555 \n",
            " Tiempo tree: 0.4185812473297119\n"
          ]
        }
      ]
    },
    {
      "cell_type": "markdown",
      "metadata": {
        "id": "K5QKXsVeX2LW"
      },
      "source": [
        "Con regresion lineal"
      ]
    },
    {
      "cell_type": "code",
      "source": [
        "# Crear modelo de regresión lineal\n",
        "linear_regression = LinearRegression()\n",
        "\n",
        "# Evaluar modelo con 3 mediciones\n",
        "# se mide el tiempo\n",
        "start_time = time.time()\n",
        "linear_regression.fit(X_train, y_train)\n",
        "train_time_lr = time.time() - start_time\n",
        "\n",
        "rmse_lr = np.sqrt(-cross_val_score(linear_regression, X_train, y_train, cv=5, scoring='neg_mean_squared_error')).mean()\n",
        "mae_lr = -cross_val_score(linear_regression, X_train, y_train, cv=5, scoring='neg_mean_absolute_error').mean()\n",
        "r2_lr = cross_val_score(linear_regression, X_train, y_train, cv=5, scoring='r2').mean()\n",
        "\n",
        "print(\"Regresión lineal:\\n\", \"RMSE:\", rmse_lr, \"\\n\", \"MAE:\", mae_lr, \"\\n\", \"r2:\", r2_lr, \"\\n\", \"Tiempo entrenamiento lr:\", train_time_lr)"
      ],
      "metadata": {
        "colab": {
          "base_uri": "https://localhost:8080/"
        },
        "id": "fms7Wa8fEKz3",
        "outputId": "44ae1641-53a2-4c63-d466-5a7a678f7c38"
      },
      "execution_count": null,
      "outputs": [
        {
          "output_type": "stream",
          "name": "stdout",
          "text": [
            "Regresión lineal:\n",
            " RMSE: 3346827.6800511293 \n",
            " MAE: 2429928.463861069 \n",
            " r2: 0.8256597892099332 \n",
            " Tiempo lr: 0.05768179893493652\n"
          ]
        }
      ]
    },
    {
      "cell_type": "markdown",
      "metadata": {
        "id": "GfC4XZWdczFm"
      },
      "source": [
        "### Comparacion entre las tres ejecuciones"
      ]
    },
    {
      "cell_type": "code",
      "execution_count": null,
      "metadata": {
        "colab": {
          "base_uri": "https://localhost:8080/",
          "height": 1000
        },
        "id": "6mNI7MXDWohW",
        "outputId": "139f7ef2-55f6-4053-81d3-fd8bfed08b22"
      },
      "outputs": [
        {
          "output_type": "display_data",
          "data": {
            "text/plain": [
              "<Figure size 432x288 with 1 Axes>"
            ],
            "image/png": "[encoded data removed]"
          },
          "metadata": {
            "needs_background": "light"
          }
        },
        {
          "output_type": "stream",
          "name": "stdout",
          "text": [
            "\n",
            "\n"
          ]
        },
        {
          "output_type": "display_data",
          "data": {
            "text/plain": [
              "<Figure size 432x288 with 1 Axes>"
            ],
            "image/png": "[encoded data removed]"
          },
          "metadata": {
            "needs_background": "light"
          }
        },
        {
          "output_type": "stream",
          "name": "stdout",
          "text": [
            "\n",
            "\n"
          ]
        },
        {
          "output_type": "display_data",
          "data": {
            "text/plain": [
              "<Figure size 432x288 with 1 Axes>"
            ],
            "image/png": "[encoded data removed]"
          },
          "metadata": {
            "needs_background": "light"
          }
        },
        {
          "output_type": "stream",
          "name": "stdout",
          "text": [
            "\n",
            "\n"
          ]
        },
        {
          "output_type": "display_data",
          "data": {
            "text/plain": [
              "<Figure size 432x288 with 1 Axes>"
            ],
            "image/png": "[encoded data removed]"
          },
          "metadata": {
            "needs_background": "light"
          }
        }
      ],
      "source": [
        "# Graficar errores de RMSE\n",
        "plt.bar(['KNN', 'Árboles de regresión', 'Regresión lineal'], [rmse_knn, rmse_tree, rmse_lr])\n",
        "plt.title('Comparación de errores de RMSE (mas bajo mejor)')\n",
        "plt.xlabel('Modelo')\n",
        "plt.ylabel('RMSE')\n",
        "plt.show()\n",
        "print(\"\\n\")\n",
        "\n",
        "# Graficar errores de MAE\n",
        "plt.bar(['KNN', 'Árboles de regresión', 'Regresión lineal'], [mae_knn, mae_tree, mae_lr])\n",
        "plt.title('Comparación de errores de MAE (mas bajo mejor)')\n",
        "plt.xlabel('Modelo')\n",
        "plt.ylabel('MAE')\n",
        "plt.show()\n",
        "print(\"\\n\")\n",
        "\n",
        "# Graficar error de r2\n",
        "# Graficar errores de RMSE\n",
        "plt.bar(['KNN', 'Árboles de regresión', 'Regresión lineal'], [r2_knn, r2_tree, r2_lr])\n",
        "plt.title('Comparación de errores de r2 (mas alto mejor)')\n",
        "plt.xlabel('Modelo')\n",
        "plt.ylabel('r2')\n",
        "plt.show()\n",
        "print(\"\\n\")\n",
        "\n",
        "\n",
        "# Para los tiempos de entrenaimiento\n",
        "# Crear una lista con los tiempos de entrenamiento de los tres modelos\n",
        "train_times = [train_time_knn, train_time_tree, train_time_lr]\n",
        "\n",
        "# Crear una figura y un eje\n",
        "fig, ax = plt.subplots()\n",
        "\n",
        "# Graficar los tiempos de entrenamiento de los tres modelos\n",
        "ax.bar(['KNN', 'Árbol de regresión', 'Regresión lineal'], train_times)\n",
        "\n",
        "# Agregar etiquetas y título\n",
        "ax.set_xlabel('Modelo')\n",
        "ax.set_ylabel('Tiempo de entrenamiento (segundos)')\n",
        "ax.set_title('Comparación de tiempos de entrenamiento de los modelos (mas bajo mejor)')\n",
        "\n",
        "# Mostrar la figura\n",
        "plt.show()\n",
        "\n"
      ]
    },
    {
      "cell_type": "markdown",
      "metadata": {
        "id": "y0RVeg1AT3RD"
      },
      "source": [
        "Como se puede observar el mejor es el de regresión lineal con los parámetros por defecto, es el que menos error tiene en ambas mediciones respecto a los otros dos. Esto puede deberse a que las variables de entrada pueden tener una relacion lineal con la de salida o porque los datos contienen ruido, lo que hace que a regresión lineal pueda producir una mejor predicción que KNN y árboles de regresión debido a su simplicidad. Los modelos más flexibles como KNN y árboles de regresión suelen ser más sensibles al ruido y producir una peor predicción. Sin embargo, no es el más rápido, ya que el KNN con los parametros por defecto es el mas rapido de los tres puede ser debido a que es un modelo no paramétrico y no requiere un proceso de entrenamiento intensivo."
      ]
    },
    {
      "cell_type": "markdown",
      "metadata": {
        "id": "RGYoHCq6WZMH"
      },
      "source": [
        "## Ajuste de hiperparametros"
      ]
    },
    {
      "cell_type": "markdown",
      "metadata": {
        "id": "Z4BmQ40NX-yv"
      },
      "source": [
        "Ajuste de hiperparametros en KNN"
      ]
    },
    {
      "cell_type": "code",
      "execution_count": null,
      "metadata": {
        "colab": {
          "base_uri": "https://localhost:8080/"
        },
        "id": "Gb2EiQShX_hn",
        "outputId": "632ccb62-e557-4437-830a-45c4a7ec6a86"
      },
      "outputs": [
        {
          "output_type": "stream",
          "name": "stdout",
          "text": [
            "KNN:\n",
            " Best parameters: {'n_neighbors': 11, 'p': 1, 'weights': 'distance'} \n",
            " RMSE: 3776068.0010622824 \n",
            " MAE: 2759706.5037047444 \n",
            " r2: 0.7782691357160341\n",
            "Tiempo de entrenamiento: 194.26882004737854\n"
          ]
        }
      ],
      "source": [
        "# Crear modelo de KNN\n",
        "knn = KNeighborsRegressor()\n",
        "\n",
        "# Definir grid de parámetros\n",
        "param_grid = {\n",
        "    'n_neighbors': [3, 5, 7, 9, 11],\n",
        "    'weights': ['uniform', 'distance'],\n",
        "    'p': [1, 2, 3]\n",
        "}\n",
        "\n",
        "# Realizar búsqueda de hiperparámetros\n",
        "knn_grid = GridSearchCV(knn, param_grid=param_grid, cv=5, scoring='neg_mean_squared_error')\n",
        "\n",
        "# Medir tiempo de entrenamiento\n",
        "start_time = time.time()\n",
        "\n",
        "knn_grid.fit(X_train, y_train)\n",
        "\n",
        "# Calcular tiempo de entrenamiento\n",
        "train_time_knn_op = time.time() - start_time\n",
        "\n",
        "# Obtener los mejores parámetros\n",
        "knn_best_params = knn_grid.best_params_\n",
        "\n",
        "# Entrenar modelo con los mejores parámetros\n",
        "knn = KNeighborsRegressor(**knn_best_params)\n",
        "knn.fit(X_train, y_train)\n",
        "\n",
        "# Evaluar modelo con 3 mediciones\n",
        "rmse_knn_op = np.sqrt(-cross_val_score(knn, X_train, y_train, cv=5, scoring='neg_mean_squared_error')).mean()\n",
        "mae_knn_op = -cross_val_score(knn, X_train, y_train, cv=5, scoring='neg_mean_absolute_error').mean()\n",
        "r2_knn_op = cross_val_score(knn, X_train, y_train, cv=5, scoring='r2').mean()\n",
        "\n",
        "\n",
        "print(\"KNN:\\n\", \"Best parameters:\", knn_best_params, \"\\n\", \"RMSE:\", rmse_knn_op, \"\\n\", \"MAE:\", mae_knn_op, \"\\n\", \"r2:\", r2_knn_op)\n",
        "print('Tiempo de entrenamiento:', train_time_knn_op)"
      ]
    },
    {
      "cell_type": "markdown",
      "metadata": {
        "id": "oXQ3nHDiYTUH"
      },
      "source": [
        "Ajuste de hiperparametros en un arbol de regresion"
      ]
    },
    {
      "cell_type": "code",
      "execution_count": null,
      "metadata": {
        "colab": {
          "base_uri": "https://localhost:8080/"
        },
        "id": "jYaAd0dZYV1o",
        "outputId": "453775e6-daec-4d09-c74c-6d1aee966c44"
      },
      "outputs": [
        {
          "output_type": "stream",
          "name": "stdout",
          "text": [
            "Árbol de Regresión:\n",
            " Best parameters: {'max_depth': 5, 'max_features': None, 'min_samples_leaf': 10, 'min_samples_split': 2} \n",
            " RMSE: 3772726.516540396 \n",
            " MAE: 2714859.4913808065 \n",
            " r2: 0.7799316101304561\n",
            "Tiempo de entrenamiento: 124.86138033866882\n"
          ]
        }
      ],
      "source": [
        "# Crear modelo de Árbol de Regresión\n",
        "tree = DecisionTreeRegressor(random_state=12)\n",
        "\n",
        "# Definir grid de parámetros\n",
        "param_grid = {\n",
        "    'max_depth': [None, 1, 2, 3, 4, 5, 10, 15, 20],\n",
        "    'min_samples_split': [2, 5, 10, 15, 20],\n",
        "    'min_samples_leaf': [1, 2, 5, 10],\n",
        "    'max_features': [None, 'sqrt', 'log2']\n",
        "}\n",
        "\n",
        "# Realizar búsqueda de hiperparámetros\n",
        "tree_grid = GridSearchCV(tree, param_grid=param_grid, cv=5, scoring='neg_mean_squared_error')\n",
        "\n",
        "# Medir tiempo de entrenamiento\n",
        "start_time = time.time()\n",
        "\n",
        "tree_grid.fit(X_train, y_train)\n",
        "\n",
        "# Calcular tiempo de entrenamiento\n",
        "train_time_tree_op = time.time() - start_time\n",
        "\n",
        "# Obtener los mejores parámetros\n",
        "tree_best_params = tree_grid.best_params_\n",
        "\n",
        "# Entrenar modelo con los mejores parámetros\n",
        "tree = DecisionTreeRegressor(**tree_best_params, random_state=12)\n",
        "tree.fit(X_train, y_train)\n",
        "\n",
        "# Evaluar modelo con 3 mediciones\n",
        "rmse_tree_op = np.sqrt(-cross_val_score(tree, X_train, y_train, cv=5, scoring='neg_mean_squared_error')).mean()\n",
        "mae_tree_op = -cross_val_score(tree, X_train, y_train, cv=5, scoring='neg_mean_absolute_error').mean()\n",
        "r2_tree_op = cross_val_score(tree, X_train, y_train, cv=5, scoring='r2').mean()\n",
        "\n",
        "print(\"Árbol de Regresión:\\n\", \"Best parameters:\", tree_best_params, \"\\n\", \"RMSE:\", rmse_tree_op, \"\\n\", \"MAE:\", mae_tree_op, \"\\n\", \"r2:\", r2_tree_op)\n",
        "print('Tiempo de entrenamiento:', train_time_tree_op)"
      ]
    },
    {
      "cell_type": "markdown",
      "metadata": {
        "id": "kvmwju2ta2Zl"
      },
      "source": [
        "Ajuste de hiperparametros en regresion lineal"
      ]
    },
    {
      "cell_type": "code",
      "execution_count": null,
      "metadata": {
        "colab": {
          "base_uri": "https://localhost:8080/"
        },
        "id": "itix0UVkEZXa",
        "outputId": "1e63cc0a-c7e1-43eb-f8b1-fc19ecf7c9c3"
      },
      "outputs": [
        {
          "output_type": "stream",
          "name": "stdout",
          "text": [
            "Best parameters: {'copy_X': True, 'fit_intercept': False, 'n_jobs': -1}\n",
            "MAE: 2399256.1578154964\n",
            "RMSE: 3321414.3378868\n",
            "r2: 0.8292878225493443\n",
            "Tiempo de entrenamiento: 0.028561830520629883\n"
          ]
        }
      ],
      "source": [
        "# Define los hiperparámetros para ajustar\n",
        "params = {'fit_intercept': [True, False],\n",
        "          'copy_X': [True, False],\n",
        "          'n_jobs': [-1,1]}\n",
        "\n",
        "# Define el modelo de regresión lineal\n",
        "model = LinearRegression()\n",
        "\n",
        "# Realiza la búsqueda de cuadrícula\n",
        "lr_grid = GridSearchCV(model, params, cv=5, scoring='neg_mean_absolute_error', refit=True)\n",
        "lr_grid.fit(X_train, y_train)\n",
        "\n",
        "# Obtiene los valores óptimos de los hiperparámetros\n",
        "best_params = lr_grid.best_params_\n",
        "\n",
        "# Crea un nuevo modelo de regresión lineal utilizando los valores óptimos de los hiperparámetros\n",
        "model_best = LinearRegression(**best_params)\n",
        "\n",
        "# Medir tiempo de entrenamiento\n",
        "start_time = time.time()\n",
        "\n",
        "# Ajusta el modelo utilizando todo el conjunto de entrenamiento\n",
        "model_best.fit(X_train, y_train)\n",
        "\n",
        "# Calcular tiempo de entrenamiento\n",
        "train_time_lr_op = time.time() - start_time\n",
        "\n",
        "\n",
        "# Calcula el MAE y RMSE y r2 del modelo ajustado con los valores óptimos de los hiperparámetros\n",
        "# Evaluar modelo con 3 mediciones\n",
        "rmse_lr_op = np.sqrt(-cross_val_score(model_best, X_train, y_train, cv=5, scoring='neg_mean_squared_error')).mean()\n",
        "mae_lr_op = -cross_val_score(model_best, X_train, y_train, cv=5, scoring='neg_mean_absolute_error').mean()\n",
        "r2_lr_op = cross_val_score(model_best, X_train, y_train, cv=5, scoring='r2').mean()\n",
        "\n",
        "\n",
        "print(\"Best parameters:\", best_params)\n",
        "print(\"MAE:\", mae_lr_op)\n",
        "print(\"RMSE:\", rmse_lr_op)\n",
        "print(\"r2:\", r2_lr_op)\n",
        "print('Tiempo de entrenamiento:', train_time_lr_op)\n",
        "\n"
      ]
    },
    {
      "cell_type": "markdown",
      "metadata": {
        "id": "Y007SvlZhEUm"
      },
      "source": [
        "A continuacion se muestra la misma grafica pero con los valores optimizados"
      ]
    },
    {
      "cell_type": "code",
      "execution_count": null,
      "metadata": {
        "colab": {
          "base_uri": "https://localhost:8080/",
          "height": 1000
        },
        "id": "Bi_v7O8Cg4Tq",
        "outputId": "08ff24b5-3965-4737-e2dd-31dba1d79a84"
      },
      "outputs": [
        {
          "output_type": "display_data",
          "data": {
            "text/plain": [
              "<Figure size 432x288 with 1 Axes>"
            ],
            "image/png": "[encoded data removed]"
          },
          "metadata": {
            "needs_background": "light"
          }
        },
        {
          "output_type": "stream",
          "name": "stdout",
          "text": [
            "\n",
            "\n"
          ]
        },
        {
          "output_type": "display_data",
          "data": {
            "text/plain": [
              "<Figure size 432x288 with 1 Axes>"
            ],
            "image/png": "[encoded data removed]"
          },
          "metadata": {
            "needs_background": "light"
          }
        },
        {
          "output_type": "stream",
          "name": "stdout",
          "text": [
            "\n",
            "\n"
          ]
        },
        {
          "output_type": "display_data",
          "data": {
            "text/plain": [
              "<Figure size 432x288 with 1 Axes>"
            ],
            "image/png": "[encoded data removed]"
          },
          "metadata": {
            "needs_background": "light"
          }
        },
        {
          "output_type": "stream",
          "name": "stdout",
          "text": [
            "\n",
            "\n"
          ]
        },
        {
          "output_type": "display_data",
          "data": {
            "text/plain": [
              "<Figure size 432x288 with 1 Axes>"
            ],
            "image/png": "[encoded data removed]"
          },
          "metadata": {
            "needs_background": "light"
          }
        }
      ],
      "source": [
        "# Graficar errores de RMSE\n",
        "plt.bar(['KNN', 'Árboles de regresión', 'Regresión lineal'], [rmse_knn_op, rmse_tree_op, rmse_lr_op])\n",
        "plt.title('Comparación de errores de RMSE (mejor mas bajo)')\n",
        "plt.xlabel('Modelo')\n",
        "plt.ylabel('RMSE')\n",
        "plt.show()\n",
        "print(\"\\n\")\n",
        "\n",
        "# Graficar errores de MAE\n",
        "plt.bar(['KNN', 'Árboles de regresión', 'Regresión lineal'], [mae_knn_op, mae_tree_op, mae_lr_op])\n",
        "plt.title('Comparación de errores de MAE (mejor mas bajo)')\n",
        "plt.xlabel('Modelo')\n",
        "plt.ylabel('MAE')\n",
        "plt.show()\n",
        "print(\"\\n\")\n",
        "\n",
        "# Graficar errores de r2\n",
        "plt.bar(['KNN', 'Árboles de regresión', 'Regresión lineal'], [r2_knn_op, r2_tree_op, r2_lr_op])\n",
        "plt.title('Comparación de errores de r2 (mejor mas alto)')\n",
        "plt.xlabel('Modelo')\n",
        "plt.ylabel('r2')\n",
        "plt.show()\n",
        "print(\"\\n\")\n",
        "\n",
        "\n",
        "# Para los tiempos de entrenaimiento\n",
        "# Crear una lista con los tiempos de entrenamiento de los tres modelos\n",
        "train_times = [train_time_knn_op, train_time_tree_op, train_time_lr_op]\n",
        "\n",
        "# Crear una figura y un eje\n",
        "fig, ax = plt.subplots()\n",
        "\n",
        "# Graficar los tiempos de entrenamiento de los tres modelos\n",
        "ax.bar(['KNN', 'Árbol de regresión', 'Regresión lineal'], train_times)\n",
        "\n",
        "# Agregar etiquetas y título\n",
        "ax.set_xlabel('Modelo')\n",
        "ax.set_ylabel('Tiempo de entrenamiento (segundos)')\n",
        "ax.set_title('Comparación de tiempos de entrenamiento de los modelos')\n",
        "\n",
        "# Mostrar la figura\n",
        "plt.show()"
      ]
    },
    {
      "cell_type": "markdown",
      "metadata": {
        "id": "8kG41Gilcalt"
      },
      "source": [
        "## Comparacion respecto valores por defecto"
      ]
    },
    {
      "cell_type": "markdown",
      "metadata": {
        "id": "k6blk4uLbzGW"
      },
      "source": [
        "Como se observa en las mediciones de los errores en las tres celdas, KNN y arboles de regresion han mejorado respecto a usar los valores por defecto. Esto se debe a que el modelo ha encontrado unos mejores valores de los hiperparametros, los cuales mostramos sus valores al imprimirlos. En el caso de la regresion lineal, no mejora, esto creemos que se debe a que los valores por defecto ya son los optimos de los hiperparametros y estos tambien los mostramos por pantalla."
      ]
    },
    {
      "cell_type": "code",
      "execution_count": null,
      "metadata": {
        "id": "Z1erSJ7cdVBN",
        "colab": {
          "base_uri": "https://localhost:8080/",
          "height": 1000
        },
        "outputId": "25d220b4-8464-4b1f-829b-a27e427a26be"
      },
      "outputs": [
        {
          "output_type": "stream",
          "name": "stdout",
          "text": [
            "KNN:\n",
            "\n"
          ]
        },
        {
          "output_type": "display_data",
          "data": {
            "text/plain": [
              "<Figure size 432x288 with 1 Axes>"
            ],
            "image/png": "[encoded data removed]"
          },
          "metadata": {
            "needs_background": "light"
          }
        },
        {
          "output_type": "display_data",
          "data": {
            "text/plain": [
              "<Figure size 432x288 with 1 Axes>"
            ],
            "image/png": "[encoded data removed]"
          },
          "metadata": {
            "needs_background": "light"
          }
        },
        {
          "output_type": "stream",
          "name": "stdout",
          "text": [
            "\n",
            "\n",
            "Arbol de decision:\n",
            "\n"
          ]
        },
        {
          "output_type": "display_data",
          "data": {
            "text/plain": [
              "<Figure size 432x288 with 1 Axes>"
            ],
            "image/png": "[encoded data removed]"
          },
          "metadata": {
            "needs_background": "light"
          }
        },
        {
          "output_type": "display_data",
          "data": {
            "text/plain": [
              "<Figure size 432x288 with 1 Axes>"
            ],
            "image/png": "[encoded data removed]"
          },
          "metadata": {
            "needs_background": "light"
          }
        },
        {
          "output_type": "stream",
          "name": "stdout",
          "text": [
            "\n",
            "\n",
            "Regresion lineal:\n",
            "\n"
          ]
        },
        {
          "output_type": "display_data",
          "data": {
            "text/plain": [
              "<Figure size 432x288 with 1 Axes>"
            ],
            "image/png": "[encoded data removed]"
          },
          "metadata": {
            "needs_background": "light"
          }
        },
        {
          "output_type": "display_data",
          "data": {
            "text/plain": [
              "<Figure size 432x288 with 1 Axes>"
            ],
            "image/png": "[encoded data removed]"
          },
          "metadata": {
            "needs_background": "light"
          }
        },
        {
          "output_type": "stream",
          "name": "stdout",
          "text": [
            "\n",
            "\n"
          ]
        }
      ],
      "source": [
        "# Comparacion de los errores y de los tiempos con los valores por defecto de los optimizados\n",
        "print(\"KNN:\\n\")\n",
        "plt.bar(['KNN omision', 'KNN optimizado'], [rmse_knn, rmse_knn_op])\n",
        "plt.title('Comparación de RMSE errores de KNN')\n",
        "plt.xlabel('Tipo de KNN')\n",
        "plt.ylabel('RMSE')\n",
        "plt.show()\n",
        "\n",
        "plt.bar(['KNN omision', 'KNN optimizado'], [mae_knn, mae_knn_op])\n",
        "plt.title('Comparación de MAE errores de KNN')\n",
        "plt.xlabel('Tipo de KNN')\n",
        "plt.ylabel('MAE')\n",
        "plt.show()\n",
        "print(\"\\n\")\n",
        "\n",
        "print(\"Arbol de decision:\\n\")\n",
        "plt.bar(['Arbol omision', 'Arbol optimizado'], [rmse_tree, rmse_tree_op])\n",
        "plt.title('Comparación de RMSE errores de arbol de decision')\n",
        "plt.xlabel('Tipo de arbol')\n",
        "plt.ylabel('RMSE')\n",
        "plt.show()\n",
        "\n",
        "plt.bar(['Arbol base', 'Arbol optimizado'], [mae_tree, mae_tree_op])\n",
        "plt.title('Comparación de MAE errores de arbol de decision')\n",
        "plt.xlabel('Tipo de arbol')\n",
        "plt.ylabel('MAE')\n",
        "plt.show()\n",
        "print(\"\\n\")\n",
        "\n",
        "print(\"Regresion lineal:\\n\")\n",
        "plt.bar(['Regresion lineal omision', 'Regresion lineal optimizado'], [rmse_lr, rmse_lr_op])\n",
        "plt.title('Comparación de RMSE errores de regresion lineal')\n",
        "plt.xlabel('Tipo de regresion')\n",
        "plt.ylabel('RMSE')\n",
        "plt.show()\n",
        "\n",
        "plt.bar(['Regreison omision', 'Regresion optimizado'], [mae_lr, mae_lr_op])\n",
        "plt.title('Comparación de MAE errores de regresion lineal')\n",
        "plt.xlabel('Tipo de regresion')\n",
        "plt.ylabel('MAE')\n",
        "plt.show()\n",
        "print(\"\\n\")"
      ]
    },
    {
      "cell_type": "markdown",
      "metadata": {
        "id": "oQdMxjtEhb9z"
      },
      "source": [
        "ENUNCIADO:\n",
        "\n",
        "Obtener algunas conclusiones, tales como: ¿cuál es el mejor método? ¿Cuál de los\n",
        "métodos básicos de aprendizaje automático es más rápido? ¿Los resultados son\n",
        "mejores que los regresores triviales/naive/baseline? ¿El ajuste de hiperparámetros\n",
        "mejora con respecto a los valores por omisión? ¿Hay algún equilibrio entre tiempo\n",
        "de ejecución y mejora de resultados? Etc."
      ]
    },
    {
      "cell_type": "markdown",
      "metadata": {
        "id": "lJU40Xy-hjqp"
      },
      "source": [
        "RESPUESTA:\n",
        "\n",
        "El mejor método en cuanto a las medidas de error es el de regresion lineal, y el mas rapido es el knn. Los resultados son mejores de que los triviales/naives/baseline como se puede apreciar en las ejecuciones sin ajustes de hiperparametros. El ajuste en efecto mejora en los tres metodos respecto a los de los valores por omision. Al realizar el ajuste se tarda mas que si no se usara, esto es debido a que el programa comprueba todos los posibles \"caminos\" y valores que se pueden dar a los hiperparametros con todas las combinaciones dando al final el optimo."
      ]
    },
    {
      "cell_type": "markdown",
      "metadata": {
        "id": "vajtd_MUnfR8"
      },
      "source": [
        "## Reduccion dimensionalidad"
      ]
    },
    {
      "cell_type": "markdown",
      "metadata": {
        "id": "5EvOD2r-nnwq"
      },
      "source": [
        "ENUNCIADO:\n",
        "\n",
        "¿Es posible reducir la dimensionalidad del problema? (aquí no tiene por qué\n",
        "utilizarse una técnica estándar, sino algo que se os ocurra para que en los datos haya menos\n",
        "atributos sin empeorar resultados)."
      ]
    },
    {
      "cell_type": "markdown",
      "metadata": {
        "id": "2f-dR2AsnrNa"
      },
      "source": [
        "RESPUESTA:\n",
        "\n"
      ]
    },
    {
      "cell_type": "markdown",
      "metadata": {
        "id": "B4L-CjcWoQCJ"
      },
      "source": [
        "Sí, es posible reducir la dimensionalidad del problema en los datos del concurso de predicción de energía solar de AMS 2014. Hay varias técnicas que se pueden utilizar para lograr esto, aquí te menciono algunas:\n",
        "\n",
        "---Selección de características: en lugar de utilizar todas las características en los datos, se puede seleccionar un subconjunto de características que sean relevantes para la tarea de predicción. Esto puede hacerse mediante técnicas de selección de características como la correlación, la importancia de características en modelos de aprendizaje automático, entre otras.\n",
        "\n",
        "---Análisis de componentes principales (PCA): esta técnica de reducción de dimensionalidad se utiliza para transformar las características originales en un conjunto de características menos complejas que conservan la mayor cantidad posible de información de los datos originales.\n",
        "\n",
        "---Técnicas de clustering: estas técnicas se utilizan para agrupar características similares y reducir la complejidad de los datos.\n",
        "\n",
        "---Transformaciones de datos: se pueden aplicar transformaciones matemáticas a los datos para reducir la complejidad, como la transformación de Box-Cox, que se utiliza para transformar datos no normales en datos con distribución normal."
      ]
    },
    {
      "cell_type": "markdown",
      "source": [
        "Reduccion de los datos con técnica de selección de características basada en filtro utilizando la correlación entre características y la variable objetivo:"
      ],
      "metadata": {
        "id": "0nek6Tl9XlV2"
      }
    },
    {
      "cell_type": "code",
      "source": [
        "# Escalar datos\n",
        "scaler = StandardScaler()\n",
        "X_train_2 = scaler.fit_transform(X_train)\n",
        "X_test_2 = scaler.transform(X_test)\n",
        "\n",
        "# Calcular matriz de correlación\n",
        "corr_matrix = np.corrcoef(X_train_2.T)\n",
        "\n",
        "# Establecer umbral de correlación\n",
        "corr_threshold = 0.2\n",
        "\n",
        "# Eliminar características con correlación inferior al umbral\n",
        "selected_features = np.where(abs(corr_matrix[-1, :-1]) > corr_threshold)[0]\n",
        "X_train_reduced_f = X_train_2[:, selected_features]\n",
        "X_test_reduced_f = X_test_2[:, selected_features]\n",
        "print(\"Forma de X_train antes de reducción:\", X_train.shape)\n",
        "print(\"Forma de X_test antes de reducción:\", X_test.shape)\n",
        "\n",
        "print(\"Forma de X_train reducido:\", X_train_reduced_f.shape)\n",
        "print(\"Forma de X_test reducido:\", X_test_reduced_f.shape)\n"
      ],
      "metadata": {
        "colab": {
          "base_uri": "https://localhost:8080/"
        },
        "id": "Yz_1lnDNj55I",
        "outputId": "244f1f23-7581-4761-b359-78f706a34902"
      },
      "execution_count": null,
      "outputs": [
        {
          "output_type": "stream",
          "name": "stdout",
          "text": [
            "Forma de X_train antes de reducción: (3504, 75)\n",
            "Forma de X_test antes de reducción: (876, 75)\n",
            "Forma de X_train reducido: (3504, 59)\n",
            "Forma de X_test reducido: (876, 59)\n"
          ]
        }
      ]
    },
    {
      "cell_type": "markdown",
      "source": [
        "Como se aprecia se han bajado de 75 atributos a 59."
      ],
      "metadata": {
        "id": "8p1huniflKPa"
      }
    },
    {
      "cell_type": "markdown",
      "source": [
        "Con PCA:"
      ],
      "metadata": {
        "id": "iJ9zg2-Elt-f"
      }
    },
    {
      "cell_type": "markdown",
      "source": [
        "Es una técnica de reducción de dimensionalidad que se utiliza para identificar patrones en los datos y representarlos con un número menor de variables que contengan la mayor cantidad de información posible."
      ],
      "metadata": {
        "id": "cwlwUIEwmD0d"
      }
    },
    {
      "cell_type": "code",
      "source": [
        "# Escalar datos\n",
        "scaler = StandardScaler()\n",
        "X_train_3 = scaler.fit_transform(X_train)\n",
        "X_test_3 = scaler.transform(X_test)\n",
        "\n",
        "# Aplicar PCA\n",
        "pca = PCA(n_components=10)\n",
        "X_train_reduced_pca = pca.fit_transform(X_train_3)\n",
        "X_test_reduced_pca = pca.transform(X_test_3)\n",
        "\n",
        "print(\"Forma de X_train antes de PCA:\", X_train.shape)\n",
        "print(\"Forma de X_test antes de PCA:\", X_test.shape)\n",
        "print(\"Forma de X_train reducido por PCA:\", X_train_reduced_pca.shape)\n",
        "print(\"Forma de X_test reducido por PCA:\", X_test_reduced_pca.shape)\n"
      ],
      "metadata": {
        "colab": {
          "base_uri": "https://localhost:8080/"
        },
        "id": "f0YbL_x9lvWQ",
        "outputId": "1acf0566-53db-42d3-f58f-0ab6ebf24f86"
      },
      "execution_count": null,
      "outputs": [
        {
          "output_type": "stream",
          "name": "stdout",
          "text": [
            "Forma de X_train antes de PCA: (3504, 75)\n",
            "Forma de X_test antes de PCA: (876, 75)\n",
            "Forma de X_train reducido por PCA: (3504, 10)\n",
            "Forma de X_test reducido por PCA: (876, 10)\n"
          ]
        }
      ]
    },
    {
      "cell_type": "markdown",
      "source": [
        "Reduccion con regresion lineal:"
      ],
      "metadata": {
        "id": "fdgVDJBvlFRz"
      }
    },
    {
      "cell_type": "code",
      "execution_count": null,
      "metadata": {
        "colab": {
          "base_uri": "https://localhost:8080/"
        },
        "id": "S7tOUw3Cn3Ar",
        "outputId": "74c59cc8-3e3b-4fe9-9ae3-5f2327a51d6f"
      },
      "outputs": [
        {
          "output_type": "stream",
          "name": "stdout",
          "text": [
            "LR with PCA RMSE: 3687196.042495013\n",
            "LR with PCA MAE: 2757361.902591392\n",
            "LR with PCA r2: 0.7762622419677601\n"
          ]
        }
      ],
      "source": [
        "# Aqui con PCA\n",
        "\n",
        "# Estandarizar los datos\n",
        "scaler = StandardScaler()\n",
        "X_train_std = scaler.fit_transform(X_train)\n",
        "X_test_std = scaler.transform(X_test)\n",
        "\n",
        "# Aplicar PCA para reducir la dimensionalidad a 5 componentes principales\n",
        "pca = PCA(n_components=5)\n",
        "X_train_pca = pca.fit_transform(X_train_std)\n",
        "X_test_pca = pca.transform(X_test_std)\n",
        "\n",
        "# Entrenar modelo de regresión lineal con los datos reducidos\n",
        "lr = LinearRegression()\n",
        "lr.fit(X_train_pca, y_train)\n",
        "\n",
        "# Predecir los valores de energía solar con el conjunto de prueba\n",
        "y_pred = lr.predict(X_test_pca)\n",
        "\n",
        "# Evaluar el modelo con las métricas RMSE y MAE\n",
        "rmse_lr_pca = mean_squared_error(y_test, y_pred, squared=False)\n",
        "mae_lr_pca = mean_absolute_error(y_test, y_pred)\n",
        "r2_lr_pca = r2_score(y_test, y_pred)\n",
        "\n",
        "print('LR with PCA RMSE:', rmse_lr_pca)\n",
        "print('LR with PCA MAE:', mae_lr_pca)\n",
        "print('LR with PCA r2:', r2_lr_pca)\n",
        "\n"
      ]
    },
    {
      "cell_type": "markdown",
      "source": [
        "Reduccion con KNN:"
      ],
      "metadata": {
        "id": "2-7TXmBgXqHe"
      }
    },
    {
      "cell_type": "code",
      "source": [
        "# Aqui con PCA\n",
        "\n",
        "# Estandarizar los datos\n",
        "scaler = StandardScaler()\n",
        "X_train_std = scaler.fit_transform(X_train)\n",
        "X_test_std = scaler.transform(X_test)\n",
        "\n",
        "# Aplicar PCA para reducir la dimensionalidad a 5 componentes principales\n",
        "pca = PCA(n_components=5)\n",
        "X_train_pca = pca.fit_transform(X_train_std)\n",
        "X_test_pca = pca.transform(X_test_std)\n",
        "\n",
        "# Entrenar modelo de regresión lineal con los datos reducidos\n",
        "knn = KNeighborsRegressor()\n",
        "knn.fit(X_train_pca, y_train)\n",
        "\n",
        "# Predecir los valores de energía solar con el conjunto de prueba\n",
        "y_pred = knn.predict(X_test_pca)\n",
        "\n",
        "# Evaluar el modelo con las métricas RMSE y MAE\n",
        "rmse_knn_pca = mean_squared_error(y_test, y_pred, squared=False)\n",
        "mae_knn_pca = mean_absolute_error(y_test, y_pred)\n",
        "r2_knn_pca = r2_score(y_test, y_pred)\n",
        "\n",
        "print('KNN con PCA RMSE:', rmse_knn_pca)\n",
        "print('KNN con PCA MAE:', mae_knn_pca)\n",
        "print('KNN con PCA r2:', r2_knn_pca)"
      ],
      "metadata": {
        "colab": {
          "base_uri": "https://localhost:8080/"
        },
        "id": "3wvFKtEaXsvB",
        "outputId": "ea724c7b-58c6-488e-a749-cbaf11a4429e"
      },
      "execution_count": null,
      "outputs": [
        {
          "output_type": "stream",
          "name": "stdout",
          "text": [
            "KNN con PCA RMSE: 3777451.43414771\n",
            "KNN con PCA MAE: 2730757.638356164\n",
            "KNN con PCA r2: 0.7651748530503795\n"
          ]
        }
      ]
    },
    {
      "cell_type": "markdown",
      "source": [
        "Reduccion con arbol de decision:"
      ],
      "metadata": {
        "id": "2G4kFZFZYC0O"
      }
    },
    {
      "cell_type": "code",
      "source": [
        "# Aqui con PCA\n",
        "\n",
        "# Estandarizar los datos\n",
        "scaler = StandardScaler()\n",
        "X_train_std = scaler.fit_transform(X_train)\n",
        "X_test_std = scaler.transform(X_test)\n",
        "\n",
        "# Aplicar PCA para reducir la dimensionalidad a 5 componentes principales\n",
        "pca = PCA(n_components=5)\n",
        "X_train_pca = pca.fit_transform(X_train_std)\n",
        "X_test_pca = pca.transform(X_test_std)\n",
        "\n",
        "# Entrenar modelo de regresión lineal con los datos reducidos\n",
        "tree = DecisionTreeRegressor()\n",
        "tree.fit(X_train_pca, y_train)\n",
        "\n",
        "# Predecir los valores de energía solar con el conjunto de prueba\n",
        "y_pred = tree.predict(X_test_pca)\n",
        "\n",
        "# Evaluar el modelo con las métricas RMSE y MAE\n",
        "rmse_tree_pca = mean_squared_error(y_test, y_pred, squared=False)\n",
        "mae_tree_pca = mean_absolute_error(y_test, y_pred)\n",
        "r2_tree_pca = r2_score(y_test, y_pred)\n",
        "\n",
        "print('Arbol con PCA RMSE:', rmse_tree_pca)\n",
        "print('Arbol con PCA MAE:', mae_tree_pca)\n",
        "print('Arbol con PCA r2:', r2_tree_pca)"
      ],
      "metadata": {
        "colab": {
          "base_uri": "https://localhost:8080/"
        },
        "id": "or4lvWQrYGEq",
        "outputId": "56eec28b-099d-431e-d6a1-9ba40ecdef47"
      },
      "execution_count": null,
      "outputs": [
        {
          "output_type": "stream",
          "name": "stdout",
          "text": [
            "Arbol con PCA RMSE: 5230174.673898681\n",
            "Arbol con PCA MAE: 3694235.808219178\n",
            "Arbol con PCA r2: 0.5498272415919458\n"
          ]
        }
      ]
    },
    {
      "cell_type": "markdown",
      "metadata": {
        "id": "rQSP3_Gtol2y"
      },
      "source": [
        "El número de componentes se refiere a la cantidad de variables o características que se utilizan para representar los datos originales. En el contexto de la reducción de dimensionalidad, el número de componentes se utiliza para indicar cuántas dimensiones se deben mantener después de reducir la dimensionalidad de los datos. Por ejemplo, en el método de análisis de componentes principales (PCA), el número de componentes se refiere al número de componentes principales que se utilizan para representar los datos originales."
      ]
    },
    {
      "cell_type": "markdown",
      "metadata": {
        "id": "T_47_hSLvPH0"
      },
      "source": [
        "# Metodos avanzados"
      ]
    },
    {
      "cell_type": "markdown",
      "metadata": {
        "id": "ujuRGfUpvd46"
      },
      "source": [
        "Metodos SVM y RandomForest con los valores por omision"
      ]
    },
    {
      "cell_type": "markdown",
      "metadata": {
        "id": "OtvZT3fdxMnL"
      },
      "source": [
        "### SVM"
      ]
    },
    {
      "cell_type": "code",
      "source": [
        "# Crear modelo SVM\n",
        "svm = SVR()\n",
        "np.random.seed(12)\n",
        "\n",
        "# Evaluar modelo con 3 mediciones\n",
        "# se mide el tiempo\n",
        "start_time = time.time()\n",
        "svm.fit(X_train, y_train)\n",
        "train_time_svm = time.time() - start_time\n",
        "\n",
        "rmse_svm = np.sqrt(-cross_val_score(svm, X_train, y_train, cv=5, scoring='neg_mean_squared_error')).mean()\n",
        "mae_svm = -cross_val_score(svm, X_train, y_train, cv=5, scoring='neg_mean_absolute_error').mean()\n",
        "r2_svm = cross_val_score(svm, X_train, y_train, cv=5, scoring='r2').mean()\n",
        "\n",
        "\n",
        "print(\"SVM valores por omision:\\n\", \"RMSE:\", rmse_svm, \"\\n\", \"MAE:\", mae_svm, \"\\n\", \"r2:\", r2_svm, \"\\n\", \"Tiempo svm:\", train_time_svm)"
      ],
      "metadata": {
        "id": "YbrS81puIpoH",
        "colab": {
          "base_uri": "https://localhost:8080/"
        },
        "outputId": "b60f6c11-f9f9-44ff-be25-2c97674fe28f"
      },
      "execution_count": null,
      "outputs": [
        {
          "output_type": "stream",
          "name": "stdout",
          "text": [
            "SVM:\n",
            " RMSE: 8038766.251087065 \n",
            " MAE: 6880516.949987573 \n",
            " r2: -0.0018165756172429325 \n",
            " Tiempo svm: 1.7804996967315674\n"
          ]
        }
      ]
    },
    {
      "cell_type": "markdown",
      "metadata": {
        "id": "iUcwGfpKxPyK"
      },
      "source": [
        "### RandomForest"
      ]
    },
    {
      "cell_type": "code",
      "source": [
        "# Crear modelo de Random Forest\n",
        "rf = RandomForestRegressor()\n",
        "np.random.seed(12)\n",
        "\n",
        "# Entrenar modelo con mediciones y se calculan los errores\n",
        "\n",
        "# Se mide el tiempo\n",
        "start_time = time.time()\n",
        "rf.fit(X_train, y_train)\n",
        "train_time_rf = time.time() - start_time\n",
        "\n",
        "\n",
        "rmse_rf = np.sqrt(-cross_val_score(rf, X_train, y_train, cv=5, scoring='neg_mean_squared_error')).mean()\n",
        "mae_rf = -cross_val_score(rf, X_train, y_train, cv=5, scoring='neg_mean_absolute_error').mean()\n",
        "r2_rf = cross_val_score(rf, X_train, y_train, cv=5, scoring='r2').mean()\n",
        "\n",
        "\n",
        "print(\"Random Forest valores por omisión:\\n\", \"RMSE:\", rmse_rf, \"\\n\", \"MAE:\", mae_rf, \"\\n\", \"r2:\", r2_rf, \"\\n\", \"Tiempo rf:\", train_time_rf)"
      ],
      "metadata": {
        "id": "dBgKi2vjJsMI",
        "colab": {
          "base_uri": "https://localhost:8080/"
        },
        "outputId": "928741e5-65ac-45b0-c148-7b1146b951b1"
      },
      "execution_count": null,
      "outputs": [
        {
          "output_type": "stream",
          "name": "stdout",
          "text": [
            "Random Forest (valores por omisión):\n",
            " RMSE: 3422221.2966615716 \n",
            " MAE: 2417202.739568486 \n",
            " r2: 0.8159683583339461 \n",
            " Tiempo rf: 23.510531187057495\n"
          ]
        }
      ]
    },
    {
      "cell_type": "markdown",
      "metadata": {
        "id": "J5FfF-ioykKM"
      },
      "source": [
        "Como se puede ver el tiempo de entrenamiento de SVM es mucho menor que el de random forest. Esto puede deberse a la complejidad del modelo, debido a que SVM es un modelo lineal y random forest no es lineal y lo que hace es generar multiples arboles para la prediccion por lo que tarda mas.\n",
        "\n",
        "En cuanto a los errores con los valores por defecto vemos que el random forest tiene menos error en cuanto al entrenamiento, esto puede relacionarse con la linealidad que hemos comentado ya que random forest encuentra relaciones no lineales entre los atributos y la variable objetivo, mientras que SVM solo trabaja con la separacion lineal entre las caracteristicas."
      ]
    },
    {
      "cell_type": "markdown",
      "metadata": {
        "id": "f2fMOOqpz_-K"
      },
      "source": [
        "## Ajuste de hiperparametros"
      ]
    },
    {
      "cell_type": "markdown",
      "metadata": {
        "id": "bA5GKrTX2Ccr"
      },
      "source": [
        "### SVM"
      ]
    },
    {
      "cell_type": "code",
      "source": [
        "from sklearn import svm\n",
        "\n",
        "# Crear modelo de SVM\n",
        "svm_model = svm.SVR()\n",
        "\n",
        "# Definir grid de parámetros\n",
        "param_grid = {\n",
        "    'C': [0.1, 1, 10, 100],\n",
        "    'kernel': ['linear'],\n",
        "    'gamma': ['scale', 'auto']\n",
        "}\n",
        "\n",
        "# Realizar búsqueda de hiperparámetros\n",
        "svm_grid = GridSearchCV(svm_model, param_grid=param_grid, cv=5, scoring='neg_mean_squared_error')\n",
        "\n",
        "# Medir tiempo de entrenamiento\n",
        "start_time = time.time()\n",
        "\n",
        "svm_grid.fit(X_train, y_train)\n",
        "\n",
        "# Calcular tiempo de entrenamiento\n",
        "train_time_svm_op = time.time() - start_time\n",
        "\n",
        "# Obtener los mejores parámetros\n",
        "svm_best_params = svm_grid.best_params_\n",
        "\n",
        "# Entrenar modelo con los mejores parámetros\n",
        "svm_model = svm.SVR(**svm_best_params)\n",
        "svm_model.fit(X_train, y_train)\n",
        "\n",
        "# Evaluar modelo con 3 mediciones\n",
        "rmse_svm_op = np.sqrt(-cross_val_score(svm_model, X_train, y_train, cv=5, scoring='neg_mean_squared_error')).mean()\n",
        "mae_svm_op = -cross_val_score(svm_model, X_train, y_train, cv=5, scoring='neg_mean_absolute_error').mean()\n",
        "r2_svm_op = cross_val_score(svm_model, X_train, y_train, cv=5, scoring='r2').mean()\n",
        "\n",
        "print(\"SVM:\\n\", \"Best parameters:\", svm_best_params, \"\\n\", \"RMSE:\", rmse_svm_op, \"\\n\", \"MAE:\", mae_svm_op, \"\\n\", \"r2:\", r2_svm_op)\n",
        "print('Tiempo de entrenamiento svm op:', train_time_svm_op)"
      ],
      "metadata": {
        "id": "skDJmxEkHs94",
        "colab": {
          "base_uri": "https://localhost:8080/"
        },
        "outputId": "c9e4e584-9dc4-4f78-9df7-2a44f12c4cb5"
      },
      "execution_count": null,
      "outputs": [
        {
          "output_type": "stream",
          "name": "stdout",
          "text": [
            "SVM:\n",
            " Best parameters: {'C': 100, 'gamma': 'scale', 'kernel': 'linear'} \n",
            " RMSE: 3538092.424242282 \n",
            " MAE: 2586395.9261895902 \n",
            " r2: 0.8063330242657439\n",
            "Tiempo de entrenamiento: 45.36346650123596\n"
          ]
        }
      ]
    },
    {
      "cell_type": "markdown",
      "metadata": {
        "id": "gKpPObdv22gs"
      },
      "source": [
        "### RandomForest"
      ]
    },
    {
      "cell_type": "code",
      "source": [
        "# Crear modelo de Random Forest\n",
        "rf = RandomForestRegressor(random_state=12)\n",
        "\n",
        "# Definir espacio de búsqueda aleatoria\n",
        "param_distributions = {\n",
        "    'n_estimators': [50, 100, 200, 400],\n",
        "    'max_depth': [None, 5, 10],\n",
        "    'min_samples_split': [2, 5, 10],\n",
        "    'min_samples_leaf': [1, 2, 4],\n",
        "    'max_features': ['sqrt', 'log2']\n",
        "}\n",
        "\n",
        "# Realizar búsqueda aleatoria de hiperparámetros\n",
        "rf_random = RandomizedSearchCV(rf, param_distributions=param_distributions, n_iter=10, cv=5, \n",
        "                               scoring='neg_mean_squared_error', random_state=12)\n",
        "\n",
        "# Medir tiempo de entrenamiento\n",
        "start_time = time.time()\n",
        "\n",
        "rf_random.fit(X_train, y_train)\n",
        "\n",
        "# Calcular tiempo de entrenamiento\n",
        "train_time_rf_op = time.time() - start_time\n",
        "\n",
        "# Obtener los mejores parámetros\n",
        "rf_best_params = rf_random.best_params_\n",
        "\n",
        "# Entrenar modelo con los mejores parámetros\n",
        "rf = RandomForestRegressor(**rf_best_params, random_state=12)\n",
        "rf.fit(X_train, y_train)\n",
        "\n",
        "# Evaluar modelo con 3 mediciones\n",
        "rmse_rf_op = np.sqrt(-cross_val_score(rf, X_train, y_train, cv=5, scoring='neg_mean_squared_error')).mean()\n",
        "mae_rf_op = -cross_val_score(rf, X_train, y_train, cv=5, scoring='neg_mean_absolute_error').mean()\n",
        "r2_rf_op = cross_val_score(rf, X_train, y_train, cv=5, scoring='r2').mean()\n",
        "\n",
        "print(\"Random Forest:\\n\", \"Best parameters:\", rf_best_params, \"\\n\", \"RMSE:\", rmse_rf_op, \"\\n\", \n",
        "      \"MAE:\", mae_rf_op, \"\\n\", \"r2:\", r2_rf_op)\n",
        "print('Tiempo de entrenamiento:', train_time_rf_op)\n",
        "\n"
      ],
      "metadata": {
        "id": "_W3JTgpaJXiB",
        "colab": {
          "base_uri": "https://localhost:8080/"
        },
        "outputId": "93b4a0b2-7a3f-4259-f649-0d62b1da5339"
      },
      "execution_count": null,
      "outputs": [
        {
          "output_type": "stream",
          "name": "stdout",
          "text": [
            "Random Forest:\n",
            " Best parameters: {'n_estimators': 200, 'min_samples_split': 2, 'min_samples_leaf': 2, 'max_features': 'sqrt', 'max_depth': None} \n",
            " RMSE: 3322844.0444433754 \n",
            " MAE: 2334369.564999792 \n",
            " r2: 0.8292426269122689\n",
            "Tiempo de entrenamiento: 120.66130805015564\n"
          ]
        }
      ]
    },
    {
      "cell_type": "markdown",
      "source": [
        "# Seleccion de mejor metodo y entrenamiento"
      ],
      "metadata": {
        "id": "Ye4aDGssWq89"
      }
    },
    {
      "cell_type": "markdown",
      "source": [
        "Por el desempeño elegimos la regresion lineal o el randomforest con los parametros que mas rendimiento aportan."
      ],
      "metadata": {
        "id": "-_NwvlxYWuK7"
      }
    },
    {
      "cell_type": "code",
      "source": [
        "# Crear el modelo de regresión lineal\n",
        "lr = LinearRegression(fit_intercept= False,\n",
        "          copy_X = True,\n",
        "          n_jobs= -1)\n",
        "\n",
        "# Medir tiempo de entrenamiento\n",
        "start_time = time.time()\n",
        "\n",
        "# Entrenar el modelo de regresión lineal con los datos de entrenamiento\n",
        "lr.fit(X_train, y_train)\n",
        "\n",
        "# Calcular tiempo de entrenamiento\n",
        "train_time_lr = time.time() - start_time\n",
        "\n",
        "# Predecir los valores de producción de energía solar con el conjunto de prueba\n",
        "#y_pred = lr.predict(X_test)\n",
        "y_pred = lr.predict(X_test)\n",
        "\n",
        "\n",
        "# Evaluar el modelo con las métricas RMSE y MAE\n",
        "rmse_lr = mean_squared_error(y_test, y_pred, squared=False)\n",
        "mae_lr = mean_absolute_error(y_test, y_pred)\n",
        "r2_lr = r2_score(y_test, y_pred)\n",
        "\n",
        "print('Regresión lineal RMSE:', rmse_lr)\n",
        "print('Regresión lineal MAE:', mae_lr)\n",
        "print('Regresion lineal r2:', r2_lr)\n",
        "print('Tiempo de entrenamiento:', train_time_lr)"
      ],
      "metadata": {
        "colab": {
          "base_uri": "https://localhost:8080/"
        },
        "id": "fTrhHJiwXPpE",
        "outputId": "c8ec4464-c53f-496a-d5d9-8e94ef82470d"
      },
      "execution_count": null,
      "outputs": [
        {
          "output_type": "stream",
          "name": "stdout",
          "text": [
            "Regresión lineal RMSE: 3188104.6909986394\n",
            "Regresión lineal MAE: 2284217.0395576176\n",
            "Regresion lineal r2: 0.8327323433785996\n",
            "Tiempo de entrenamiento: 8.106212854385376\n"
          ]
        }
      ]
    },
    {
      "cell_type": "markdown",
      "source": [
        "Entrenar y exportar el modelo:"
      ],
      "metadata": {
        "id": "bIbkSG0HYEoJ"
      }
    },
    {
      "cell_type": "code",
      "source": [
        "import pickle\n",
        "\n",
        "# Crear el modelo de regresión lineal\n",
        "lr = LinearRegression(fit_intercept= False,\n",
        "          copy_X = True,\n",
        "          n_jobs= -1)\n",
        "# Otro modelo que podria usarse de random forest que tambien es bueno\n",
        "\n",
        "#rf = RandomForestRegressor(n_estimators= 200, min_samples_split= 2, min_samples_leaf= 2, max_features='sqrt', max_depth= None)\n",
        "\n",
        "# Entrenar el modelo de regresión lineal con todos los datos de entrenamiento\n",
        "lr.fit(np.concatenate([X_train, X_test]), np.concatenate([y_train, y_test]))\n",
        "\n",
        "# Guardar el modelo en un archivo llamado \"modelo_final.pkl\"\n",
        "with open(\"modelo_final.pkl\", \"wb\") as f:\n",
        "    pickle.dump(lr, f)\n"
      ],
      "metadata": {
        "id": "qyCqIRD9YIFa"
      },
      "execution_count": null,
      "outputs": []
    },
    {
      "cell_type": "markdown",
      "metadata": {
        "id": "mOJ_1Vw1yUSJ"
      },
      "source": [
        "# CONCLUSION"
      ]
    }
  ],
  "metadata": {
    "colab": {
      "provenance": [],
      "toc_visible": true
    },
    "kernelspec": {
      "display_name": "Python 3",
      "name": "python3"
    },
    "language_info": {
      "name": "python"
    }
  },
  "nbformat": 4,
  "nbformat_minor": 0
}