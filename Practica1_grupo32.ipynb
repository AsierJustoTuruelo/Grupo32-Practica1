{
  "cells": [
    {
      "cell_type": "markdown",
      "metadata": {
        "id": "wsKduA-7x0Gt"
      },
      "source": [
        "Indice: \n",
        "  - Introduccion\n",
        "  - Codigo\n",
        "  - Conclusion"
      ]
    },
    {
      "cell_type": "markdown",
      "metadata": {
        "id": "MmRYRKq9yJVH"
      },
      "source": [
        "# INTRODUCCION"
      ]
    },
    {
      "cell_type": "markdown",
      "metadata": {
        "id": "lo4FBu8h8871"
      },
      "source": [
        "Utilizaremos dataset \"disp_st31ns1.txt\" para entrenar\n",
        "\n",
        "1.   List item\n",
        "2.   List item\n",
        "\n"
      ]
    },
    {
      "cell_type": "markdown",
      "metadata": {
        "id": "k_lcg8bnyRNh"
      },
      "source": [
        "# CODIGO"
      ]
    },
    {
      "cell_type": "markdown",
      "metadata": {
        "id": "Az5AqTrH-Kdy"
      },
      "source": [
        "Creo que el codigo final va en otro notebook, pero lo hacemos aqui de mientras"
      ]
    },
    {
      "cell_type": "code",
      "execution_count": null,
      "metadata": {
        "id": "OzAZHhVeAyjI"
      },
      "outputs": [],
      "source": [
        "# Instalamos las lib que no esten en jupyter\n",
        "# Para visualizar arboles\n",
        "!pip install --upgrade linear-tree\n",
        "\n",
        "!pip install statsmodels"
      ]
    },
    {
      "cell_type": "code",
      "execution_count": null,
      "metadata": {
        "id": "9zo4PUMP-QDt"
      },
      "outputs": [],
      "source": [
        "# Estructura de datos, en la que cargaremos los datos (seran de diferentes tipos)\n",
        "import pandas as pd\n",
        "# Pasaremos los datos de panda a matriz de valores numerico numpy\n",
        "import numpy as np\n",
        "# sklearn (arlgoritmos, etc)\n",
        "#from sklearn.model_selection import train_test_split\n",
        "#from sklearn import metrics\n",
        "#from sklearn import tree\n",
        "#from sklearn.linear_model import LinearRegression\n",
        "\n",
        "#from lineartree import LinearTreeRegressor\n",
        "\n",
        "# Lectura de datos del archivo disp_st31ns1.txt.bz2 en un dataFrame(pandas)\n",
        "#data_frame = pd.read_csv('disp_st31ns1.txt')\n",
        "#print(data_frame)\n",
        "\n",
        "# Pasar los datos no numericos \n",
        "#----------------------------\n",
        "\n",
        "# NUMPY\n",
        "#X = np.array(data_frame)\n",
        "\n",
        "# SKLEARN\n",
        "# Divide los datos en un conjunto de entrenamiento y un conjunto de prueba\n",
        "#X_train, X_test, y_train, y_test = train_test_split(X, y, test_size=0.2, random_state=0)\n",
        "\n",
        "# Crea el modelo y ajustalo a los datos de entrenamiento\n",
        "#regressor = LinearRegression()\n",
        "#regressor.fit(X_train, y_train)\n",
        "\n",
        "# Evalua la precision del modelo utilizando los datos de prueba\n",
        "#y_pred = regressor.predict(X_test)\n"
      ]
    },
    {
      "cell_type": "markdown",
      "metadata": {
        "id": "3eGk7zpTXN4o"
      },
      "source": [
        "Se hacen los imports"
      ]
    },
    {
      "cell_type": "code",
      "execution_count": null,
      "metadata": {
        "id": "6mYg5jMIVS_r"
      },
      "outputs": [],
      "source": [
        "from sklearn.model_selection import train_test_split\n",
        "from sklearn.neighbors import KNeighborsRegressor\n",
        "from sklearn.tree import DecisionTreeRegressor\n",
        "from sklearn.linear_model import LinearRegression\n",
        "from sklearn.metrics import mean_squared_error, mean_absolute_error\n",
        "from sklearn.model_selection import cross_val_score\n",
        "from sklearn.model_selection import GridSearchCV\n",
        "from sklearn.preprocessing import StandardScaler\n",
        "from sklearn.pipeline import Pipeline\n",
        "from sklearn.pipeline import make_pipeline\n",
        "import pandas as pd\n",
        "import numpy as np\n",
        "import warnings\n",
        "import matplotlib.pyplot as plt\n",
        "import time # ya que se pide que se mida el tiempo de ejecucion"
      ]
    },
    {
      "cell_type": "markdown",
      "metadata": {
        "id": "oyHZxphfXQfO"
      },
      "source": [
        "Se lodean los datos y se divide en entrenamiento y en test"
      ]
    },
    {
      "cell_type": "code",
      "execution_count": null,
      "metadata": {
        "colab": {
          "base_uri": "https://localhost:8080/"
        },
        "id": "ToSrNB8MmFie",
        "outputId": "c52039f4-6423-4e48-ceac-c48deb5d7bc1"
      },
      "outputs": [
        {
          "output_type": "stream",
          "name": "stdout",
          "text": [
            "Mounted at /content/gdrive\n"
          ]
        }
      ],
      "source": [
        "from google.colab import drive\n",
        "drive.mount('/content/gdrive', force_remount=True)"
      ]
    },
    {
      "cell_type": "code",
      "execution_count": null,
      "metadata": {
        "colab": {
          "base_uri": "https://localhost:8080/"
        },
        "id": "n6YXrs70XZzH",
        "outputId": "64396b97-1898-40dd-b5af-ee33bec51c9e"
      },
      "outputs": [
        {
          "output_type": "stream",
          "name": "stdout",
          "text": [
            "VARIABLES\n",
            "   apcp_sf2_1  apcp_sf3_1  apcp_sf4_1  apcp_sf5_1  dlwrf_s1_1  dlwrf_s2_1  \\\n",
            "0         0.0         0.0    0.000000    0.000000  278.401764  246.423459   \n",
            "1         0.0         0.0    0.016364    0.132727  249.362233  255.096853   \n",
            "2         0.0         0.0    0.000000    0.000000  233.007274  215.177840   \n",
            "3         0.0         0.0    0.000000    0.000000  240.408503  237.441999   \n",
            "4         0.0         0.0    0.000000    0.000000  232.071838  237.108869   \n",
            "\n",
            "   dlwrf_s3_1  dlwrf_s4_1  dlwrf_s5_1  dswrf_s1_1  ...  ulwrf_t1_1  \\\n",
            "0  251.719940  268.195853  266.377441         0.0  ...  208.516803   \n",
            "1  273.618458  320.441742  310.292719         0.0  ...  236.291236   \n",
            "2  217.951275  237.074578  238.476496         0.0  ...  226.837472   \n",
            "3  247.948128  255.274556  245.349503         0.0  ...  239.421233   \n",
            "4  245.123549  267.031791  267.845553         0.0  ...  232.641681   \n",
            "\n",
            "   ulwrf_t2_1  ulwrf_t3_1  ulwrf_t4_1  ulwrf_t5_1  uswrf_s1_1  uswrf_s2_1  \\\n",
            "0  251.322657  254.851178  263.160586  259.249662         0.0   10.000000   \n",
            "1  232.640081  230.209094  209.561145  213.962007         0.0    7.818182   \n",
            "2  235.374191  236.571659  231.450058  227.529466         0.0   15.818182   \n",
            "3  239.098594  241.216754  247.927582  245.231042         0.0    9.000000   \n",
            "4  232.888478  238.498259  254.946371  252.837046         0.0    9.000000   \n",
            "\n",
            "   uswrf_s3_1  uswrf_s4_1  uswrf_s5_1  \n",
            "0   47.000000   98.818182   66.000000  \n",
            "1   32.454545   50.545455   33.727273  \n",
            "2   84.909091  170.181818  109.909091  \n",
            "3   38.363636   88.909091   61.727273  \n",
            "4   45.909091   97.909091   65.818182  \n",
            "\n",
            "[5 rows x 74 columns]\n",
            "OBJETIVO\n",
            "0    11334600\n",
            "1     5243700\n",
            "2     4653900\n",
            "3     4513200\n",
            "4    11169600\n",
            "Name: salida, dtype: int64\n"
          ]
        }
      ],
      "source": [
        "# Cargar los datos\n",
        "data_frame = pd.read_csv('disp_st32ns1.txt')\n",
        "\n",
        "# Seleccionar las columnas relevantes para X e Y\n",
        "X = data_frame.iloc[:, 2:-1]  # Todas las columnas excepto las dos primeras y la última\n",
        "y = data_frame.iloc[:, -1]    # La última columna que es el objetivo\n",
        "# Imprimir las primeras filas de X\n",
        "print('VARIABLES')\n",
        "print(X.head())\n",
        "\n",
        "# Imprimir las primeras filas de y objetivo\n",
        "print('OBJETIVO')\n",
        "print(y.head())\n",
        "# Dividir los datos en conjuntos de entrenamiento y prueba\n",
        "X_train, X_test, y_train, y_test = train_test_split(X, y, test_size=0.2, random_state=42)\n"
      ]
    },
    {
      "cell_type": "markdown",
      "metadata": {
        "id": "6jZRXMCqckBU"
      },
      "source": [
        "## Valores por defecto"
      ]
    },
    {
      "cell_type": "markdown",
      "metadata": {
        "id": "dD6dS8syXp12"
      },
      "source": [
        "Evaluar en KNN"
      ]
    },
    {
      "cell_type": "code",
      "execution_count": null,
      "metadata": {
        "colab": {
          "base_uri": "https://localhost:8080/"
        },
        "id": "hyQtPPOwXrYP",
        "outputId": "0d1c7843-352c-4fea-898e-7586d64028a3"
      },
      "outputs": [
        {
          "output_type": "stream",
          "name": "stdout",
          "text": [
            "KNN RMSE: 4022519.6907967767\n",
            "KNN MAE: 3000940.660273973\n",
            "Tiempo de entrenamiento: 0.008753061294555664\n"
          ]
        }
      ],
      "source": [
        "# Crear el modelo KNN\n",
        "knn = KNeighborsRegressor()\n",
        "\n",
        "# Medir tiempo de entrenamiento\n",
        "start_time = time.time()\n",
        "\n",
        "# Entrenar el modelo KNN con los datos de entrenamiento\n",
        "knn.fit(X_train, y_train)\n",
        "\n",
        "# Calcular tiempo de entrenamiento\n",
        "train_time_knn = time.time() - start_time\n",
        "\n",
        "# Predecir los valores de producción de energía solar con el conjunto de prueba\n",
        "y_pred = knn.predict(X_test)\n",
        "\n",
        "# Evaluar el modelo con las métricas RMSE y MAE\n",
        "rmse_knn = mean_squared_error(y_test, y_pred, squared=False)\n",
        "mae_knn = mean_absolute_error(y_test, y_pred)\n",
        "\n",
        "print('KNN RMSE:', rmse_knn)\n",
        "print('KNN MAE:', mae_knn)\n",
        "print('Tiempo de entrenamiento:', train_time_knn)"
      ]
    },
    {
      "cell_type": "markdown",
      "metadata": {
        "id": "Cdo9fqQ6XxPe"
      },
      "source": [
        "Con arboles de regresion"
      ]
    },
    {
      "cell_type": "code",
      "execution_count": null,
      "metadata": {
        "colab": {
          "base_uri": "https://localhost:8080/"
        },
        "id": "4CwgPyIRX0UG",
        "outputId": "fccc416e-66fa-49ba-ed11-03681f946acc"
      },
      "outputs": [
        {
          "output_type": "stream",
          "name": "stdout",
          "text": [
            "Árboles de regresión RMSE: 4932124.201037631\n",
            "Árboles de regresión MAE: 3332421.0821917807\n",
            "Tiempo de entrenamiento: 0.43798303604125977\n"
          ]
        }
      ],
      "source": [
        "# Crear el modelo de árboles de regresión\n",
        "tree = DecisionTreeRegressor()\n",
        "\n",
        "# Medir tiempo de entrenamiento\n",
        "start_time = time.time()\n",
        "\n",
        "# Entrenar el modelo de árboles de regresión con los datos de entrenamiento\n",
        "tree.fit(X_train, y_train)\n",
        "\n",
        "# Calcular tiempo de entrenamiento\n",
        "train_time_tree = time.time() - start_time\n",
        "\n",
        "# Predecir los valores de producción de energía solar con el conjunto de prueba\n",
        "y_pred = tree.predict(X_test)\n",
        "\n",
        "# Evaluar el modelo con las métricas RMSE y MAE\n",
        "rmse_tree = mean_squared_error(y_test, y_pred, squared=False)\n",
        "mae_tree = mean_absolute_error(y_test, y_pred)\n",
        "\n",
        "print('Árboles de regresión RMSE:', rmse_tree)\n",
        "print('Árboles de regresión MAE:', mae_tree)\n",
        "print('Tiempo de entrenamiento:', train_time_tree)\n"
      ]
    },
    {
      "cell_type": "markdown",
      "metadata": {
        "id": "K5QKXsVeX2LW"
      },
      "source": [
        "Con regresion lineal"
      ]
    },
    {
      "cell_type": "code",
      "execution_count": null,
      "metadata": {
        "colab": {
          "base_uri": "https://localhost:8080/"
        },
        "id": "X53oNZ_HX5BI",
        "outputId": "39cf68c2-7e0a-4f4e-f78d-9fbb17b2a79e"
      },
      "outputs": [
        {
          "output_type": "stream",
          "name": "stdout",
          "text": [
            "Regresión lineal RMSE: 3293382.8090738435\n",
            "Regresión lineal MAE: 2416381.7337952727\n",
            "Tiempo de entrenamiento: 0.046337127685546875\n"
          ]
        }
      ],
      "source": [
        "# Crear el modelo de regresión lineal\n",
        "lr = LinearRegression()\n",
        "\n",
        "# Medir tiempo de entrenamiento\n",
        "start_time = time.time()\n",
        "\n",
        "# Entrenar el modelo de regresión lineal con los datos de entrenamiento\n",
        "lr.fit(X_train, y_train)\n",
        "\n",
        "# Calcular tiempo de entrenamiento\n",
        "train_time_lr = time.time() - start_time\n",
        "\n",
        "# Predecir los valores de producción de energía solar con el conjunto de prueba\n",
        "y_pred = lr.predict(X_test)\n",
        "\n",
        "# Evaluar el modelo con las métricas RMSE y MAE\n",
        "rmse_lr = mean_squared_error(y_test, y_pred, squared=False)\n",
        "mae_lr = mean_absolute_error(y_test, y_pred)\n",
        "\n",
        "print('Regresión lineal RMSE:', rmse_lr)\n",
        "print('Regresión lineal MAE:', mae_lr)\n",
        "print('Tiempo de entrenamiento:', train_time_lr)\n"
      ]
    },
    {
      "cell_type": "markdown",
      "metadata": {
        "id": "GfC4XZWdczFm"
      },
      "source": [
        "### Comparacion entre las tres ejecuciones"
      ]
    },
    {
      "cell_type": "code",
      "execution_count": null,
      "metadata": {
        "colab": {
          "base_uri": "https://localhost:8080/",
          "height": 930
        },
        "id": "6mNI7MXDWohW",
        "outputId": "10cb79ec-d579-4cea-858d-7880576ed2f5"
      },
      "outputs": [
        {
          "output_type": "display_data",
          "data": {
            "text/plain": [
              "<Figure size 432x288 with 1 Axes>"
            ],
            "image/png": "[encoded data removed]"
          },
          "metadata": {
            "needs_background": "light"
          }
        },
        {
          "output_type": "stream",
          "name": "stdout",
          "text": [
            "\n",
            "\n"
          ]
        },
        {
          "output_type": "display_data",
          "data": {
            "text/plain": [
              "<Figure size 432x288 with 1 Axes>"
            ],
            "image/png": "[encoded data removed]"
          },
          "metadata": {
            "needs_background": "light"
          }
        },
        {
          "output_type": "stream",
          "name": "stdout",
          "text": [
            "\n",
            "\n"
          ]
        },
        {
          "output_type": "display_data",
          "data": {
            "text/plain": [
              "<Figure size 432x288 with 1 Axes>"
            ],
            "image/png": "[encoded data removed]"
          },
          "metadata": {
            "needs_background": "light"
          }
        }
      ],
      "source": [
        "# Graficar errores de RMSE\n",
        "plt.bar(['KNN', 'Árboles de regresión', 'Regresión lineal'], [rmse_knn, rmse_tree, rmse_lr])\n",
        "plt.title('Comparación de errores de RMSE')\n",
        "plt.xlabel('Modelo')\n",
        "plt.ylabel('RMSE')\n",
        "plt.show()\n",
        "print(\"\\n\")\n",
        "\n",
        "# Graficar errores de MAE\n",
        "plt.bar(['KNN', 'Árboles de regresión', 'Regresión lineal'], [mae_knn, mae_tree, mae_lr])\n",
        "plt.title('Comparación de errores de MAE')\n",
        "plt.xlabel('Modelo')\n",
        "plt.ylabel('MAE')\n",
        "plt.show()\n",
        "print(\"\\n\")\n",
        "\n",
        "\n",
        "# Para los tiempos de entrenaimiento\n",
        "# Crear una lista con los tiempos de entrenamiento de los tres modelos\n",
        "train_times = [train_time_knn, train_time_tree, train_time_lr]\n",
        "\n",
        "# Crear una figura y un eje\n",
        "fig, ax = plt.subplots()\n",
        "\n",
        "# Graficar los tiempos de entrenamiento de los tres modelos\n",
        "ax.bar(['KNN', 'Árbol de regresión', 'Regresión lineal'], train_times)\n",
        "\n",
        "# Agregar etiquetas y título\n",
        "ax.set_xlabel('Modelo')\n",
        "ax.set_ylabel('Tiempo de entrenamiento (segundos)')\n",
        "ax.set_title('Comparación de tiempos de entrenamiento de los modelos')\n",
        "\n",
        "# Mostrar la figura\n",
        "plt.show()\n",
        "\n"
      ]
    },
    {
      "cell_type": "markdown",
      "metadata": {
        "id": "y0RVeg1AT3RD"
      },
      "source": [
        "Como se puede observar el mejor es el de regresión lineal con los parámetros por defecto, es el que menos error tiene en ambas mediciones respecto a los otros dos. Esto puede deberse a que las variables de entrada pueden tener una relacion lineal con la de salida o porque los datos contienen ruido, lo que hace que a regresión lineal pueda producir una mejor predicción que KNN y árboles de regresión debido a su simplicidad. Los modelos más flexibles como KNN y árboles de regresión suelen ser más sensibles al ruido y producir una peor predicción. Sin embargo, no es el más rápido, ya que el KNN con los parametros por defecto es el mas rapido de los tres puede ser debido a que es un modelo no paramétrico y no requiere un proceso de entrenamiento intensivo."
      ]
    },
    {
      "cell_type": "markdown",
      "metadata": {
        "id": "RGYoHCq6WZMH"
      },
      "source": [
        "## Ajuste de hiperparametros"
      ]
    },
    {
      "cell_type": "markdown",
      "metadata": {
        "id": "Z4BmQ40NX-yv"
      },
      "source": [
        "Ajuste de hiperparametros en KNN"
      ]
    },
    {
      "cell_type": "code",
      "execution_count": null,
      "metadata": {
        "colab": {
          "base_uri": "https://localhost:8080/"
        },
        "id": "Gb2EiQShX_hn",
        "outputId": "11316c20-f22b-438f-a38a-82a474632e82"
      },
      "outputs": [
        {
          "output_type": "stream",
          "name": "stdout",
          "text": [
            "KNN:\n",
            " Best parameters: {'n_neighbors': 11, 'p': 1, 'weights': 'distance'} \n",
            " RMSE: 3745133.874758045 \n",
            " MAE: 2744849.946772506\n",
            "Tiempo de entrenamiento: 266.13586497306824\n"
          ]
        }
      ],
      "source": [
        "# Crear modelo de KNN\n",
        "knn = KNeighborsRegressor()\n",
        "\n",
        "# Definir grid de parámetros\n",
        "param_grid = {\n",
        "    'n_neighbors': [3, 5, 7, 9, 11],\n",
        "    'weights': ['uniform', 'distance'],\n",
        "    'p': [1, 2, 3]\n",
        "}\n",
        "\n",
        "# Realizar búsqueda de hiperparámetros\n",
        "knn_grid = GridSearchCV(knn, param_grid=param_grid, cv=5, scoring='neg_mean_squared_error')\n",
        "\n",
        "# Medir tiempo de entrenamiento\n",
        "start_time = time.time()\n",
        "\n",
        "knn_grid.fit(X_train, y_train)\n",
        "\n",
        "# Calcular tiempo de entrenamiento\n",
        "train_time_knn_op = time.time() - start_time\n",
        "\n",
        "# Obtener los mejores parámetros\n",
        "knn_best_params = knn_grid.best_params_\n",
        "\n",
        "# Entrenar modelo con los mejores parámetros\n",
        "knn = KNeighborsRegressor(**knn_best_params)\n",
        "knn.fit(X_train, y_train)\n",
        "\n",
        "# Evaluar modelo\n",
        "rmse_knn_op = np.sqrt(-cross_val_score(knn, X_train, y_train, cv=5, scoring='neg_mean_squared_error')).mean()\n",
        "mae_knn_op = -cross_val_score(knn, X_train, y_train, cv=5, scoring='neg_mean_absolute_error').mean()\n",
        "\n",
        "print(\"KNN:\\n\", \"Best parameters:\", knn_best_params, \"\\n\", \"RMSE:\", rmse_knn_op, \"\\n\", \"MAE:\", mae_knn_op)\n",
        "print('Tiempo de entrenamiento:', train_time_knn_op)"
      ]
    },
    {
      "cell_type": "markdown",
      "metadata": {
        "id": "oXQ3nHDiYTUH"
      },
      "source": [
        "Ajuste de hiperparametros en un arbol de regresion"
      ]
    },
    {
      "cell_type": "code",
      "execution_count": null,
      "metadata": {
        "colab": {
          "base_uri": "https://localhost:8080/"
        },
        "id": "jYaAd0dZYV1o",
        "outputId": "13e4e42b-d405-4932-b480-f98abbd54f5d"
      },
      "outputs": [
        {
          "output_type": "stream",
          "name": "stdout",
          "text": [
            "Árbol de Regresión:\n",
            " Best parameters: {'max_depth': 5, 'max_features': None, 'min_samples_leaf': 2, 'min_samples_split': 10} \n",
            " RMSE: 3805281.463098604 \n",
            " MAE: 2761836.3271472347\n",
            "Tiempo de entrenamiento: 142.75231456756592\n"
          ]
        }
      ],
      "source": [
        "# Crear modelo de Árbol de Regresión\n",
        "tree = DecisionTreeRegressor(random_state=42)\n",
        "\n",
        "# Definir grid de parámetros\n",
        "param_grid = {\n",
        "    'max_depth': [None, 1, 2, 3, 4, 5, 10, 15, 20],\n",
        "    'min_samples_split': [2, 5, 10, 15, 20],\n",
        "    'min_samples_leaf': [1, 2, 5, 10],\n",
        "    'max_features': [None, 'sqrt', 'log2']\n",
        "}\n",
        "\n",
        "# Realizar búsqueda de hiperparámetros\n",
        "tree_grid = GridSearchCV(tree, param_grid=param_grid, cv=5, scoring='neg_mean_squared_error')\n",
        "\n",
        "# Medir tiempo de entrenamiento\n",
        "start_time = time.time()\n",
        "\n",
        "tree_grid.fit(X_train, y_train)\n",
        "\n",
        "# Calcular tiempo de entrenamiento\n",
        "train_time_tree_op = time.time() - start_time\n",
        "\n",
        "# Obtener los mejores parámetros\n",
        "tree_best_params = tree_grid.best_params_\n",
        "\n",
        "# Entrenar modelo con los mejores parámetros\n",
        "tree = DecisionTreeRegressor(**tree_best_params, random_state=42)\n",
        "tree.fit(X_train, y_train)\n",
        "\n",
        "# Evaluar modelo\n",
        "rmse_tree_op = np.sqrt(-cross_val_score(tree, X_train, y_train, cv=5, scoring='neg_mean_squared_error')).mean()\n",
        "mae_tree_op = -cross_val_score(tree, X_train, y_train, cv=5, scoring='neg_mean_absolute_error').mean()\n",
        "\n",
        "print(\"Árbol de Regresión:\\n\", \"Best parameters:\", tree_best_params, \"\\n\", \"RMSE:\", rmse_tree_op, \"\\n\", \"MAE:\", mae_tree_op)\n",
        "print('Tiempo de entrenamiento:', train_time_tree_op)"
      ]
    },
    {
      "cell_type": "markdown",
      "metadata": {
        "id": "kvmwju2ta2Zl"
      },
      "source": [
        "Ajuste de hiperparametros en regresion lineal"
      ]
    },
    {
      "cell_type": "code",
      "execution_count": null,
      "metadata": {
        "colab": {
          "base_uri": "https://localhost:8080/"
        },
        "id": "itix0UVkEZXa",
        "outputId": "41dfbe69-0830-4bb3-ad60-20862d86790a"
      },
      "outputs": [
        {
          "output_type": "stream",
          "name": "stderr",
          "text": [
            "/usr/local/lib/python3.8/dist-packages/sklearn/linear_model/_base.py:141: FutureWarning: 'normalize' was deprecated in version 1.0 and will be removed in 1.2.\n",
            "If you wish to scale the data, use Pipeline with a StandardScaler in a preprocessing stage. To reproduce the previous behavior:\n",
            "\n",
            "from sklearn.pipeline import make_pipeline\n",
            "\n",
            "model = make_pipeline(StandardScaler(with_mean=False), LinearRegression())\n",
            "\n",
            "If you wish to pass a sample_weight parameter, you need to pass it as a fit parameter to each step of the pipeline as follows:\n",
            "\n",
            "kwargs = {s[0] + '__sample_weight': sample_weight for s in model.steps}\n",
            "model.fit(X, y, **kwargs)\n",
            "\n",
            "\n",
            "  warnings.warn(\n",
            "/usr/local/lib/python3.8/dist-packages/sklearn/linear_model/_base.py:141: FutureWarning: 'normalize' was deprecated in version 1.0 and will be removed in 1.2.\n",
            "If you wish to scale the data, use Pipeline with a StandardScaler in a preprocessing stage. To reproduce the previous behavior:\n",
            "\n",
            "from sklearn.pipeline import make_pipeline\n",
            "\n",
            "model = make_pipeline(StandardScaler(with_mean=False), LinearRegression())\n",
            "\n",
            "If you wish to pass a sample_weight parameter, you need to pass it as a fit parameter to each step of the pipeline as follows:\n",
            "\n",
            "kwargs = {s[0] + '__sample_weight': sample_weight for s in model.steps}\n",
            "model.fit(X, y, **kwargs)\n",
            "\n",
            "\n",
            "  warnings.warn(\n",
            "/usr/local/lib/python3.8/dist-packages/sklearn/linear_model/_base.py:141: FutureWarning: 'normalize' was deprecated in version 1.0 and will be removed in 1.2.\n",
            "If you wish to scale the data, use Pipeline with a StandardScaler in a preprocessing stage. To reproduce the previous behavior:\n",
            "\n",
            "from sklearn.pipeline import make_pipeline\n",
            "\n",
            "model = make_pipeline(StandardScaler(with_mean=False), LinearRegression())\n",
            "\n",
            "If you wish to pass a sample_weight parameter, you need to pass it as a fit parameter to each step of the pipeline as follows:\n",
            "\n",
            "kwargs = {s[0] + '__sample_weight': sample_weight for s in model.steps}\n",
            "model.fit(X, y, **kwargs)\n",
            "\n",
            "\n",
            "  warnings.warn(\n",
            "/usr/local/lib/python3.8/dist-packages/sklearn/linear_model/_base.py:141: FutureWarning: 'normalize' was deprecated in version 1.0 and will be removed in 1.2.\n",
            "If you wish to scale the data, use Pipeline with a StandardScaler in a preprocessing stage. To reproduce the previous behavior:\n",
            "\n",
            "from sklearn.pipeline import make_pipeline\n",
            "\n",
            "model = make_pipeline(StandardScaler(with_mean=False), LinearRegression())\n",
            "\n",
            "If you wish to pass a sample_weight parameter, you need to pass it as a fit parameter to each step of the pipeline as follows:\n",
            "\n",
            "kwargs = {s[0] + '__sample_weight': sample_weight for s in model.steps}\n",
            "model.fit(X, y, **kwargs)\n",
            "\n",
            "\n",
            "  warnings.warn(\n",
            "/usr/local/lib/python3.8/dist-packages/sklearn/linear_model/_base.py:141: FutureWarning: 'normalize' was deprecated in version 1.0 and will be removed in 1.2.\n",
            "If you wish to scale the data, use Pipeline with a StandardScaler in a preprocessing stage. To reproduce the previous behavior:\n",
            "\n",
            "from sklearn.pipeline import make_pipeline\n",
            "\n",
            "model = make_pipeline(StandardScaler(with_mean=False), LinearRegression())\n",
            "\n",
            "If you wish to pass a sample_weight parameter, you need to pass it as a fit parameter to each step of the pipeline as follows:\n",
            "\n",
            "kwargs = {s[0] + '__sample_weight': sample_weight for s in model.steps}\n",
            "model.fit(X, y, **kwargs)\n",
            "\n",
            "\n",
            "  warnings.warn(\n",
            "/usr/local/lib/python3.8/dist-packages/sklearn/linear_model/_base.py:148: FutureWarning: 'normalize' was deprecated in version 1.0 and will be removed in 1.2. Please leave the normalize parameter to its default value to silence this warning. The default behavior of this estimator is to not do any normalization. If normalization is needed please use sklearn.preprocessing.StandardScaler instead.\n",
            "  warnings.warn(\n",
            "/usr/local/lib/python3.8/dist-packages/sklearn/linear_model/_base.py:148: FutureWarning: 'normalize' was deprecated in version 1.0 and will be removed in 1.2. Please leave the normalize parameter to its default value to silence this warning. The default behavior of this estimator is to not do any normalization. If normalization is needed please use sklearn.preprocessing.StandardScaler instead.\n",
            "  warnings.warn(\n",
            "/usr/local/lib/python3.8/dist-packages/sklearn/linear_model/_base.py:148: FutureWarning: 'normalize' was deprecated in version 1.0 and will be removed in 1.2. Please leave the normalize parameter to its default value to silence this warning. The default behavior of this estimator is to not do any normalization. If normalization is needed please use sklearn.preprocessing.StandardScaler instead.\n",
            "  warnings.warn(\n",
            "/usr/local/lib/python3.8/dist-packages/sklearn/linear_model/_base.py:148: FutureWarning: 'normalize' was deprecated in version 1.0 and will be removed in 1.2. Please leave the normalize parameter to its default value to silence this warning. The default behavior of this estimator is to not do any normalization. If normalization is needed please use sklearn.preprocessing.StandardScaler instead.\n",
            "  warnings.warn(\n",
            "/usr/local/lib/python3.8/dist-packages/sklearn/linear_model/_base.py:148: FutureWarning: 'normalize' was deprecated in version 1.0 and will be removed in 1.2. Please leave the normalize parameter to its default value to silence this warning. The default behavior of this estimator is to not do any normalization. If normalization is needed please use sklearn.preprocessing.StandardScaler instead.\n",
            "  warnings.warn(\n",
            "/usr/local/lib/python3.8/dist-packages/sklearn/linear_model/_base.py:141: FutureWarning: 'normalize' was deprecated in version 1.0 and will be removed in 1.2.\n",
            "If you wish to scale the data, use Pipeline with a StandardScaler in a preprocessing stage. To reproduce the previous behavior:\n",
            "\n",
            "from sklearn.pipeline import make_pipeline\n",
            "\n",
            "model = make_pipeline(StandardScaler(with_mean=False), LinearRegression())\n",
            "\n",
            "If you wish to pass a sample_weight parameter, you need to pass it as a fit parameter to each step of the pipeline as follows:\n",
            "\n",
            "kwargs = {s[0] + '__sample_weight': sample_weight for s in model.steps}\n",
            "model.fit(X, y, **kwargs)\n",
            "\n",
            "\n",
            "  warnings.warn(\n",
            "/usr/local/lib/python3.8/dist-packages/sklearn/linear_model/_base.py:141: FutureWarning: 'normalize' was deprecated in version 1.0 and will be removed in 1.2.\n",
            "If you wish to scale the data, use Pipeline with a StandardScaler in a preprocessing stage. To reproduce the previous behavior:\n",
            "\n",
            "from sklearn.pipeline import make_pipeline\n",
            "\n",
            "model = make_pipeline(StandardScaler(with_mean=False), LinearRegression())\n",
            "\n",
            "If you wish to pass a sample_weight parameter, you need to pass it as a fit parameter to each step of the pipeline as follows:\n",
            "\n",
            "kwargs = {s[0] + '__sample_weight': sample_weight for s in model.steps}\n",
            "model.fit(X, y, **kwargs)\n",
            "\n",
            "\n",
            "  warnings.warn(\n",
            "/usr/local/lib/python3.8/dist-packages/sklearn/linear_model/_base.py:141: FutureWarning: 'normalize' was deprecated in version 1.0 and will be removed in 1.2.\n",
            "If you wish to scale the data, use Pipeline with a StandardScaler in a preprocessing stage. To reproduce the previous behavior:\n",
            "\n",
            "from sklearn.pipeline import make_pipeline\n",
            "\n",
            "model = make_pipeline(StandardScaler(with_mean=False), LinearRegression())\n",
            "\n",
            "If you wish to pass a sample_weight parameter, you need to pass it as a fit parameter to each step of the pipeline as follows:\n",
            "\n",
            "kwargs = {s[0] + '__sample_weight': sample_weight for s in model.steps}\n",
            "model.fit(X, y, **kwargs)\n",
            "\n",
            "\n",
            "  warnings.warn(\n",
            "/usr/local/lib/python3.8/dist-packages/sklearn/linear_model/_base.py:141: FutureWarning: 'normalize' was deprecated in version 1.0 and will be removed in 1.2.\n",
            "If you wish to scale the data, use Pipeline with a StandardScaler in a preprocessing stage. To reproduce the previous behavior:\n",
            "\n",
            "from sklearn.pipeline import make_pipeline\n",
            "\n",
            "model = make_pipeline(StandardScaler(with_mean=False), LinearRegression())\n",
            "\n",
            "If you wish to pass a sample_weight parameter, you need to pass it as a fit parameter to each step of the pipeline as follows:\n",
            "\n",
            "kwargs = {s[0] + '__sample_weight': sample_weight for s in model.steps}\n",
            "model.fit(X, y, **kwargs)\n",
            "\n",
            "\n",
            "  warnings.warn(\n",
            "/usr/local/lib/python3.8/dist-packages/sklearn/linear_model/_base.py:141: FutureWarning: 'normalize' was deprecated in version 1.0 and will be removed in 1.2.\n",
            "If you wish to scale the data, use Pipeline with a StandardScaler in a preprocessing stage. To reproduce the previous behavior:\n",
            "\n",
            "from sklearn.pipeline import make_pipeline\n",
            "\n",
            "model = make_pipeline(StandardScaler(with_mean=False), LinearRegression())\n",
            "\n",
            "If you wish to pass a sample_weight parameter, you need to pass it as a fit parameter to each step of the pipeline as follows:\n",
            "\n",
            "kwargs = {s[0] + '__sample_weight': sample_weight for s in model.steps}\n",
            "model.fit(X, y, **kwargs)\n",
            "\n",
            "\n",
            "  warnings.warn(\n",
            "/usr/local/lib/python3.8/dist-packages/sklearn/linear_model/_base.py:148: FutureWarning: 'normalize' was deprecated in version 1.0 and will be removed in 1.2. Please leave the normalize parameter to its default value to silence this warning. The default behavior of this estimator is to not do any normalization. If normalization is needed please use sklearn.preprocessing.StandardScaler instead.\n",
            "  warnings.warn(\n",
            "/usr/local/lib/python3.8/dist-packages/sklearn/linear_model/_base.py:148: FutureWarning: 'normalize' was deprecated in version 1.0 and will be removed in 1.2. Please leave the normalize parameter to its default value to silence this warning. The default behavior of this estimator is to not do any normalization. If normalization is needed please use sklearn.preprocessing.StandardScaler instead.\n",
            "  warnings.warn(\n",
            "/usr/local/lib/python3.8/dist-packages/sklearn/linear_model/_base.py:148: FutureWarning: 'normalize' was deprecated in version 1.0 and will be removed in 1.2. Please leave the normalize parameter to its default value to silence this warning. The default behavior of this estimator is to not do any normalization. If normalization is needed please use sklearn.preprocessing.StandardScaler instead.\n",
            "  warnings.warn(\n",
            "/usr/local/lib/python3.8/dist-packages/sklearn/linear_model/_base.py:148: FutureWarning: 'normalize' was deprecated in version 1.0 and will be removed in 1.2. Please leave the normalize parameter to its default value to silence this warning. The default behavior of this estimator is to not do any normalization. If normalization is needed please use sklearn.preprocessing.StandardScaler instead.\n",
            "  warnings.warn(\n",
            "/usr/local/lib/python3.8/dist-packages/sklearn/linear_model/_base.py:148: FutureWarning: 'normalize' was deprecated in version 1.0 and will be removed in 1.2. Please leave the normalize parameter to its default value to silence this warning. The default behavior of this estimator is to not do any normalization. If normalization is needed please use sklearn.preprocessing.StandardScaler instead.\n",
            "  warnings.warn(\n",
            "/usr/local/lib/python3.8/dist-packages/sklearn/linear_model/_base.py:141: FutureWarning: 'normalize' was deprecated in version 1.0 and will be removed in 1.2.\n",
            "If you wish to scale the data, use Pipeline with a StandardScaler in a preprocessing stage. To reproduce the previous behavior:\n",
            "\n",
            "from sklearn.pipeline import make_pipeline\n",
            "\n",
            "model = make_pipeline(StandardScaler(with_mean=False), LinearRegression())\n",
            "\n",
            "If you wish to pass a sample_weight parameter, you need to pass it as a fit parameter to each step of the pipeline as follows:\n",
            "\n",
            "kwargs = {s[0] + '__sample_weight': sample_weight for s in model.steps}\n",
            "model.fit(X, y, **kwargs)\n",
            "\n",
            "\n",
            "  warnings.warn(\n",
            "/usr/local/lib/python3.8/dist-packages/sklearn/linear_model/_base.py:141: FutureWarning: 'normalize' was deprecated in version 1.0 and will be removed in 1.2.\n",
            "If you wish to scale the data, use Pipeline with a StandardScaler in a preprocessing stage. To reproduce the previous behavior:\n",
            "\n",
            "from sklearn.pipeline import make_pipeline\n",
            "\n",
            "model = make_pipeline(StandardScaler(with_mean=False), LinearRegression())\n",
            "\n",
            "If you wish to pass a sample_weight parameter, you need to pass it as a fit parameter to each step of the pipeline as follows:\n",
            "\n",
            "kwargs = {s[0] + '__sample_weight': sample_weight for s in model.steps}\n",
            "model.fit(X, y, **kwargs)\n",
            "\n",
            "\n",
            "  warnings.warn(\n",
            "/usr/local/lib/python3.8/dist-packages/sklearn/linear_model/_base.py:141: FutureWarning: 'normalize' was deprecated in version 1.0 and will be removed in 1.2.\n",
            "If you wish to scale the data, use Pipeline with a StandardScaler in a preprocessing stage. To reproduce the previous behavior:\n",
            "\n",
            "from sklearn.pipeline import make_pipeline\n",
            "\n",
            "model = make_pipeline(StandardScaler(with_mean=False), LinearRegression())\n",
            "\n",
            "If you wish to pass a sample_weight parameter, you need to pass it as a fit parameter to each step of the pipeline as follows:\n",
            "\n",
            "kwargs = {s[0] + '__sample_weight': sample_weight for s in model.steps}\n",
            "model.fit(X, y, **kwargs)\n",
            "\n",
            "\n",
            "  warnings.warn(\n",
            "/usr/local/lib/python3.8/dist-packages/sklearn/linear_model/_base.py:141: FutureWarning: 'normalize' was deprecated in version 1.0 and will be removed in 1.2.\n",
            "If you wish to scale the data, use Pipeline with a StandardScaler in a preprocessing stage. To reproduce the previous behavior:\n",
            "\n",
            "from sklearn.pipeline import make_pipeline\n",
            "\n",
            "model = make_pipeline(StandardScaler(with_mean=False), LinearRegression())\n",
            "\n",
            "If you wish to pass a sample_weight parameter, you need to pass it as a fit parameter to each step of the pipeline as follows:\n",
            "\n",
            "kwargs = {s[0] + '__sample_weight': sample_weight for s in model.steps}\n",
            "model.fit(X, y, **kwargs)\n",
            "\n",
            "\n",
            "  warnings.warn(\n",
            "/usr/local/lib/python3.8/dist-packages/sklearn/linear_model/_base.py:141: FutureWarning: 'normalize' was deprecated in version 1.0 and will be removed in 1.2.\n",
            "If you wish to scale the data, use Pipeline with a StandardScaler in a preprocessing stage. To reproduce the previous behavior:\n",
            "\n",
            "from sklearn.pipeline import make_pipeline\n",
            "\n",
            "model = make_pipeline(StandardScaler(with_mean=False), LinearRegression())\n",
            "\n",
            "If you wish to pass a sample_weight parameter, you need to pass it as a fit parameter to each step of the pipeline as follows:\n",
            "\n",
            "kwargs = {s[0] + '__sample_weight': sample_weight for s in model.steps}\n",
            "model.fit(X, y, **kwargs)\n",
            "\n",
            "\n",
            "  warnings.warn(\n",
            "/usr/local/lib/python3.8/dist-packages/sklearn/linear_model/_base.py:148: FutureWarning: 'normalize' was deprecated in version 1.0 and will be removed in 1.2. Please leave the normalize parameter to its default value to silence this warning. The default behavior of this estimator is to not do any normalization. If normalization is needed please use sklearn.preprocessing.StandardScaler instead.\n",
            "  warnings.warn(\n",
            "/usr/local/lib/python3.8/dist-packages/sklearn/linear_model/_base.py:148: FutureWarning: 'normalize' was deprecated in version 1.0 and will be removed in 1.2. Please leave the normalize parameter to its default value to silence this warning. The default behavior of this estimator is to not do any normalization. If normalization is needed please use sklearn.preprocessing.StandardScaler instead.\n",
            "  warnings.warn(\n",
            "/usr/local/lib/python3.8/dist-packages/sklearn/linear_model/_base.py:148: FutureWarning: 'normalize' was deprecated in version 1.0 and will be removed in 1.2. Please leave the normalize parameter to its default value to silence this warning. The default behavior of this estimator is to not do any normalization. If normalization is needed please use sklearn.preprocessing.StandardScaler instead.\n",
            "  warnings.warn(\n",
            "/usr/local/lib/python3.8/dist-packages/sklearn/linear_model/_base.py:148: FutureWarning: 'normalize' was deprecated in version 1.0 and will be removed in 1.2. Please leave the normalize parameter to its default value to silence this warning. The default behavior of this estimator is to not do any normalization. If normalization is needed please use sklearn.preprocessing.StandardScaler instead.\n",
            "  warnings.warn(\n",
            "/usr/local/lib/python3.8/dist-packages/sklearn/linear_model/_base.py:148: FutureWarning: 'normalize' was deprecated in version 1.0 and will be removed in 1.2. Please leave the normalize parameter to its default value to silence this warning. The default behavior of this estimator is to not do any normalization. If normalization is needed please use sklearn.preprocessing.StandardScaler instead.\n",
            "  warnings.warn(\n",
            "/usr/local/lib/python3.8/dist-packages/sklearn/linear_model/_base.py:141: FutureWarning: 'normalize' was deprecated in version 1.0 and will be removed in 1.2.\n",
            "If you wish to scale the data, use Pipeline with a StandardScaler in a preprocessing stage. To reproduce the previous behavior:\n",
            "\n",
            "from sklearn.pipeline import make_pipeline\n",
            "\n",
            "model = make_pipeline(StandardScaler(with_mean=False), LinearRegression())\n",
            "\n",
            "If you wish to pass a sample_weight parameter, you need to pass it as a fit parameter to each step of the pipeline as follows:\n",
            "\n",
            "kwargs = {s[0] + '__sample_weight': sample_weight for s in model.steps}\n",
            "model.fit(X, y, **kwargs)\n",
            "\n",
            "\n",
            "  warnings.warn(\n",
            "/usr/local/lib/python3.8/dist-packages/sklearn/linear_model/_base.py:141: FutureWarning: 'normalize' was deprecated in version 1.0 and will be removed in 1.2.\n",
            "If you wish to scale the data, use Pipeline with a StandardScaler in a preprocessing stage. To reproduce the previous behavior:\n",
            "\n",
            "from sklearn.pipeline import make_pipeline\n",
            "\n",
            "model = make_pipeline(StandardScaler(with_mean=False), LinearRegression())\n",
            "\n",
            "If you wish to pass a sample_weight parameter, you need to pass it as a fit parameter to each step of the pipeline as follows:\n",
            "\n",
            "kwargs = {s[0] + '__sample_weight': sample_weight for s in model.steps}\n",
            "model.fit(X, y, **kwargs)\n",
            "\n",
            "\n",
            "  warnings.warn(\n",
            "/usr/local/lib/python3.8/dist-packages/sklearn/linear_model/_base.py:141: FutureWarning: 'normalize' was deprecated in version 1.0 and will be removed in 1.2.\n",
            "If you wish to scale the data, use Pipeline with a StandardScaler in a preprocessing stage. To reproduce the previous behavior:\n",
            "\n",
            "from sklearn.pipeline import make_pipeline\n",
            "\n",
            "model = make_pipeline(StandardScaler(with_mean=False), LinearRegression())\n",
            "\n",
            "If you wish to pass a sample_weight parameter, you need to pass it as a fit parameter to each step of the pipeline as follows:\n",
            "\n",
            "kwargs = {s[0] + '__sample_weight': sample_weight for s in model.steps}\n",
            "model.fit(X, y, **kwargs)\n",
            "\n",
            "\n",
            "  warnings.warn(\n",
            "/usr/local/lib/python3.8/dist-packages/sklearn/linear_model/_base.py:141: FutureWarning: 'normalize' was deprecated in version 1.0 and will be removed in 1.2.\n",
            "If you wish to scale the data, use Pipeline with a StandardScaler in a preprocessing stage. To reproduce the previous behavior:\n",
            "\n",
            "from sklearn.pipeline import make_pipeline\n",
            "\n",
            "model = make_pipeline(StandardScaler(with_mean=False), LinearRegression())\n",
            "\n",
            "If you wish to pass a sample_weight parameter, you need to pass it as a fit parameter to each step of the pipeline as follows:\n",
            "\n",
            "kwargs = {s[0] + '__sample_weight': sample_weight for s in model.steps}\n",
            "model.fit(X, y, **kwargs)\n",
            "\n",
            "\n",
            "  warnings.warn(\n",
            "/usr/local/lib/python3.8/dist-packages/sklearn/linear_model/_base.py:141: FutureWarning: 'normalize' was deprecated in version 1.0 and will be removed in 1.2.\n",
            "If you wish to scale the data, use Pipeline with a StandardScaler in a preprocessing stage. To reproduce the previous behavior:\n",
            "\n",
            "from sklearn.pipeline import make_pipeline\n",
            "\n",
            "model = make_pipeline(StandardScaler(with_mean=False), LinearRegression())\n",
            "\n",
            "If you wish to pass a sample_weight parameter, you need to pass it as a fit parameter to each step of the pipeline as follows:\n",
            "\n",
            "kwargs = {s[0] + '__sample_weight': sample_weight for s in model.steps}\n",
            "model.fit(X, y, **kwargs)\n",
            "\n",
            "\n",
            "  warnings.warn(\n",
            "/usr/local/lib/python3.8/dist-packages/sklearn/linear_model/_base.py:148: FutureWarning: 'normalize' was deprecated in version 1.0 and will be removed in 1.2. Please leave the normalize parameter to its default value to silence this warning. The default behavior of this estimator is to not do any normalization. If normalization is needed please use sklearn.preprocessing.StandardScaler instead.\n",
            "  warnings.warn(\n",
            "/usr/local/lib/python3.8/dist-packages/sklearn/linear_model/_base.py:148: FutureWarning: 'normalize' was deprecated in version 1.0 and will be removed in 1.2. Please leave the normalize parameter to its default value to silence this warning. The default behavior of this estimator is to not do any normalization. If normalization is needed please use sklearn.preprocessing.StandardScaler instead.\n",
            "  warnings.warn(\n",
            "/usr/local/lib/python3.8/dist-packages/sklearn/linear_model/_base.py:148: FutureWarning: 'normalize' was deprecated in version 1.0 and will be removed in 1.2. Please leave the normalize parameter to its default value to silence this warning. The default behavior of this estimator is to not do any normalization. If normalization is needed please use sklearn.preprocessing.StandardScaler instead.\n",
            "  warnings.warn(\n",
            "/usr/local/lib/python3.8/dist-packages/sklearn/linear_model/_base.py:148: FutureWarning: 'normalize' was deprecated in version 1.0 and will be removed in 1.2. Please leave the normalize parameter to its default value to silence this warning. The default behavior of this estimator is to not do any normalization. If normalization is needed please use sklearn.preprocessing.StandardScaler instead.\n",
            "  warnings.warn(\n",
            "/usr/local/lib/python3.8/dist-packages/sklearn/linear_model/_base.py:148: FutureWarning: 'normalize' was deprecated in version 1.0 and will be removed in 1.2. Please leave the normalize parameter to its default value to silence this warning. The default behavior of this estimator is to not do any normalization. If normalization is needed please use sklearn.preprocessing.StandardScaler instead.\n",
            "  warnings.warn(\n",
            "/usr/local/lib/python3.8/dist-packages/sklearn/linear_model/_base.py:141: FutureWarning: 'normalize' was deprecated in version 1.0 and will be removed in 1.2.\n",
            "If you wish to scale the data, use Pipeline with a StandardScaler in a preprocessing stage. To reproduce the previous behavior:\n",
            "\n",
            "from sklearn.pipeline import make_pipeline\n",
            "\n",
            "model = make_pipeline(StandardScaler(with_mean=False), LinearRegression())\n",
            "\n",
            "If you wish to pass a sample_weight parameter, you need to pass it as a fit parameter to each step of the pipeline as follows:\n",
            "\n",
            "kwargs = {s[0] + '__sample_weight': sample_weight for s in model.steps}\n",
            "model.fit(X, y, **kwargs)\n",
            "\n",
            "\n",
            "  warnings.warn(\n",
            "/usr/local/lib/python3.8/dist-packages/sklearn/linear_model/_base.py:141: FutureWarning: 'normalize' was deprecated in version 1.0 and will be removed in 1.2.\n",
            "If you wish to scale the data, use Pipeline with a StandardScaler in a preprocessing stage. To reproduce the previous behavior:\n",
            "\n",
            "from sklearn.pipeline import make_pipeline\n",
            "\n",
            "model = make_pipeline(StandardScaler(with_mean=False), LinearRegression())\n",
            "\n",
            "If you wish to pass a sample_weight parameter, you need to pass it as a fit parameter to each step of the pipeline as follows:\n",
            "\n",
            "kwargs = {s[0] + '__sample_weight': sample_weight for s in model.steps}\n",
            "model.fit(X, y, **kwargs)\n",
            "\n",
            "\n",
            "  warnings.warn(\n"
          ]
        },
        {
          "output_type": "stream",
          "name": "stdout",
          "text": [
            "######################################################################\n",
            "######################################################################\n",
            "######################################################################\n",
            "Best parameters: {'copy_X': True, 'fit_intercept': False, 'normalize': True}\n",
            "MAE: 2418957.4816377056\n",
            "RMSE: 3294336.357212385\n",
            "Tiempo de entrenamiento: 0.035695791244506836\n",
            "######################################################################\n",
            "######################################################################\n",
            "######################################################################\n"
          ]
        }
      ],
      "source": [
        "# Define los hiperparámetros para ajustar\n",
        "params = {'fit_intercept': [True, False],\n",
        "          'normalize': [True, False],\n",
        "          'copy_X': [True, False]}\n",
        "\n",
        "# Define el modelo de regresión lineal\n",
        "model = LinearRegression()\n",
        "\n",
        "# Realiza la búsqueda de cuadrícula\n",
        "grid = GridSearchCV(model, params, cv=5, scoring='neg_mean_absolute_error', refit=True)\n",
        "grid.fit(X_train, y_train)\n",
        "\n",
        "# Obtiene los valores óptimos de los hiperparámetros\n",
        "best_params = grid.best_params_\n",
        "\n",
        "# Crea un nuevo modelo de regresión lineal utilizando los valores óptimos de los hiperparámetros\n",
        "model_best = LinearRegression(**best_params)\n",
        "\n",
        "# Medir tiempo de entrenamiento\n",
        "start_time = time.time()\n",
        "\n",
        "# Ajusta el modelo utilizando todo el conjunto de entrenamiento\n",
        "model_best.fit(X_train, y_train)\n",
        "\n",
        "# Calcular tiempo de entrenamiento\n",
        "train_time_lr_op = time.time() - start_time\n",
        "\n",
        "# Realiza predicciones sobre el conjunto de prueba utilizando el modelo ajustado con los valores óptimos de los hiperparámetros\n",
        "y_pred = model_best.predict(X_test)\n",
        "\n",
        "# Calcula el MAE y RMSE del modelo ajustado con los valores óptimos de los hiperparámetros\n",
        "mae_lr_op = mean_absolute_error(y_test, y_pred)\n",
        "rmse_lr_op = np.sqrt(mean_squared_error(y_test, y_pred))\n",
        "\n",
        "print(\"######################################################################\")\n",
        "print(\"######################################################################\")\n",
        "print(\"######################################################################\")\n",
        "print(\"Best parameters:\", best_params)\n",
        "print(\"MAE:\", mae_lr_op)\n",
        "print(\"RMSE:\", rmse_lr_op)\n",
        "print('Tiempo de entrenamiento:', train_time_lr_op)\n",
        "print(\"######################################################################\")\n",
        "print(\"######################################################################\")\n",
        "print(\"######################################################################\")\n"
      ]
    },
    {
      "cell_type": "markdown",
      "metadata": {
        "id": "Y007SvlZhEUm"
      },
      "source": [
        "A continuacion se muestra la misma grafica pero con los valores optimizados"
      ]
    },
    {
      "cell_type": "code",
      "execution_count": null,
      "metadata": {
        "colab": {
          "base_uri": "https://localhost:8080/",
          "height": 930
        },
        "id": "Bi_v7O8Cg4Tq",
        "outputId": "7baa9d55-a938-4475-e629-b16bf72c2b7e"
      },
      "outputs": [
        {
          "output_type": "display_data",
          "data": {
            "text/plain": [
              "<Figure size 432x288 with 1 Axes>"
            ],
            "image/png": "[encoded data removed]"
          },
          "metadata": {
            "needs_background": "light"
          }
        },
        {
          "output_type": "stream",
          "name": "stdout",
          "text": [
            "\n",
            "\n"
          ]
        },
        {
          "output_type": "display_data",
          "data": {
            "text/plain": [
              "<Figure size 432x288 with 1 Axes>"
            ],
            "image/png": "[encoded data removed]"
          },
          "metadata": {
            "needs_background": "light"
          }
        },
        {
          "output_type": "stream",
          "name": "stdout",
          "text": [
            "\n",
            "\n"
          ]
        },
        {
          "output_type": "display_data",
          "data": {
            "text/plain": [
              "<Figure size 432x288 with 1 Axes>"
            ],
            "image/png": "[encoded data removed]"
          },
          "metadata": {
            "needs_background": "light"
          }
        }
      ],
      "source": [
        "# Graficar errores de RMSE\n",
        "plt.bar(['KNN', 'Árboles de regresión', 'Regresión lineal'], [rmse_knn_op, rmse_tree_op, rmse_lr_op])\n",
        "plt.title('Comparación de errores de RMSE')\n",
        "plt.xlabel('Modelo')\n",
        "plt.ylabel('RMSE')\n",
        "plt.show()\n",
        "print(\"\\n\")\n",
        "\n",
        "# Graficar errores de MAE\n",
        "plt.bar(['KNN', 'Árboles de regresión', 'Regresión lineal'], [mae_knn_op, mae_tree_op, mae_lr_op])\n",
        "plt.title('Comparación de errores de MAE')\n",
        "plt.xlabel('Modelo')\n",
        "plt.ylabel('MAE')\n",
        "plt.show()\n",
        "print(\"\\n\")\n",
        "\n",
        "\n",
        "\n",
        "# Para los tiempos de entrenaimiento\n",
        "# Crear una lista con los tiempos de entrenamiento de los tres modelos\n",
        "train_times = [train_time_knn_op, train_time_tree_op, train_time_lr_op]\n",
        "\n",
        "# Crear una figura y un eje\n",
        "fig, ax = plt.subplots()\n",
        "\n",
        "# Graficar los tiempos de entrenamiento de los tres modelos\n",
        "ax.bar(['KNN', 'Árbol de regresión', 'Regresión lineal'], train_times)\n",
        "\n",
        "# Agregar etiquetas y título\n",
        "ax.set_xlabel('Modelo')\n",
        "ax.set_ylabel('Tiempo de entrenamiento (segundos)')\n",
        "ax.set_title('Comparación de tiempos de entrenamiento de los modelos')\n",
        "\n",
        "# Mostrar la figura\n",
        "plt.show()\n",
        "\n"
      ]
    },
    {
      "cell_type": "markdown",
      "metadata": {
        "id": "8kG41Gilcalt"
      },
      "source": [
        "## Comparacion respecto valores por defecto"
      ]
    },
    {
      "cell_type": "markdown",
      "metadata": {
        "id": "k6blk4uLbzGW"
      },
      "source": [
        "Como se observa en las mediciones de los errores en las tres celdas, KNN y arboles de regresion han mejorado respecto a usar los valores por defecto. Esto se debe a que el modelo ha encontrado unos mejores valores de los hiperparametros, los cuales mostramos sus valores al imprimirlos. En el caso de la regresion lineal, no mejora, esto creemos que se debe a que los valores por defecto ya son los optimos de los hiperparametros y estos tambien los mostramos por pantalla."
      ]
    },
    {
      "cell_type": "code",
      "execution_count": null,
      "metadata": {
        "id": "Z1erSJ7cdVBN"
      },
      "outputs": [],
      "source": []
    },
    {
      "cell_type": "markdown",
      "metadata": {
        "id": "mOJ_1Vw1yUSJ"
      },
      "source": [
        "# CONCLUSION"
      ]
    }
  ],
  "metadata": {
    "colab": {
      "provenance": []
    },
    "kernelspec": {
      "display_name": "Python 3",
      "name": "python3"
    },
    "language_info": {
      "name": "python"
    }
  },
  "nbformat": 4,
  "nbformat_minor": 0
}