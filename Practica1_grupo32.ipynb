{
  "cells": [
    {
      "cell_type": "markdown",
      "metadata": {
        "id": "wsKduA-7x0Gt"
      },
      "source": [
        "Indice: \n",
        "  - Introduccion\n",
        "  - Codigo\n",
        "  - Conclusion"
      ]
    },
    {
      "cell_type": "markdown",
      "metadata": {
        "id": "MmRYRKq9yJVH"
      },
      "source": [
        "# INTRODUCCION"
      ]
    },
    {
      "cell_type": "markdown",
      "metadata": {
        "id": "lo4FBu8h8871"
      },
      "source": [
        "Utilizaremos dataset \"disp_st31ns1.txt\" para entrenar\n",
        "\n",
        "1.   List item\n",
        "2.   List item\n",
        "\n"
      ]
    },
    {
      "cell_type": "markdown",
      "metadata": {
        "id": "k_lcg8bnyRNh"
      },
      "source": [
        "# Metodos basicos"
      ]
    },
    {
      "cell_type": "markdown",
      "metadata": {
        "id": "Az5AqTrH-Kdy"
      },
      "source": [
        "Creo que el codigo final va en otro notebook, pero lo hacemos aqui de mientras"
      ]
    },
    {
      "cell_type": "code",
      "execution_count": null,
      "metadata": {
        "id": "OzAZHhVeAyjI",
        "colab": {
          "base_uri": "https://localhost:8080/"
        },
        "outputId": "30b4be56-add3-4b29-e45f-98e03c71d335"
      },
      "outputs": [
        {
          "output_type": "stream",
          "name": "stdout",
          "text": [
            "Looking in indexes: https://pypi.org/simple, https://us-python.pkg.dev/colab-wheels/public/simple/\n",
            "Collecting linear-tree\n",
            "  Downloading linear_tree-0.3.5-py3-none-any.whl (21 kB)\n",
            "Requirement already satisfied: scikit-learn>=0.24.2 in /usr/local/lib/python3.9/dist-packages (from linear-tree) (1.2.2)\n",
            "Requirement already satisfied: scipy in /usr/local/lib/python3.9/dist-packages (from linear-tree) (1.10.1)\n",
            "Requirement already satisfied: numpy in /usr/local/lib/python3.9/dist-packages (from linear-tree) (1.22.4)\n",
            "Requirement already satisfied: threadpoolctl>=2.0.0 in /usr/local/lib/python3.9/dist-packages (from scikit-learn>=0.24.2->linear-tree) (3.1.0)\n",
            "Requirement already satisfied: joblib>=1.1.1 in /usr/local/lib/python3.9/dist-packages (from scikit-learn>=0.24.2->linear-tree) (1.1.1)\n",
            "Installing collected packages: linear-tree\n",
            "Successfully installed linear-tree-0.3.5\n",
            "Looking in indexes: https://pypi.org/simple, https://us-python.pkg.dev/colab-wheels/public/simple/\n",
            "Requirement already satisfied: statsmodels in /usr/local/lib/python3.9/dist-packages (0.13.5)\n",
            "Requirement already satisfied: numpy>=1.17 in /usr/local/lib/python3.9/dist-packages (from statsmodels) (1.22.4)\n",
            "Requirement already satisfied: patsy>=0.5.2 in /usr/local/lib/python3.9/dist-packages (from statsmodels) (0.5.3)\n",
            "Requirement already satisfied: packaging>=21.3 in /usr/local/lib/python3.9/dist-packages (from statsmodels) (23.0)\n",
            "Requirement already satisfied: pandas>=0.25 in /usr/local/lib/python3.9/dist-packages (from statsmodels) (1.4.4)\n",
            "Requirement already satisfied: scipy>=1.3 in /usr/local/lib/python3.9/dist-packages (from statsmodels) (1.10.1)\n",
            "Requirement already satisfied: pytz>=2020.1 in /usr/local/lib/python3.9/dist-packages (from pandas>=0.25->statsmodels) (2022.7.1)\n",
            "Requirement already satisfied: python-dateutil>=2.8.1 in /usr/local/lib/python3.9/dist-packages (from pandas>=0.25->statsmodels) (2.8.2)\n",
            "Requirement already satisfied: six in /usr/local/lib/python3.9/dist-packages (from patsy>=0.5.2->statsmodels) (1.16.0)\n",
            "\u001b[31mERROR: Operation cancelled by user\u001b[0m\u001b[31m\n",
            "\u001b[0m"
          ]
        }
      ],
      "source": [
        "# Instalamos las lib que no esten en jupyter\n",
        "# Para visualizar arboles\n",
        "!pip install --upgrade linear-tree\n",
        "\n",
        "!pip install statsmodels"
      ]
    },
    {
      "cell_type": "markdown",
      "metadata": {
        "id": "3eGk7zpTXN4o"
      },
      "source": [
        "Se hacen los imports"
      ]
    },
    {
      "cell_type": "code",
      "execution_count": null,
      "metadata": {
        "id": "6mYg5jMIVS_r"
      },
      "outputs": [],
      "source": [
        "from sklearn.model_selection import train_test_split\n",
        "from sklearn.neighbors import KNeighborsRegressor\n",
        "from sklearn.tree import DecisionTreeRegressor\n",
        "from sklearn.linear_model import LinearRegression\n",
        "from sklearn.metrics import mean_squared_error, mean_absolute_error\n",
        "from sklearn.model_selection import cross_val_score\n",
        "from sklearn.model_selection import GridSearchCV\n",
        "from sklearn.preprocessing import StandardScaler\n",
        "from sklearn.pipeline import Pipeline\n",
        "from sklearn.pipeline import make_pipeline\n",
        "import pandas as pd\n",
        "from sklearn.decomposition import PCA\n",
        "import numpy as np\n",
        "import warnings\n",
        "import matplotlib.pyplot as plt\n",
        "import time # ya que se pide que se mida el tiempo de ejecucion\n",
        "from sklearn.metrics import r2_score\n",
        "from sklearn.svm import SVR\n",
        "from sklearn.ensemble import RandomForestRegressor\n",
        "from sklearn import svm\n",
        "from sklearn.model_selection import RandomizedSearchCV\n",
        "from sklearn.feature_selection import SelectKBest, f_regression"
      ]
    },
    {
      "cell_type": "markdown",
      "metadata": {
        "id": "oyHZxphfXQfO"
      },
      "source": [
        "Se lodean los datos y se divide en entrenamiento y en test"
      ]
    },
    {
      "cell_type": "code",
      "execution_count": null,
      "metadata": {
        "colab": {
          "base_uri": "https://localhost:8080/"
        },
        "id": "ToSrNB8MmFie",
        "outputId": "012281d9-86b8-4caa-feb4-7c47401c7fbb"
      },
      "outputs": [
        {
          "output_type": "stream",
          "name": "stdout",
          "text": [
            "Mounted at /content/gdrive\n"
          ]
        }
      ],
      "source": [
        "from google.colab import drive\n",
        "drive.mount('/content/gdrive', force_remount=True)\n",
        "import os\n",
        "# Cambia el directorio donde tengas los tutoriales con el fichero \"tennis.txt\"\n",
        "os.chdir(\"/content/gdrive/MyDrive\")"
      ]
    },
    {
      "cell_type": "code",
      "execution_count": null,
      "metadata": {
        "id": "n6YXrs70XZzH"
      },
      "outputs": [],
      "source": [
        "# Cargar los datos\n",
        "data = pd.read_csv('disp_st32ns1.txt')\n",
        "\n",
        "# Eliminar la columna \"Unnamed: 0\" si es necesario\n",
        "if 'Unnamed: 0' in data.columns:\n",
        "    data = data.drop(columns=['Unnamed: 0'])\n",
        "\n",
        "#print(data.head())\n",
        "\n",
        "# Separar la variable de salida del resto de variables de entrada\n",
        "X = data.iloc[:, :-1].values\n",
        "y = data.iloc[:, -1].values\n",
        "\n",
        "# Separa los datos en conjuntos de entrenamiento y prueba ver como\n",
        "X_train, X_test, y_train, y_test = train_test_split(X, y, test_size=0.2, random_state=12)\n",
        "# Separa los datos de entrenamiento en conjuntos de entrenamiento y validación\n",
        "#X_train, X_val, y_train, y_val = train_test_split(X_train, y_train, test_size=0.2, random_state=12)\n",
        "\n"
      ]
    },
    {
      "cell_type": "markdown",
      "source": [
        "# Analisis exploratorio de datos"
      ],
      "metadata": {
        "id": "__3jfOQPEZDW"
      }
    },
    {
      "cell_type": "markdown",
      "source": [
        "Pasos:"
      ],
      "metadata": {
        "id": "IfilYBZvEl4x"
      }
    },
    {
      "cell_type": "markdown",
      "source": [
        "# 1- \n",
        "Comprender los datos: Empezamos por adquirir un conocimiento sólido de los datos con los que trabaja, incluido su formato, estructura y cualquier suposición o sesgo subyacente.\n"
      ],
      "metadata": {
        "id": "TjR3pXUsuBcm"
      }
    },
    {
      "cell_type": "code",
      "source": [
        "# Visualizamos de datos\n",
        "print(data.shape)"
      ],
      "metadata": {
        "colab": {
          "base_uri": "https://localhost:8080/"
        },
        "id": "B7C4SJnjUMV3",
        "outputId": "96896ce1-0ddf-4b54-87a5-0d37c742df32"
      },
      "execution_count": null,
      "outputs": [
        {
          "output_type": "stream",
          "name": "stdout",
          "text": [
            "(4380, 76)\n"
          ]
        }
      ]
    },
    {
      "cell_type": "markdown",
      "source": [
        "Como podemos ver en la tupla \"shape\", tenemos un dataframe de 76 columnas que dividiremos en X (75 columnas, con datos obtenidos de sensores) y Y (1 columna, con la salida)."
      ],
      "metadata": {
        "id": "QK8_KGBsVCs3"
      }
    },
    {
      "cell_type": "code",
      "source": [
        "# Visualizacion de datos\n",
        "print(data.head(3))"
      ],
      "metadata": {
        "id": "nvn6GwHQUOVy"
      },
      "execution_count": null,
      "outputs": []
    },
    {
      "cell_type": "code",
      "source": [
        "# Visualizacion de datos\n",
        "print(data.columns)"
      ],
      "metadata": {
        "id": "Tn7YRbXLSa6b"
      },
      "execution_count": null,
      "outputs": []
    },
    {
      "cell_type": "code",
      "source": [
        "# Visualizamos los datos nulos\n",
        "print(data.isnull().sum())\n"
      ],
      "metadata": {
        "id": "WmyrkeppTTbm"
      },
      "execution_count": null,
      "outputs": []
    },
    {
      "cell_type": "markdown",
      "source": [
        "Como podemos ver, no tenemos datos nulos en ninguna columna"
      ],
      "metadata": {
        "id": "UCy0XIw-TUjB"
      }
    },
    {
      "cell_type": "code",
      "source": [
        "# Ver los valores que toma cada columna\n",
        "NUM_VALUES = 5\n",
        "sol = []\n",
        "for column in data.columns:\n",
        "    # Utilizamos unique para ver que variable almacena cada col\n",
        "    sol.append([column, data[column].unique()])\n",
        "\n",
        "for column in sol:\n",
        "    if len(column[1]) < NUM_VALUES:\n",
        "        print(column)"
      ],
      "metadata": {
        "id": "jdx5uCYxY6Vd"
      },
      "execution_count": null,
      "outputs": []
    },
    {
      "cell_type": "markdown",
      "source": [
        "Como podemos observar variando NUM_VALUES, podemos ver que ninguna columna tiene solo un valor, por lo que no seria necesario borrar ninguna."
      ],
      "metadata": {
        "id": "a1vyXc0Jcnuk"
      }
    },
    {
      "cell_type": "code",
      "source": [
        "# Recorremos las columnas para evaluarlas individualmente\n",
        "for column in data.columns:\n",
        "    # imprimimos el data type de cada columna\n",
        "    print(\"type of {}: {}\".format(column, data[column].dtypes))"
      ],
      "metadata": {
        "id": "_QYx7x-yuEk9"
      },
      "execution_count": null,
      "outputs": []
    },
    {
      "cell_type": "markdown",
      "source": [
        "Como podemos observar por la salida, los valores de todas las columnas son numericos, todos de tipo float64, a excepcion de la salida que es de tipo int64. De lo que podemos concluir que los sensores ambientales recogen datos de tipo float64, mientras que el resultado de la prediccion es un entero.\n",
        "Lo que facilita el procesamiento de datos ya que no tenemos que pasar  variables de tipo string discontinuas a numérico."
      ],
      "metadata": {
        "id": "OcZC5nvqTc_f"
      }
    },
    {
      "cell_type": "code",
      "source": [
        "for column in data.columns:\n",
        "    # top 3 mayores y menores valores encontrados\n",
        "    top_3_mayor = data.nlargest(3, column)\n",
        "    top_3_menor = data.nsmallest(3, column)\n",
        "    print(column)\n",
        "    print(\"--> TOP MAYOR 5:\\n {}\".format(top_3_mayor[column]))\n",
        "    print(\"--> TOP MENOR 5:\\n {}\".format(top_3_menor[column]))\n",
        "    print(\"################################\\n\")"
      ],
      "metadata": {
        "id": "7gRCZLELXm0r"
      },
      "execution_count": null,
      "outputs": []
    },
    {
      "cell_type": "markdown",
      "source": [
        "Como podemos ver, los rangos de valores varian mucho, lo que puede provocar que \n",
        "en el momento de aprendizaje se de más valor a estas variables. Por lo que el \n",
        "objetivo sería normalizarlos."
      ],
      "metadata": {
        "id": "IAb-by4eYDMg"
      }
    },
    {
      "cell_type": "markdown",
      "source": [
        "# 2- \n",
        "  Limpiar y preprocesar los datos: Antes de realizar el EDA, debemos limpiar y preprocesar los datos para asegurarse de que están en un formato utilizable. Esto puede implicar la eliminación de valores que faltan, la corrección de errores y la transformación de variables según sea necesario."
      ],
      "metadata": {
        "id": "n__eJUEOt8Wj"
      }
    },
    {
      "cell_type": "code",
      "source": [
        "# Recorremos las columnas una a una\n",
        "for column in data.columns:\n",
        "  # Sustituimos en las columnas los valores vacios por nulo asando replace\n",
        "  data[column] = data[column].replace(r'^\\s*$', value=None, regex=True)\n",
        "  # En las columnas cambiamos los valores nulos por 0\n",
        "  data[column].fillna(0, inplace=True)\n",
        "  # pasamos los valores a tipo numerico\n",
        "  data[column] = data[column].astype(float)\n",
        "\n"
      ],
      "metadata": {
        "id": "yW2_Jz9dtmAW"
      },
      "execution_count": null,
      "outputs": []
    },
    {
      "cell_type": "markdown",
      "source": [
        "  Visualizar los datos: Utilizamos herramientas de visualización para explorar los datos e identificar patrones y relaciones. Esto puede incluir la creación de histogramas, diagramas de dispersión, diagramas de caja y otros tipos de tablas y gráficos."
      ],
      "metadata": {
        "id": "mIr-cgl5ueMo"
      }
    },
    {
      "cell_type": "code",
      "source": [
        "# Grafico de barras para cada columna de Data\n",
        "for column in data.columns():\n",
        "  # Grafico de barras\n",
        "  plt.bar(['', 'Árboles de regresión', 'Regresión lineal'], [rmse_knn, rmse_tree, rmse_lr])\n",
        "  plt.title('Comparación de errores de RMSE (mas bajo mejor)')\n",
        "  plt.xlabel('Modelo')\n",
        "  plt.ylabel('RMSE')\n",
        "  plt.show()\n",
        "  print(\"\\n\")\n",
        "  # Grafico de dispersion\n",
        "  plt.scatter(X[:, 0], X[:, 1], c=y, cmap=plt.cm.Paired)\n",
        "  plt.xlabel('Sepal length')\n",
        "  plt.ylabel('Sepal width')\n",
        "  plt.show()"
      ],
      "metadata": {
        "id": "0Nkn5hhUufOQ"
      },
      "execution_count": null,
      "outputs": []
    },
    {
      "cell_type": "markdown",
      "source": [
        "  Identificar valores atípicos y anomalías: Buscamos puntos de datos que se salgan del rango esperado y los investigamos más a fondo para entender por qué pueden estar ocurriendo."
      ],
      "metadata": {
        "id": "8H9-8ymuuoFm"
      }
    },
    {
      "cell_type": "code",
      "source": [],
      "metadata": {
        "id": "wa67vJuvv6vL"
      },
      "execution_count": null,
      "outputs": []
    },
    {
      "cell_type": "markdown",
      "source": [
        "  Realizar análisis estadísticos: Utilizamos pruebas y medidas estadísticas para cuantificar las relaciones y patrones observados en los datos. Esto puede incluir el cálculo de coeficientes de correlación, medias, medianas y otras estadísticas descriptivas."
      ],
      "metadata": {
        "id": "WnIzOY_bv7W-"
      }
    },
    {
      "cell_type": "code",
      "source": [
        "# Comparar la relacion entre los valores LSTAT y RM\n",
        "plt.figure(figsize=(20, 5))\n",
        "\n",
        "features = ['LSTAT', 'RM']\n",
        "target = boston['MEDV']\n",
        "\n",
        "for i, col in enumerate(features):\n",
        "    plt.subplot(1, len(features) , i+1)\n",
        "    x = boston[col]\n",
        "    y = target\n",
        "    plt.scatter(x, y, marker='o')\n",
        "    plt.title(col)\n",
        "    plt.xlabel(col)\n",
        "    plt.ylabel('MEDV')"
      ],
      "metadata": {
        "id": "uhVtcQOcv9tO"
      },
      "execution_count": null,
      "outputs": []
    },
    {
      "cell_type": "markdown",
      "source": [
        "  Comunicar los resultados: Por último, creación de visualizaciones, resúmenes e informes que destaquen los resultados y conclusiones más importantes del análisis."
      ],
      "metadata": {
        "id": "MDs2s9wdv98C"
      }
    },
    {
      "cell_type": "code",
      "source": [],
      "metadata": {
        "id": "6DOgpLxHwGxo"
      },
      "execution_count": null,
      "outputs": []
    },
    {
      "cell_type": "markdown",
      "metadata": {
        "id": "6jZRXMCqckBU"
      },
      "source": [
        "## Valores por defecto"
      ]
    },
    {
      "cell_type": "markdown",
      "metadata": {
        "id": "dD6dS8syXp12"
      },
      "source": [
        "Evaluar en KNN"
      ]
    },
    {
      "cell_type": "code",
      "execution_count": null,
      "metadata": {
        "colab": {
          "base_uri": "https://localhost:8080/"
        },
        "id": "4cBBoJ2uDX94",
        "outputId": "c1a0c3ad-1d93-499f-e806-ddc6f79afc30"
      },
      "outputs": [
        {
          "name": "stdout",
          "output_type": "stream",
          "text": [
            "KNN (por omisión):\n",
            " RMSE: 4102958.9895420386 \n",
            " MAE: 3010597.278359242 \n",
            " r2: 0.73826108975653 \n",
            " Tiempo de entrenamiento knn: 0.001817464828491211\n"
          ]
        }
      ],
      "source": [
        "# Crear modelo de KNN sin especificar hiperparámetros\n",
        "knn = KNeighborsRegressor()\n",
        "\n",
        "# Medir tiempo de entrenamiento con los datos de entrenamiento\n",
        "start_time = time.time()\n",
        "knn.fit(X_train, y_train)\n",
        "train_time_knn = time.time() - start_time\n",
        "\n",
        "# Evaluar modelo utilizando validación cruzada\n",
        "rmse_knn = np.sqrt(-cross_val_score(knn, X_train, y_train, cv=5, scoring='neg_mean_squared_error')).mean()\n",
        "mae_knn = -cross_val_score(knn, X_train, y_train, cv=5, scoring='neg_mean_absolute_error').mean()\n",
        "r2_knn = cross_val_score(knn, X_train, y_train, cv=5, scoring='r2').mean()\n",
        "\n",
        "# Mostrar resultados\n",
        "print(\"KNN (por omisión):\\n\", \"RMSE:\", rmse_knn, \"\\n\", \"MAE:\", mae_knn, \"\\n\", \"r2:\", r2_knn, \"\\n\", \"Tiempo de entrenamiento knn:\", train_time_knn)\n"
      ]
    },
    {
      "cell_type": "markdown",
      "metadata": {
        "id": "Cdo9fqQ6XxPe"
      },
      "source": [
        "Con arboles de regresion"
      ]
    },
    {
      "cell_type": "code",
      "execution_count": null,
      "metadata": {
        "colab": {
          "base_uri": "https://localhost:8080/"
        },
        "id": "uMa_6xYWDqA3",
        "outputId": "fe54f0f6-2979-4629-b28d-ba84bce24885"
      },
      "outputs": [
        {
          "name": "stdout",
          "output_type": "stream",
          "text": [
            "Árbol de regresión:\n",
            " RMSE: 4780400.67641472 \n",
            " MAE: 3237907.0299311182 \n",
            " r2: 0.647905820844864 \n",
            " Tiempo de entrenamiento tree: 0.27985525131225586\n"
          ]
        }
      ],
      "source": [
        "# arbol de regresion con validacion cruzada\n",
        "decision_tree = DecisionTreeRegressor()\n",
        "\n",
        "# Evaluar modelo con 3 mediciones\n",
        "# se mide el tiempo\n",
        "start_time = time.time()\n",
        "decision_tree.fit(X_train, y_train)\n",
        "train_time_tree = time.time() - start_time\n",
        "\n",
        "rmse_tree = np.sqrt(-cross_val_score(decision_tree, X_train, y_train, cv=5, scoring='neg_mean_squared_error')).mean()\n",
        "mae_tree= -cross_val_score(decision_tree, X_train, y_train, cv=5, scoring='neg_mean_absolute_error').mean()\n",
        "r2_tree = cross_val_score(decision_tree, X_train, y_train, cv=5, scoring='r2').mean()\n",
        "\n",
        "print(\"Árbol de regresión:\\n\", \"RMSE:\", rmse_tree, \"\\n\", \"MAE:\", mae_tree, \"\\n\", \"r2:\", r2_tree, \"\\n\", \"Tiempo de entrenamiento tree:\", train_time_tree)\n"
      ]
    },
    {
      "cell_type": "markdown",
      "metadata": {
        "id": "K5QKXsVeX2LW"
      },
      "source": [
        "Con regresion lineal"
      ]
    },
    {
      "cell_type": "code",
      "execution_count": null,
      "metadata": {
        "colab": {
          "base_uri": "https://localhost:8080/"
        },
        "id": "fms7Wa8fEKz3",
        "outputId": "7a7b1bc1-4185-446e-d1b4-aed844f48435"
      },
      "outputs": [
        {
          "name": "stdout",
          "output_type": "stream",
          "text": [
            "Regresión lineal:\n",
            " RMSE: 3346827.6800511293 \n",
            " MAE: 2429928.463861069 \n",
            " r2: 0.8256597892099332 \n",
            " Tiempo entrenamiento lr: 0.048284053802490234\n"
          ]
        }
      ],
      "source": [
        "# Crear modelo de regresión lineal\n",
        "linear_regression = LinearRegression()\n",
        "\n",
        "# Evaluar modelo con 3 mediciones\n",
        "# se mide el tiempo\n",
        "start_time = time.time()\n",
        "linear_regression.fit(X_train, y_train)\n",
        "train_time_lr = time.time() - start_time\n",
        "\n",
        "rmse_lr = np.sqrt(-cross_val_score(linear_regression, X_train, y_train, cv=5, scoring='neg_mean_squared_error')).mean()\n",
        "mae_lr = -cross_val_score(linear_regression, X_train, y_train, cv=5, scoring='neg_mean_absolute_error').mean()\n",
        "r2_lr = cross_val_score(linear_regression, X_train, y_train, cv=5, scoring='r2').mean()\n",
        "\n",
        "print(\"Regresión lineal:\\n\", \"RMSE:\", rmse_lr, \"\\n\", \"MAE:\", mae_lr, \"\\n\", \"r2:\", r2_lr, \"\\n\", \"Tiempo entrenamiento lr:\", train_time_lr)"
      ]
    },
    {
      "cell_type": "markdown",
      "metadata": {
        "id": "GfC4XZWdczFm"
      },
      "source": [
        "### Comparacion entre las tres ejecuciones"
      ]
    },
    {
      "cell_type": "code",
      "execution_count": null,
      "metadata": {
        "colab": {
          "base_uri": "https://localhost:8080/",
          "height": 1000
        },
        "id": "6mNI7MXDWohW",
        "outputId": "5bcd4488-5d4f-45ea-dfba-42213dfe3f40"
      },
      "outputs": [
        {
          "data": {
            "image/png": "[encoded data removed]",
            "text/plain": [
              "<Figure size 432x288 with 1 Axes>"
            ]
          },
          "metadata": {},
          "output_type": "display_data"
        },
        {
          "name": "stdout",
          "output_type": "stream",
          "text": [
            "\n",
            "\n"
          ]
        },
        {
          "data": {
            "image/png": "[encoded data removed]",
            "text/plain": [
              "<Figure size 432x288 with 1 Axes>"
            ]
          },
          "metadata": {},
          "output_type": "display_data"
        },
        {
          "name": "stdout",
          "output_type": "stream",
          "text": [
            "\n",
            "\n"
          ]
        },
        {
          "data": {
            "image/png": "[encoded data removed]",
            "text/plain": [
              "<Figure size 432x288 with 1 Axes>"
            ]
          },
          "metadata": {},
          "output_type": "display_data"
        },
        {
          "name": "stdout",
          "output_type": "stream",
          "text": [
            "\n",
            "\n"
          ]
        },
        {
          "data": {
            "image/png": "[encoded data removed]",
            "text/plain": [
              "<Figure size 432x288 with 1 Axes>"
            ]
          },
          "metadata": {},
          "output_type": "display_data"
        }
      ],
      "source": [
        "# Graficar errores de RMSE\n",
        "plt.bar(['KNN', 'Árboles de regresión', 'Regresión lineal'], [rmse_knn, rmse_tree, rmse_lr])\n",
        "plt.title('Comparación de errores de RMSE (mas bajo mejor)')\n",
        "plt.xlabel('Modelo')\n",
        "plt.ylabel('RMSE')\n",
        "plt.show()\n",
        "print(\"\\n\")\n",
        "\n",
        "# Graficar errores de MAE\n",
        "plt.bar(['KNN', 'Árboles de regresión', 'Regresión lineal'], [mae_knn, mae_tree, mae_lr])\n",
        "plt.title('Comparación de errores de MAE (mas bajo mejor)')\n",
        "plt.xlabel('Modelo')\n",
        "plt.ylabel('MAE')\n",
        "plt.show()\n",
        "print(\"\\n\")\n",
        "\n",
        "# Graficar error de r2\n",
        "# Graficar errores de RMSE\n",
        "plt.bar(['KNN', 'Árboles de regresión', 'Regresión lineal'], [r2_knn, r2_tree, r2_lr])\n",
        "plt.title('Comparación de errores de r2 (mas alto mejor)')\n",
        "plt.xlabel('Modelo')\n",
        "plt.ylabel('r2')\n",
        "plt.show()\n",
        "print(\"\\n\")\n",
        "\n",
        "\n",
        "# Para los tiempos de entrenaimiento\n",
        "# Crear una lista con los tiempos de entrenamiento de los tres modelos\n",
        "train_times = [train_time_knn, train_time_tree, train_time_lr]\n",
        "\n",
        "# Crear una figura y un eje\n",
        "fig, ax = plt.subplots()\n",
        "\n",
        "# Graficar los tiempos de entrenamiento de los tres modelos\n",
        "ax.bar(['KNN', 'Árbol de regresión', 'Regresión lineal'], train_times)\n",
        "\n",
        "# Agregar etiquetas y título\n",
        "ax.set_xlabel('Modelo')\n",
        "ax.set_ylabel('Tiempo de entrenamiento (segundos)')\n",
        "ax.set_title('Comparación de tiempos de entrenamiento de los modelos (mas bajo mejor)')\n",
        "\n",
        "# Mostrar la figura\n",
        "plt.show()\n",
        "\n"
      ]
    },
    {
      "cell_type": "markdown",
      "metadata": {
        "id": "y0RVeg1AT3RD"
      },
      "source": [
        "Como se puede observar el mejor es el de regresión lineal con los parámetros por defecto, es el que menos error tiene en ambas mediciones respecto a los otros dos. Esto puede deberse a que las variables de entrada pueden tener una relacion lineal con la de salida o porque los datos contienen ruido, lo que hace que a regresión lineal pueda producir una mejor predicción que KNN y árboles de regresión debido a su simplicidad. Los modelos más flexibles como KNN y árboles de regresión suelen ser más sensibles al ruido y producir una peor predicción. Sin embargo, no es el más rápido, ya que el KNN con los parametros por defecto es el mas rapido de los tres puede ser debido a que es un modelo no paramétrico y no requiere un proceso de entrenamiento intensivo."
      ]
    },
    {
      "cell_type": "markdown",
      "metadata": {
        "id": "RGYoHCq6WZMH"
      },
      "source": [
        "## Ajuste de hiperparametros"
      ]
    },
    {
      "cell_type": "markdown",
      "metadata": {
        "id": "Z4BmQ40NX-yv"
      },
      "source": [
        "Ajuste de hiperparametros en KNN"
      ]
    },
    {
      "cell_type": "code",
      "execution_count": null,
      "metadata": {
        "colab": {
          "background_save": true
        },
        "id": "Gb2EiQShX_hn",
        "outputId": "43c7d8b2-6e99-4b37-c52c-1afeec5e06a1"
      },
      "outputs": [
        {
          "name": "stdout",
          "output_type": "stream",
          "text": [
            "KNN:\n",
            " Best parameters: {'n_neighbors': 11, 'p': 1, 'weights': 'distance'} \n",
            " RMSE: 3776068.0010622824 \n",
            " MAE: 2759706.5037047444 \n",
            " r2: 0.7782691357160341\n",
            "Tiempo de entrenamiento: 182.40389037132263\n"
          ]
        }
      ],
      "source": [
        "# Crear modelo de KNN\n",
        "knn = KNeighborsRegressor()\n",
        "\n",
        "# Definir grid de parámetros\n",
        "param_grid = {\n",
        "    'n_neighbors': [3, 5, 7, 9, 11],\n",
        "    'weights': ['uniform', 'distance'],\n",
        "    'p': [1, 2, 3]\n",
        "}\n",
        "\n",
        "# Realizar búsqueda de hiperparámetros\n",
        "knn_grid = GridSearchCV(knn, param_grid=param_grid, cv=5, scoring='neg_mean_squared_error')\n",
        "\n",
        "# Medir tiempo de entrenamiento\n",
        "start_time = time.time()\n",
        "\n",
        "knn_grid.fit(X_train, y_train)\n",
        "\n",
        "# Calcular tiempo de entrenamiento\n",
        "train_time_knn_op = time.time() - start_time\n",
        "\n",
        "# Obtener los mejores parámetros\n",
        "knn_best_params = knn_grid.best_params_\n",
        "\n",
        "# Entrenar modelo con los mejores parámetros\n",
        "knn = KNeighborsRegressor(**knn_best_params)\n",
        "knn.fit(X_train, y_train)\n",
        "\n",
        "# Evaluar modelo con 3 mediciones\n",
        "rmse_knn_op = np.sqrt(-cross_val_score(knn, X_train, y_train, cv=5, scoring='neg_mean_squared_error')).mean()\n",
        "mae_knn_op = -cross_val_score(knn, X_train, y_train, cv=5, scoring='neg_mean_absolute_error').mean()\n",
        "r2_knn_op = cross_val_score(knn, X_train, y_train, cv=5, scoring='r2').mean()\n",
        "\n",
        "\n",
        "print(\"KNN:\\n\", \"Best parameters:\", knn_best_params, \"\\n\", \"RMSE:\", rmse_knn_op, \"\\n\", \"MAE:\", mae_knn_op, \"\\n\", \"r2:\", r2_knn_op)\n",
        "print('Tiempo de entrenamiento:', train_time_knn_op)"
      ]
    },
    {
      "cell_type": "markdown",
      "metadata": {
        "id": "oXQ3nHDiYTUH"
      },
      "source": [
        "Ajuste de hiperparametros en un arbol de regresion"
      ]
    },
    {
      "cell_type": "code",
      "execution_count": null,
      "metadata": {
        "colab": {
          "background_save": true
        },
        "id": "jYaAd0dZYV1o",
        "outputId": "8ceee2fd-6561-434f-cba7-c2995756c172"
      },
      "outputs": [
        {
          "name": "stdout",
          "output_type": "stream",
          "text": [
            "Árbol de Regresión:\n",
            " Best parameters: {'max_depth': 5, 'max_features': None, 'min_samples_leaf': 2, 'min_samples_split': 2} \n",
            " RMSE: 3772168.4774698205 \n",
            " MAE: 2718714.036436198 \n",
            " r2: 0.7784958588381216\n",
            "Tiempo de entrenamiento: 124.48547554016113\n"
          ]
        }
      ],
      "source": [
        "# Crear modelo de Árbol de Regresión\n",
        "tree = DecisionTreeRegressor(random_state=12)\n",
        "\n",
        "# Definir grid de parámetros\n",
        "param_grid = {\n",
        "    'max_depth': [None, 1, 2, 3, 4, 5, 10, 15, 20],\n",
        "    'min_samples_split': [2, 5, 10, 15, 20],\n",
        "    'min_samples_leaf': [1, 2, 5, 10],\n",
        "    'max_features': [None, 'sqrt', 'log2']\n",
        "}\n",
        "\n",
        "# Realizar búsqueda de hiperparámetros\n",
        "tree_grid = GridSearchCV(tree, param_grid=param_grid, cv=5, scoring='neg_mean_squared_error')\n",
        "\n",
        "# Medir tiempo de entrenamiento\n",
        "start_time = time.time()\n",
        "\n",
        "tree_grid.fit(X_train, y_train)\n",
        "\n",
        "# Calcular tiempo de entrenamiento\n",
        "train_time_tree_op = time.time() - start_time\n",
        "\n",
        "# Obtener los mejores parámetros\n",
        "tree_best_params = tree_grid.best_params_\n",
        "\n",
        "# Entrenar modelo con los mejores parámetros\n",
        "tree = DecisionTreeRegressor(**tree_best_params, random_state=12)\n",
        "tree.fit(X_train, y_train)\n",
        "\n",
        "# Evaluar modelo con 3 mediciones\n",
        "rmse_tree_op = np.sqrt(-cross_val_score(tree, X_train, y_train, cv=5, scoring='neg_mean_squared_error')).mean()\n",
        "mae_tree_op = -cross_val_score(tree, X_train, y_train, cv=5, scoring='neg_mean_absolute_error').mean()\n",
        "r2_tree_op = cross_val_score(tree, X_train, y_train, cv=5, scoring='r2').mean()\n",
        "\n",
        "print(\"Árbol de Regresión:\\n\", \"Best parameters:\", tree_best_params, \"\\n\", \"RMSE:\", rmse_tree_op, \"\\n\", \"MAE:\", mae_tree_op, \"\\n\", \"r2:\", r2_tree_op)\n",
        "print('Tiempo de entrenamiento:', train_time_tree_op)"
      ]
    },
    {
      "cell_type": "markdown",
      "metadata": {
        "id": "kvmwju2ta2Zl"
      },
      "source": [
        "Ajuste de hiperparametros en regresion lineal"
      ]
    },
    {
      "cell_type": "code",
      "execution_count": null,
      "metadata": {
        "colab": {
          "background_save": true
        },
        "id": "itix0UVkEZXa",
        "outputId": "270f2b72-b5a4-491c-d6ad-73848e542811"
      },
      "outputs": [
        {
          "name": "stdout",
          "output_type": "stream",
          "text": [
            "Best parameters: {'copy_X': True, 'fit_intercept': True, 'n_jobs': -1}\n",
            "MAE: 2429928.463861069\n",
            "RMSE: 3346827.6800511293\n",
            "r2: 0.8256597892099332\n",
            "Tiempo de entrenamiento: 0.019411563873291016\n"
          ]
        }
      ],
      "source": [
        "# Define los hiperparámetros para ajustar\n",
        "params = {'fit_intercept': [True, False],\n",
        "          'copy_X': [True, False],\n",
        "          'n_jobs': [-1,1]}\n",
        "\n",
        "# Define el modelo de regresión lineal\n",
        "model = LinearRegression()\n",
        "\n",
        "# Realiza la búsqueda de cuadrícula\n",
        "lr_grid = GridSearchCV(model, params, cv=5, scoring='neg_mean_absolute_error', refit=True)\n",
        "lr_grid.fit(X_train, y_train)\n",
        "\n",
        "# Obtiene los valores óptimos de los hiperparámetros\n",
        "best_params = lr_grid.best_params_\n",
        "\n",
        "# Crea un nuevo modelo de regresión lineal utilizando los valores óptimos de los hiperparámetros\n",
        "model_best = LinearRegression(**best_params)\n",
        "\n",
        "# Medir tiempo de entrenamiento\n",
        "start_time = time.time()\n",
        "\n",
        "# Ajusta el modelo utilizando todo el conjunto de entrenamiento\n",
        "model_best.fit(X_train, y_train)\n",
        "\n",
        "# Calcular tiempo de entrenamiento\n",
        "train_time_lr_op = time.time() - start_time\n",
        "\n",
        "\n",
        "# Calcula el MAE y RMSE y r2 del modelo ajustado con los valores óptimos de los hiperparámetros\n",
        "# Evaluar modelo con 3 mediciones\n",
        "rmse_lr_op = np.sqrt(-cross_val_score(model_best, X_train, y_train, cv=5, scoring='neg_mean_squared_error')).mean()\n",
        "mae_lr_op = -cross_val_score(model_best, X_train, y_train, cv=5, scoring='neg_mean_absolute_error').mean()\n",
        "r2_lr_op = cross_val_score(model_best, X_train, y_train, cv=5, scoring='r2').mean()\n",
        "\n",
        "\n",
        "print(\"Best parameters:\", best_params)\n",
        "print(\"MAE:\", mae_lr_op)\n",
        "print(\"RMSE:\", rmse_lr_op)\n",
        "print(\"r2:\", r2_lr_op)\n",
        "print('Tiempo de entrenamiento:', train_time_lr_op)\n",
        "\n"
      ]
    },
    {
      "cell_type": "markdown",
      "metadata": {
        "id": "Y007SvlZhEUm"
      },
      "source": [
        "A continuacion se muestra la misma grafica pero con los valores optimizados"
      ]
    },
    {
      "cell_type": "code",
      "execution_count": null,
      "metadata": {
        "colab": {
          "background_save": true
        },
        "id": "Bi_v7O8Cg4Tq",
        "outputId": "f4029d79-5cf8-41d0-aae1-2b3691a6a2c0"
      },
      "outputs": [
        {
          "data": {
            "image/png": "[encoded data removed]",
            "text/plain": [
              "<Figure size 432x288 with 1 Axes>"
            ]
          },
          "metadata": {},
          "output_type": "display_data"
        },
        {
          "name": "stdout",
          "output_type": "stream",
          "text": [
            "\n",
            "\n"
          ]
        },
        {
          "data": {
            "image/png": "[encoded data removed]",
            "text/plain": [
              "<Figure size 432x288 with 1 Axes>"
            ]
          },
          "metadata": {},
          "output_type": "display_data"
        },
        {
          "name": "stdout",
          "output_type": "stream",
          "text": [
            "\n",
            "\n"
          ]
        },
        {
          "data": {
            "image/png": "[encoded data removed]",
            "text/plain": [
              "<Figure size 432x288 with 1 Axes>"
            ]
          },
          "metadata": {},
          "output_type": "display_data"
        },
        {
          "name": "stdout",
          "output_type": "stream",
          "text": [
            "\n",
            "\n"
          ]
        },
        {
          "data": {
            "image/png": "[encoded data removed]",
            "text/plain": [
              "<Figure size 432x288 with 1 Axes>"
            ]
          },
          "metadata": {},
          "output_type": "display_data"
        }
      ],
      "source": [
        "# Graficar errores de RMSE\n",
        "plt.bar(['KNN', 'Árboles de regresión', 'Regresión lineal'], [rmse_knn_op, rmse_tree_op, rmse_lr_op])\n",
        "plt.title('Comparación de errores de RMSE (mejor mas bajo)')\n",
        "plt.xlabel('Modelo')\n",
        "plt.ylabel('RMSE')\n",
        "plt.show()\n",
        "print(\"\\n\")\n",
        "\n",
        "# Graficar errores de MAE\n",
        "plt.bar(['KNN', 'Árboles de regresión', 'Regresión lineal'], [mae_knn_op, mae_tree_op, mae_lr_op])\n",
        "plt.title('Comparación de errores de MAE (mejor mas bajo)')\n",
        "plt.xlabel('Modelo')\n",
        "plt.ylabel('MAE')\n",
        "plt.show()\n",
        "print(\"\\n\")\n",
        "\n",
        "# Graficar errores de r2\n",
        "plt.bar(['KNN', 'Árboles de regresión', 'Regresión lineal'], [r2_knn_op, r2_tree_op, r2_lr_op])\n",
        "plt.title('Comparación de errores de r2 (mejor mas alto)')\n",
        "plt.xlabel('Modelo')\n",
        "plt.ylabel('r2')\n",
        "plt.show()\n",
        "print(\"\\n\")\n",
        "\n",
        "\n",
        "# Para los tiempos de entrenaimiento\n",
        "# Crear una lista con los tiempos de entrenamiento de los tres modelos\n",
        "train_times = [train_time_knn_op, train_time_tree_op, train_time_lr_op]\n",
        "\n",
        "# Crear una figura y un eje\n",
        "fig, ax = plt.subplots()\n",
        "\n",
        "# Graficar los tiempos de entrenamiento de los tres modelos\n",
        "ax.bar(['KNN', 'Árbol de regresión', 'Regresión lineal'], train_times)\n",
        "\n",
        "# Agregar etiquetas y título\n",
        "ax.set_xlabel('Modelo')\n",
        "ax.set_ylabel('Tiempo de entrenamiento (segundos)')\n",
        "ax.set_title('Comparación de tiempos de entrenamiento de los modelos')\n",
        "\n",
        "# Mostrar la figura\n",
        "plt.show()"
      ]
    },
    {
      "cell_type": "markdown",
      "metadata": {
        "id": "8kG41Gilcalt"
      },
      "source": [
        "## Comparacion respecto valores por defecto"
      ]
    },
    {
      "cell_type": "markdown",
      "metadata": {
        "id": "k6blk4uLbzGW"
      },
      "source": [
        "Como se observa en las mediciones de los errores en las tres celdas, KNN y arboles de regresion han mejorado respecto a usar los valores por defecto. Esto se debe a que el modelo ha encontrado unos mejores valores de los hiperparametros, los cuales mostramos sus valores al imprimirlos. En el caso de la regresion lineal, no mejora, esto creemos que se debe a que los valores por defecto ya son los optimos de los hiperparametros y estos tambien los mostramos por pantalla."
      ]
    },
    {
      "cell_type": "code",
      "execution_count": null,
      "metadata": {
        "colab": {
          "background_save": true
        },
        "id": "Z1erSJ7cdVBN",
        "outputId": "e1ce8e5b-41ea-41b4-d69e-cbfd91a2dad6"
      },
      "outputs": [
        {
          "name": "stdout",
          "output_type": "stream",
          "text": [
            "KNN:\n",
            "\n"
          ]
        },
        {
          "data": {
            "image/png": "[encoded data removed]",
            "text/plain": [
              "<Figure size 432x288 with 1 Axes>"
            ]
          },
          "metadata": {},
          "output_type": "display_data"
        },
        {
          "data": {
            "image/png": "[encoded data removed]",
            "text/plain": [
              "<Figure size 432x288 with 1 Axes>"
            ]
          },
          "metadata": {},
          "output_type": "display_data"
        },
        {
          "name": "stdout",
          "output_type": "stream",
          "text": [
            "\n",
            "\n",
            "Arbol de decision:\n",
            "\n"
          ]
        },
        {
          "data": {
            "image/png": "[encoded data removed]",
            "text/plain": [
              "<Figure size 432x288 with 1 Axes>"
            ]
          },
          "metadata": {},
          "output_type": "display_data"
        },
        {
          "data": {
            "image/png": "[encoded data removed]",
            "text/plain": [
              "<Figure size 432x288 with 1 Axes>"
            ]
          },
          "metadata": {},
          "output_type": "display_data"
        },
        {
          "name": "stdout",
          "output_type": "stream",
          "text": [
            "\n",
            "\n",
            "Regresion lineal:\n",
            "\n"
          ]
        },
        {
          "data": {
            "image/png": "[encoded data removed]",
            "text/plain": [
              "<Figure size 432x288 with 1 Axes>"
            ]
          },
          "metadata": {},
          "output_type": "display_data"
        },
        {
          "data": {
            "image/png": "[encoded data removed]",
            "text/plain": [
              "<Figure size 432x288 with 1 Axes>"
            ]
          },
          "metadata": {},
          "output_type": "display_data"
        },
        {
          "name": "stdout",
          "output_type": "stream",
          "text": [
            "\n",
            "\n"
          ]
        }
      ],
      "source": [
        "# Comparacion de los errores y de los tiempos con los valores por defecto de los optimizados\n",
        "print(\"KNN:\\n\")\n",
        "plt.bar(['KNN omision', 'KNN optimizado'], [rmse_knn, rmse_knn_op])\n",
        "plt.title('Comparación de RMSE errores de KNN')\n",
        "plt.xlabel('Tipo de KNN')\n",
        "plt.ylabel('RMSE')\n",
        "plt.show()\n",
        "\n",
        "plt.bar(['KNN omision', 'KNN optimizado'], [mae_knn, mae_knn_op])\n",
        "plt.title('Comparación de MAE errores de KNN')\n",
        "plt.xlabel('Tipo de KNN')\n",
        "plt.ylabel('MAE')\n",
        "plt.show()\n",
        "print(\"\\n\")\n",
        "\n",
        "print(\"Arbol de decision:\\n\")\n",
        "plt.bar(['Arbol omision', 'Arbol optimizado'], [rmse_tree, rmse_tree_op])\n",
        "plt.title('Comparación de RMSE errores de arbol de decision')\n",
        "plt.xlabel('Tipo de arbol')\n",
        "plt.ylabel('RMSE')\n",
        "plt.show()\n",
        "\n",
        "plt.bar(['Arbol base', 'Arbol optimizado'], [mae_tree, mae_tree_op])\n",
        "plt.title('Comparación de MAE errores de arbol de decision')\n",
        "plt.xlabel('Tipo de arbol')\n",
        "plt.ylabel('MAE')\n",
        "plt.show()\n",
        "print(\"\\n\")\n",
        "\n",
        "print(\"Regresion lineal:\\n\")\n",
        "plt.bar(['Regresion lineal omision', 'Regresion lineal optimizado'], [rmse_lr, rmse_lr_op])\n",
        "plt.title('Comparación de RMSE errores de regresion lineal')\n",
        "plt.xlabel('Tipo de regresion')\n",
        "plt.ylabel('RMSE')\n",
        "plt.show()\n",
        "\n",
        "plt.bar(['Regreison omision', 'Regresion optimizado'], [mae_lr, mae_lr_op])\n",
        "plt.title('Comparación de MAE errores de regresion lineal')\n",
        "plt.xlabel('Tipo de regresion')\n",
        "plt.ylabel('MAE')\n",
        "plt.show()\n",
        "print(\"\\n\")"
      ]
    },
    {
      "cell_type": "markdown",
      "metadata": {
        "id": "oQdMxjtEhb9z"
      },
      "source": [
        "ENUNCIADO:\n",
        "\n",
        "Obtener algunas conclusiones, tales como: ¿cuál es el mejor método? ¿Cuál de los\n",
        "métodos básicos de aprendizaje automático es más rápido? ¿Los resultados son\n",
        "mejores que los regresores triviales/naive/baseline? ¿El ajuste de hiperparámetros\n",
        "mejora con respecto a los valores por omisión? ¿Hay algún equilibrio entre tiempo\n",
        "de ejecución y mejora de resultados? Etc."
      ]
    },
    {
      "cell_type": "markdown",
      "metadata": {
        "id": "lJU40Xy-hjqp"
      },
      "source": [
        "RESPUESTA:\n",
        "\n",
        "El mejor método en cuanto a las medidas de error es el de regresion lineal, y el mas rapido es el knn. Los resultados son mejores de que los triviales/naives/baseline como se puede apreciar en las ejecuciones sin ajustes de hiperparametros. El ajuste en efecto mejora en los tres metodos respecto a los de los valores por omision. Al realizar el ajuste se tarda mas que si no se usara, esto es debido a que el programa comprueba todos los posibles \"caminos\" y valores que se pueden dar a los hiperparametros con todas las combinaciones dando al final el optimo."
      ]
    },
    {
      "cell_type": "markdown",
      "metadata": {
        "id": "vajtd_MUnfR8"
      },
      "source": [
        "## Reduccion dimensionalidad"
      ]
    },
    {
      "cell_type": "markdown",
      "metadata": {
        "id": "5EvOD2r-nnwq"
      },
      "source": [
        "ENUNCIADO:\n",
        "\n",
        "¿Es posible reducir la dimensionalidad del problema? (aquí no tiene por qué\n",
        "utilizarse una técnica estándar, sino algo que se os ocurra para que en los datos haya menos\n",
        "atributos sin empeorar resultados)."
      ]
    },
    {
      "cell_type": "markdown",
      "metadata": {
        "id": "2f-dR2AsnrNa"
      },
      "source": [
        "RESPUESTA:\n",
        "\n"
      ]
    },
    {
      "cell_type": "markdown",
      "metadata": {
        "id": "B4L-CjcWoQCJ"
      },
      "source": [
        "Sí, es posible reducir la dimensionalidad del problema en los datos del concurso de predicción de energía solar de AMS 2014. Hay varias técnicas que se pueden utilizar para lograr esto, aquí te menciono algunas:\n",
        "\n",
        "---Selección de características: en lugar de utilizar todas las características en los datos, se puede seleccionar un subconjunto de características que sean relevantes para la tarea de predicción. Esto puede hacerse mediante técnicas de selección de características como la correlación, la importancia de características en modelos de aprendizaje automático, entre otras.\n",
        "\n",
        "---Análisis de componentes principales (PCA): esta técnica de reducción de dimensionalidad se utiliza para transformar las características originales en un conjunto de características menos complejas que conservan la mayor cantidad posible de información de los datos originales.\n",
        "\n",
        "---Técnicas de clustering: estas técnicas se utilizan para agrupar características similares y reducir la complejidad de los datos.\n",
        "\n",
        "---Transformaciones de datos: se pueden aplicar transformaciones matemáticas a los datos para reducir la complejidad, como la transformación de Box-Cox, que se utiliza para transformar datos no normales en datos con distribución normal."
      ]
    },
    {
      "cell_type": "markdown",
      "metadata": {
        "id": "0nek6Tl9XlV2"
      },
      "source": [
        "Reduccion de los datos con técnica de selección de características basada en filtro utilizando la correlación entre características y la variable objetivo:"
      ]
    },
    {
      "cell_type": "code",
      "execution_count": null,
      "metadata": {
        "colab": {
          "background_save": true
        },
        "id": "Yz_1lnDNj55I",
        "outputId": "251fa50c-f8bc-4f1f-80f0-3bf57d78ff9f"
      },
      "outputs": [
        {
          "name": "stdout",
          "output_type": "stream",
          "text": [
            "Forma de X_train antes de reducción: (3504, 75)\n",
            "Forma de X_test antes de reducción: (876, 75)\n",
            "Forma de X_train reducido: (3504, 59)\n",
            "Forma de X_test reducido: (876, 59)\n"
          ]
        }
      ],
      "source": [
        "# Escalar datos\n",
        "scaler = StandardScaler()\n",
        "X_train_2 = scaler.fit_transform(X_train)\n",
        "X_test_2 = scaler.transform(X_test)\n",
        "\n",
        "# Calcular matriz de correlación\n",
        "corr_matrix = np.corrcoef(X_train_2.T)\n",
        "\n",
        "# Establecer umbral de correlación\n",
        "corr_threshold = 0.2\n",
        "\n",
        "# Eliminar características con correlación inferior al umbral\n",
        "selected_features = np.where(abs(corr_matrix[-1, :-1]) > corr_threshold)[0]\n",
        "X_train_reduced_f = X_train_2[:, selected_features]\n",
        "X_test_reduced_f = X_test_2[:, selected_features]\n",
        "print(\"Forma de X_train antes de reducción:\", X_train.shape)\n",
        "print(\"Forma de X_test antes de reducción:\", X_test.shape)\n",
        "\n",
        "print(\"Forma de X_train reducido:\", X_train_reduced_f.shape)\n",
        "print(\"Forma de X_test reducido:\", X_test_reduced_f.shape)\n"
      ]
    },
    {
      "cell_type": "markdown",
      "metadata": {
        "id": "8p1huniflKPa"
      },
      "source": [
        "Como se aprecia se han bajado de 75 atributos a 59."
      ]
    },
    {
      "cell_type": "markdown",
      "metadata": {
        "id": "iJ9zg2-Elt-f"
      },
      "source": [
        "Con PCA:"
      ]
    },
    {
      "cell_type": "markdown",
      "metadata": {
        "id": "cwlwUIEwmD0d"
      },
      "source": [
        "Es una técnica de reducción de dimensionalidad que se utiliza para identificar patrones en los datos y representarlos con un número menor de variables que contengan la mayor cantidad de información posible."
      ]
    },
    {
      "cell_type": "code",
      "execution_count": null,
      "metadata": {
        "colab": {
          "background_save": true
        },
        "id": "f0YbL_x9lvWQ",
        "outputId": "f5fc1099-b5a5-460c-8c29-2146566e3229"
      },
      "outputs": [
        {
          "name": "stdout",
          "output_type": "stream",
          "text": [
            "Forma de X_train antes de PCA: (3504, 75)\n",
            "Forma de X_test antes de PCA: (876, 75)\n",
            "Forma de X_train reducido por PCA: (3504, 10)\n",
            "Forma de X_test reducido por PCA: (876, 10)\n"
          ]
        }
      ],
      "source": [
        "# Escalar datos\n",
        "scaler = StandardScaler()\n",
        "X_train_3 = scaler.fit_transform(X_train)\n",
        "X_test_3 = scaler.transform(X_test)\n",
        "\n",
        "# Aplicar PCA\n",
        "pca = PCA(n_components=10)\n",
        "X_train_reduced_pca = pca.fit_transform(X_train_3)\n",
        "X_test_reduced_pca = pca.transform(X_test_3)\n",
        "\n",
        "print(\"Forma de X_train antes de PCA:\", X_train.shape)\n",
        "print(\"Forma de X_test antes de PCA:\", X_test.shape)\n",
        "print(\"Forma de X_train reducido por PCA:\", X_train_reduced_pca.shape)\n",
        "print(\"Forma de X_test reducido por PCA:\", X_test_reduced_pca.shape)\n"
      ]
    },
    {
      "cell_type": "markdown",
      "metadata": {
        "id": "fdgVDJBvlFRz"
      },
      "source": [
        "Reduccion con regresion lineal:"
      ]
    },
    {
      "cell_type": "code",
      "execution_count": null,
      "metadata": {
        "colab": {
          "background_save": true
        },
        "id": "S7tOUw3Cn3Ar",
        "outputId": "1d04fd9c-22e9-40d5-94f7-0ba3571ad766"
      },
      "outputs": [
        {
          "name": "stdout",
          "output_type": "stream",
          "text": [
            "LR with PCA RMSE: 3687196.024830122\n",
            "LR with PCA MAE: 2757361.887225152\n",
            "LR with PCA r2: 0.7762622441115588\n"
          ]
        }
      ],
      "source": [
        "# Aqui con PCA\n",
        "\n",
        "# Estandarizar los datos\n",
        "scaler = StandardScaler()\n",
        "X_train_std = scaler.fit_transform(X_train)\n",
        "X_test_std = scaler.transform(X_test)\n",
        "\n",
        "# Aplicar PCA para reducir la dimensionalidad a 5 componentes principales\n",
        "pca = PCA(n_components=5)\n",
        "X_train_pca = pca.fit_transform(X_train_std)\n",
        "X_test_pca = pca.transform(X_test_std)\n",
        "\n",
        "# Entrenar modelo de regresión lineal con los datos reducidos\n",
        "lr = LinearRegression()\n",
        "lr.fit(X_train_pca, y_train)\n",
        "\n",
        "# Predecir los valores de energía solar con el conjunto de prueba\n",
        "y_pred = lr.predict(X_test_pca)\n",
        "\n",
        "# Evaluar el modelo con las métricas RMSE y MAE\n",
        "rmse_lr_pca = mean_squared_error(y_test, y_pred, squared=False)\n",
        "mae_lr_pca = mean_absolute_error(y_test, y_pred)\n",
        "r2_lr_pca = r2_score(y_test, y_pred)\n",
        "\n",
        "print('LR with PCA RMSE:', rmse_lr_pca)\n",
        "print('LR with PCA MAE:', mae_lr_pca)\n",
        "print('LR with PCA r2:', r2_lr_pca)\n",
        "\n"
      ]
    },
    {
      "cell_type": "markdown",
      "metadata": {
        "id": "2-7TXmBgXqHe"
      },
      "source": [
        "Reduccion con KNN:"
      ]
    },
    {
      "cell_type": "code",
      "execution_count": null,
      "metadata": {
        "colab": {
          "background_save": true
        },
        "id": "3wvFKtEaXsvB",
        "outputId": "9e4fb804-8646-46ac-fc05-92616cdc3de7"
      },
      "outputs": [
        {
          "name": "stdout",
          "output_type": "stream",
          "text": [
            "KNN con PCA RMSE: 3785730.593320329\n",
            "KNN con PCA MAE: 2731575.5452054795\n",
            "KNN con PCA r2: 0.7641443776963734\n"
          ]
        }
      ],
      "source": [
        "# Aqui con PCA\n",
        "\n",
        "# Estandarizar los datos\n",
        "scaler = StandardScaler()\n",
        "X_train_std = scaler.fit_transform(X_train)\n",
        "X_test_std = scaler.transform(X_test)\n",
        "\n",
        "# Aplicar PCA para reducir la dimensionalidad a 5 componentes principales\n",
        "pca = PCA(n_components=5)\n",
        "X_train_pca = pca.fit_transform(X_train_std)\n",
        "X_test_pca = pca.transform(X_test_std)\n",
        "\n",
        "# Entrenar modelo de regresión lineal con los datos reducidos\n",
        "knn = KNeighborsRegressor()\n",
        "knn.fit(X_train_pca, y_train)\n",
        "\n",
        "# Predecir los valores de energía solar con el conjunto de prueba\n",
        "y_pred = knn.predict(X_test_pca)\n",
        "\n",
        "# Evaluar el modelo con las métricas RMSE y MAE\n",
        "rmse_knn_pca = mean_squared_error(y_test, y_pred, squared=False)\n",
        "mae_knn_pca = mean_absolute_error(y_test, y_pred)\n",
        "r2_knn_pca = r2_score(y_test, y_pred)\n",
        "\n",
        "print('KNN con PCA RMSE:', rmse_knn_pca)\n",
        "print('KNN con PCA MAE:', mae_knn_pca)\n",
        "print('KNN con PCA r2:', r2_knn_pca)"
      ]
    },
    {
      "cell_type": "markdown",
      "metadata": {
        "id": "2G4kFZFZYC0O"
      },
      "source": [
        "Reduccion con arbol de decision:"
      ]
    },
    {
      "cell_type": "code",
      "execution_count": null,
      "metadata": {
        "colab": {
          "background_save": true
        },
        "id": "or4lvWQrYGEq",
        "outputId": "e670242a-016a-43bd-ad3c-2ef5089d1ad9"
      },
      "outputs": [
        {
          "name": "stdout",
          "output_type": "stream",
          "text": [
            "Arbol con PCA RMSE: 5037646.789104209\n",
            "Arbol con PCA MAE: 3637899.1232876712\n",
            "Arbol con PCA r2: 0.5823598414842481\n"
          ]
        }
      ],
      "source": [
        "# Aqui con PCA\n",
        "\n",
        "# Estandarizar los datos\n",
        "scaler = StandardScaler()\n",
        "X_train_std = scaler.fit_transform(X_train)\n",
        "X_test_std = scaler.transform(X_test)\n",
        "\n",
        "# Aplicar PCA para reducir la dimensionalidad a 5 componentes principales\n",
        "pca = PCA(n_components=5)\n",
        "X_train_pca = pca.fit_transform(X_train_std)\n",
        "X_test_pca = pca.transform(X_test_std)\n",
        "\n",
        "# Entrenar modelo de regresión lineal con los datos reducidos\n",
        "tree = DecisionTreeRegressor()\n",
        "tree.fit(X_train_pca, y_train)\n",
        "\n",
        "# Predecir los valores de energía solar con el conjunto de prueba\n",
        "y_pred = tree.predict(X_test_pca)\n",
        "\n",
        "# Evaluar el modelo con las métricas RMSE y MAE\n",
        "rmse_tree_pca = mean_squared_error(y_test, y_pred, squared=False)\n",
        "mae_tree_pca = mean_absolute_error(y_test, y_pred)\n",
        "r2_tree_pca = r2_score(y_test, y_pred)\n",
        "\n",
        "print('Arbol con PCA RMSE:', rmse_tree_pca)\n",
        "print('Arbol con PCA MAE:', mae_tree_pca)\n",
        "print('Arbol con PCA r2:', r2_tree_pca)"
      ]
    },
    {
      "cell_type": "markdown",
      "metadata": {
        "id": "rQSP3_Gtol2y"
      },
      "source": [
        "El número de componentes se refiere a la cantidad de variables o características que se utilizan para representar los datos originales. En el contexto de la reducción de dimensionalidad, el número de componentes se utiliza para indicar cuántas dimensiones se deben mantener después de reducir la dimensionalidad de los datos. Por ejemplo, en el método de análisis de componentes principales (PCA), el número de componentes se refiere al número de componentes principales que se utilizan para representar los datos originales."
      ]
    },
    {
      "cell_type": "markdown",
      "metadata": {
        "id": "T_47_hSLvPH0"
      },
      "source": [
        "# Metodos avanzados"
      ]
    },
    {
      "cell_type": "markdown",
      "metadata": {
        "id": "ujuRGfUpvd46"
      },
      "source": [
        "Metodos SVM y RandomForest con los valores por omision"
      ]
    },
    {
      "cell_type": "markdown",
      "metadata": {
        "id": "OtvZT3fdxMnL"
      },
      "source": [
        "### SVM"
      ]
    },
    {
      "cell_type": "code",
      "execution_count": null,
      "metadata": {
        "colab": {
          "background_save": true
        },
        "id": "YbrS81puIpoH",
        "outputId": "d7d3dd03-5128-4436-89fc-d0bc5a48a9fa"
      },
      "outputs": [
        {
          "name": "stdout",
          "output_type": "stream",
          "text": [
            "SVM valores por omision:\n",
            " RMSE: 8038766.251087065 \n",
            " MAE: 6880516.949987573 \n",
            " r2: -0.0018165756172429325 \n",
            " Tiempo svm: 1.4997260570526123\n"
          ]
        }
      ],
      "source": [
        "# Crear modelo SVM\n",
        "svm = SVR()\n",
        "np.random.seed(12)\n",
        "\n",
        "# Evaluar modelo con 3 mediciones\n",
        "# se mide el tiempo\n",
        "start_time = time.time()\n",
        "svm.fit(X_train, y_train)\n",
        "train_time_svm = time.time() - start_time\n",
        "\n",
        "rmse_svm = np.sqrt(-cross_val_score(svm, X_train, y_train, cv=5, scoring='neg_mean_squared_error')).mean()\n",
        "mae_svm = -cross_val_score(svm, X_train, y_train, cv=5, scoring='neg_mean_absolute_error').mean()\n",
        "r2_svm = cross_val_score(svm, X_train, y_train, cv=5, scoring='r2').mean()\n",
        "\n",
        "\n",
        "print(\"SVM valores por omision:\\n\", \"RMSE:\", rmse_svm, \"\\n\", \"MAE:\", mae_svm, \"\\n\", \"r2:\", r2_svm, \"\\n\", \"Tiempo svm:\", train_time_svm)"
      ]
    },
    {
      "cell_type": "markdown",
      "metadata": {
        "id": "iUcwGfpKxPyK"
      },
      "source": [
        "### RandomForest"
      ]
    },
    {
      "cell_type": "code",
      "execution_count": null,
      "metadata": {
        "colab": {
          "background_save": true
        },
        "id": "dBgKi2vjJsMI",
        "outputId": "49d6749d-9ff7-40a0-c410-3734b9998950"
      },
      "outputs": [
        {
          "name": "stdout",
          "output_type": "stream",
          "text": [
            "Random Forest valores por omisión:\n",
            " RMSE: 3422221.2966615716 \n",
            " MAE: 2417202.739568486 \n",
            " r2: 0.8159683583339461 \n",
            " Tiempo rf: 19.530890226364136\n"
          ]
        }
      ],
      "source": [
        "# Crear modelo de Random Forest\n",
        "rf = RandomForestRegressor()\n",
        "np.random.seed(12)\n",
        "\n",
        "# Entrenar modelo con mediciones y se calculan los errores\n",
        "\n",
        "# Se mide el tiempo\n",
        "start_time = time.time()\n",
        "rf.fit(X_train, y_train)\n",
        "train_time_rf = time.time() - start_time\n",
        "\n",
        "\n",
        "rmse_rf = np.sqrt(-cross_val_score(rf, X_train, y_train, cv=5, scoring='neg_mean_squared_error')).mean()\n",
        "mae_rf = -cross_val_score(rf, X_train, y_train, cv=5, scoring='neg_mean_absolute_error').mean()\n",
        "r2_rf = cross_val_score(rf, X_train, y_train, cv=5, scoring='r2').mean()\n",
        "\n",
        "\n",
        "print(\"Random Forest valores por omisión:\\n\", \"RMSE:\", rmse_rf, \"\\n\", \"MAE:\", mae_rf, \"\\n\", \"r2:\", r2_rf, \"\\n\", \"Tiempo rf:\", train_time_rf)"
      ]
    },
    {
      "cell_type": "markdown",
      "metadata": {
        "id": "J5FfF-ioykKM"
      },
      "source": [
        "Como se puede ver el tiempo de entrenamiento de SVM es mucho menor que el de random forest. Esto puede deberse a la complejidad del modelo, debido a que SVM es un modelo lineal y random forest no es lineal y lo que hace es generar multiples arboles para la prediccion por lo que tarda mas.\n",
        "\n",
        "En cuanto a los errores con los valores por defecto vemos que el random forest tiene menos error en cuanto al entrenamiento, esto puede relacionarse con la linealidad que hemos comentado ya que random forest encuentra relaciones no lineales entre los atributos y la variable objetivo, mientras que SVM solo trabaja con la separacion lineal entre las caracteristicas."
      ]
    },
    {
      "cell_type": "markdown",
      "metadata": {
        "id": "f2fMOOqpz_-K"
      },
      "source": [
        "## Ajuste de hiperparametros"
      ]
    },
    {
      "cell_type": "markdown",
      "metadata": {
        "id": "bA5GKrTX2Ccr"
      },
      "source": [
        "### SVM"
      ]
    },
    {
      "cell_type": "code",
      "execution_count": null,
      "metadata": {
        "colab": {
          "background_save": true
        },
        "id": "skDJmxEkHs94",
        "outputId": "d3849e53-7b0a-48db-b154-1f9e80ea033c"
      },
      "outputs": [
        {
          "name": "stdout",
          "output_type": "stream",
          "text": [
            "SVM:\n",
            " Best parameters: {'C': 100, 'gamma': 'scale', 'kernel': 'linear'} \n",
            " RMSE: 3498447.1392735257 \n",
            " MAE: 2526277.7676473223 \n",
            " r2: 0.8095847721909086\n",
            "Tiempo de entrenamiento svm op: 48.37033033370972\n"
          ]
        }
      ],
      "source": [
        "from sklearn import svm\n",
        "\n",
        "# Crear modelo de SVM1\n",
        "svm_model = svm.SVR()\n",
        "\n",
        "# Definir grid de parámetros\n",
        "param_grid = {\n",
        "    'C': [0.1, 1, 10, 100],\n",
        "    'kernel': ['linear'],\n",
        "    'gamma': ['scale', 'auto']\n",
        "}\n",
        "\n",
        "# Realizar búsqueda de hiperparámetros\n",
        "svm_grid = GridSearchCV(svm_model, param_grid=param_grid, cv=5, scoring='neg_mean_squared_error')\n",
        "\n",
        "# Medir tiempo de entrenamiento\n",
        "start_time = time.time()\n",
        "\n",
        "svm_grid.fit(X_train, y_train)\n",
        "\n",
        "# Calcular tiempo de entrenamiento\n",
        "train_time_svm_op = time.time() - start_time\n",
        "\n",
        "# Obtener los mejores parámetros\n",
        "svm_best_params = svm_grid.best_params_\n",
        "\n",
        "# Entrenar modelo con los mejores parámetros\n",
        "svm_model = svm.SVR(**svm_best_params)\n",
        "svm_model.fit(X_train, y_train)\n",
        "\n",
        "# Evaluar modelo con 3 mediciones\n",
        "rmse_svm_op = np.sqrt(-cross_val_score(svm_model, X_train, y_train, cv=5, scoring='neg_mean_squared_error')).mean()\n",
        "mae_svm_op = -cross_val_score(svm_model, X_train, y_train, cv=5, scoring='neg_mean_absolute_error').mean()\n",
        "r2_svm_op = cross_val_score(svm_model, X_train, y_train, cv=5, scoring='r2').mean()\n",
        "\n",
        "print(\"SVM:\\n\", \"Best parameters:\", svm_best_params, \"\\n\", \"RMSE:\", rmse_svm_op, \"\\n\", \"MAE:\", mae_svm_op, \"\\n\", \"r2:\", r2_svm_op)\n",
        "print('Tiempo de entrenamiento svm op:', train_time_svm_op)"
      ]
    },
    {
      "cell_type": "markdown",
      "metadata": {
        "id": "gKpPObdv22gs"
      },
      "source": [
        "### RandomForest"
      ]
    },
    {
      "cell_type": "code",
      "execution_count": null,
      "metadata": {
        "colab": {
          "background_save": true
        },
        "id": "_W3JTgpaJXiB",
        "outputId": "50f5f8f4-a2ce-42c2-875c-123654892d07"
      },
      "outputs": [
        {
          "name": "stdout",
          "output_type": "stream",
          "text": [
            "Random Forest:\n",
            " Best parameters: {'n_estimators': 400, 'min_samples_split': 5, 'min_samples_leaf': 4, 'max_features': 'sqrt', 'max_depth': None} \n",
            " RMSE: 3352873.716533588 \n",
            " MAE: 2362892.4486892098 \n",
            " r2: 0.824890936654835\n",
            "Tiempo de entrenamiento: 146.9257607460022\n"
          ]
        }
      ],
      "source": [
        "# Crear modelo de Random Forest\n",
        "rf = RandomForestRegressor(random_state=12)\n",
        "\n",
        "# Definir espacio de búsqueda aleatoria\n",
        "param_distributions = {\n",
        "    'n_estimators': [50, 100, 200, 400],\n",
        "    'max_depth': [None, 5, 10],\n",
        "    'min_samples_split': [2, 5, 10],\n",
        "    'min_samples_leaf': [1, 2, 4],\n",
        "    'max_features': ['sqrt', 'log2']\n",
        "}\n",
        "\n",
        "# Realizar búsqueda aleatoria de hiperparámetros\n",
        "rf_random = RandomizedSearchCV(rf, param_distributions=param_distributions, n_iter=10, cv=5, \n",
        "                               scoring='neg_mean_squared_error', random_state=12)\n",
        "\n",
        "# Medir tiempo de entrenamiento\n",
        "start_time = time.time()\n",
        "\n",
        "rf_random.fit(X_train, y_train)\n",
        "\n",
        "# Calcular tiempo de entrenamiento\n",
        "train_time_rf_op = time.time() - start_time\n",
        "\n",
        "# Obtener los mejores parámetros\n",
        "rf_best_params = rf_random.best_params_\n",
        "\n",
        "# Entrenar modelo con los mejores parámetros\n",
        "rf = RandomForestRegressor(**rf_best_params, random_state=12)\n",
        "rf.fit(X_train, y_train)\n",
        "\n",
        "# Evaluar modelo con 3 mediciones\n",
        "rmse_rf_op = np.sqrt(-cross_val_score(rf, X_train, y_train, cv=5, scoring='neg_mean_squared_error')).mean()\n",
        "mae_rf_op = -cross_val_score(rf, X_train, y_train, cv=5, scoring='neg_mean_absolute_error').mean()\n",
        "r2_rf_op = cross_val_score(rf, X_train, y_train, cv=5, scoring='r2').mean()\n",
        "\n",
        "print(\"Random Forest:\\n\", \"Best parameters:\", rf_best_params, \"\\n\", \"RMSE:\", rmse_rf_op, \"\\n\", \n",
        "      \"MAE:\", mae_rf_op, \"\\n\", \"r2:\", r2_rf_op)\n",
        "print('Tiempo de entrenamiento:', train_time_rf_op)\n",
        "\n"
      ]
    },
    {
      "cell_type": "markdown",
      "metadata": {
        "id": "Ye4aDGssWq89"
      },
      "source": [
        "# Seleccion de mejor metodo y entrenamiento"
      ]
    },
    {
      "cell_type": "markdown",
      "metadata": {
        "id": "-_NwvlxYWuK7"
      },
      "source": [
        "Por el desempeño elegimos la regresion lineal o el randomforest con los parametros que mas rendimiento aportan."
      ]
    },
    {
      "cell_type": "code",
      "execution_count": null,
      "metadata": {
        "colab": {
          "background_save": true
        },
        "id": "fTrhHJiwXPpE",
        "outputId": "ce5d86d1-8e81-423f-9b29-1f1476d6dcbe"
      },
      "outputs": [
        {
          "name": "stdout",
          "output_type": "stream",
          "text": [
            "Regresión lineal RMSE: 3192477.8735903334\n",
            "Regresión lineal MAE: 2383828.8798065083\n",
            "Regresion lineal r2: 0.8322731403249728\n",
            "Tiempo de entrenamiento: 0.021448612213134766\n"
          ]
        }
      ],
      "source": [
        "# Crear el modelo de regresión lineal\n",
        "lr = LinearRegression(fit_intercept= False,\n",
        "          copy_X = True,\n",
        "          n_jobs= -1)\n",
        "\n",
        "# Medir tiempo de entrenamiento\n",
        "start_time = time.time()\n",
        "\n",
        "# Entrenar el modelo de regresión lineal con los datos de entrenamiento\n",
        "lr.fit(X_train, y_train)\n",
        "\n",
        "# Calcular tiempo de entrenamiento\n",
        "train_time_lr = time.time() - start_time\n",
        "\n",
        "# Predecir los valores de producción de energía solar con el conjunto de prueba\n",
        "#y_pred = lr.predict(X_test)\n",
        "y_pred = lr.predict(X_test)\n",
        "\n",
        "\n",
        "# Evaluar el modelo con las métricas RMSE y MAE\n",
        "rmse_lr = mean_squared_error(y_test, y_pred, squared=False)\n",
        "mae_lr = mean_absolute_error(y_test, y_pred)\n",
        "r2_lr = r2_score(y_test, y_pred)\n",
        "\n",
        "print('Regresión lineal RMSE:', rmse_lr)\n",
        "print('Regresión lineal MAE:', mae_lr)\n",
        "print('Regresion lineal r2:', r2_lr)\n",
        "print('Tiempo de entrenamiento:', train_time_lr)"
      ]
    },
    {
      "cell_type": "markdown",
      "metadata": {
        "id": "bIbkSG0HYEoJ"
      },
      "source": [
        "Entrenar y exportar el modelo:"
      ]
    },
    {
      "cell_type": "code",
      "execution_count": null,
      "metadata": {
        "colab": {
          "background_save": true
        },
        "id": "qyCqIRD9YIFa"
      },
      "outputs": [],
      "source": [
        "import pickle\n",
        "\n",
        "# Crear el modelo de regresión lineal\n",
        "lr = LinearRegression(fit_intercept= False,\n",
        "          copy_X = True,\n",
        "          n_jobs= -1)\n",
        "# Otro modelo que podria usarse de random forest que tambien es bueno\n",
        "\n",
        "#rf = RandomForestRegressor(n_estimators= 200, min_samples_split= 2, min_samples_leaf= 2, max_features='sqrt', max_depth= None)\n",
        "\n",
        "# Entrenar el modelo de regresión lineal con todos los datos de entrenamiento\n",
        "lr.fit(np.concatenate([X_train, X_test]), np.concatenate([y_train, y_test]))\n",
        "\n",
        "# Guardar el modelo en un archivo llamado \"modelo_final.pkl\"\n",
        "with open(\"modelo_final.pkl\", \"wb\") as f:\n",
        "    pickle.dump(lr, f)\n"
      ]
    },
    {
      "cell_type": "markdown",
      "metadata": {
        "id": "mOJ_1Vw1yUSJ"
      },
      "source": [
        "# CONCLUSION"
      ]
    }
  ],
  "metadata": {
    "colab": {
      "provenance": []
    },
    "kernelspec": {
      "display_name": "Python 3",
      "name": "python3"
    },
    "language_info": {
      "name": "python"
    }
  },
  "nbformat": 4,
  "nbformat_minor": 0
}